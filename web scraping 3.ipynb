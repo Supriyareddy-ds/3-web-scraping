{
 "cells": [
  {
   "cell_type": "markdown",
   "metadata": {},
   "source": [
    "#question 1 & 2"
   ]
  },
  {
   "cell_type": "code",
   "execution_count": 46,
   "metadata": {},
   "outputs": [],
   "source": [
    "import pandas as pd\n",
    "from bs4 import BeautifulSoup\n",
    "import requests\n",
    "import selenium\n",
    "from selenium import webdriver\n",
    "import time"
   ]
  },
  {
   "cell_type": "code",
   "execution_count": 47,
   "metadata": {},
   "outputs": [],
   "source": [
    "driver=webdriver.Chrome(\"Desktop/chromedriver.exe\")"
   ]
  },
  {
   "cell_type": "code",
   "execution_count": 48,
   "metadata": {},
   "outputs": [],
   "source": [
    "driver.get(\"https://www.amazon.in/\")"
   ]
  },
  {
   "cell_type": "code",
   "execution_count": 49,
   "metadata": {},
   "outputs": [],
   "source": [
    "search_phone=driver.find_element_by_xpath(\"//*[@id='twotabsearchtextbox']\")\n",
    "search_phone.send_keys(\"redmi\")"
   ]
  },
  {
   "cell_type": "code",
   "execution_count": 50,
   "metadata": {},
   "outputs": [],
   "source": [
    "search_btn=driver.find_element_by_xpath(\"//*[@id='nav-search-submit-button']\")\n",
    "search_btn.click()"
   ]
  },
  {
   "cell_type": "code",
   "execution_count": 51,
   "metadata": {},
   "outputs": [],
   "source": [
    "url=\"https://www.amazon.in/s?k=redmi&ref=nb_sb_noss_2\""
   ]
  },
  {
   "cell_type": "code",
   "execution_count": 52,
   "metadata": {},
   "outputs": [],
   "source": [
    "driver.get(url)"
   ]
  },
  {
   "cell_type": "code",
   "execution_count": 53,
   "metadata": {},
   "outputs": [],
   "source": [
    "Brand_name=[]\n",
    "Product_name=[]\n",
    "No_of_rating=[]\n",
    "Price=[]\n",
    "Expected_delivery=[]\n",
    "Product_URL=[]"
   ]
  },
  {
   "cell_type": "code",
   "execution_count": 54,
   "metadata": {},
   "outputs": [],
   "source": [
    "def amazon_mob(url):\n",
    "    start_page=0\n",
    "    end_page=3 "
   ]
  },
  {
   "cell_type": "code",
   "execution_count": 62,
   "metadata": {},
   "outputs": [
    {
     "data": {
      "text/plain": [
       "['Samsung Galaxy ',\n",
       " 'Redmi 9 (Sky Bl',\n",
       " 'Redmi 9A (Sea B',\n",
       " 'Redmi 9A (Natur',\n",
       " 'Redmi Note 9 Pr',\n",
       " 'Redmi 9 Power (',\n",
       " 'Redmi 9A (Natur',\n",
       " 'Redmi 9A (Midni',\n",
       " 'Redmi 9 Prime (',\n",
       " 'Oppo A31 (Fanta',\n",
       " 'itel A47 (Ice L',\n",
       " 'Redmi 9 (Carbon',\n",
       " 'Redmi 9 Prime (',\n",
       " 'Redmi 9 Power (',\n",
       " 'Redmi 9 (Sporty',\n",
       " 'Redmi Note 9 (P',\n",
       " 'Redmi 9 Prime (',\n",
       " 'Redmi Note 9 Pr',\n",
       " '(Renewed) Redmi']"
      ]
     },
     "execution_count": 62,
     "metadata": {},
     "output_type": "execute_result"
    }
   ],
   "source": [
    "Brand_tag=driver.find_elements_by_xpath(\"//span[@class='a-size-medium a-color-base a-text-normal']\")\n",
    "for i in Brand_tag:\n",
    "    Brand_name.append(i.text[0:15])\n",
    "Brand_name[0:19]"
   ]
  },
  {
   "cell_type": "code",
   "execution_count": 63,
   "metadata": {},
   "outputs": [
    {
     "data": {
      "text/plain": [
       "['Samsung Gala',\n",
       " 'Redmi 9 (Sky',\n",
       " 'Redmi 9A (Se',\n",
       " 'Redmi 9A (Na',\n",
       " 'Redmi Note 9',\n",
       " 'Redmi 9 Powe',\n",
       " 'Redmi 9A (Na',\n",
       " 'Redmi 9A (Mi',\n",
       " 'Redmi 9 Prim',\n",
       " 'Oppo A31 (Fa',\n",
       " 'itel A47 (Ic',\n",
       " 'Redmi 9 (Car',\n",
       " 'Redmi 9 Prim',\n",
       " 'Redmi 9 Powe',\n",
       " 'Redmi 9 (Spo',\n",
       " 'Redmi Note 9',\n",
       " 'Redmi 9 Prim',\n",
       " 'Redmi Note 9',\n",
       " '(Renewed) Re']"
      ]
     },
     "execution_count": 63,
     "metadata": {},
     "output_type": "execute_result"
    }
   ],
   "source": [
    "Product_tag=driver.find_elements_by_xpath(\"//span[@class='a-size-medium a-color-base a-text-normal']\")\n",
    "for i in Product_tag:\n",
    "    Product_name.append(i.text[0:12])\n",
    "Product_name[0:19]"
   ]
  },
  {
   "cell_type": "code",
   "execution_count": 64,
   "metadata": {},
   "outputs": [
    {
     "data": {
      "text/plain": [
       "['863',\n",
       " '11,390',\n",
       " '13,913',\n",
       " '13,913',\n",
       " '33,539',\n",
       " '3,452',\n",
       " '13,913',\n",
       " '13,913',\n",
       " '14,565',\n",
       " '3,009',\n",
       " '11',\n",
       " '11,390',\n",
       " '14,565',\n",
       " '3,452',\n",
       " '11,390',\n",
       " '27,201',\n",
       " '14,565',\n",
       " '33,539',\n",
       " '144']"
      ]
     },
     "execution_count": 64,
     "metadata": {},
     "output_type": "execute_result"
    }
   ],
   "source": [
    "No_of_rating_tag=driver.find_elements_by_xpath(\"//span[@class='a-size-base']\")\n",
    "for i in No_of_rating_tag:\n",
    "    No_of_rating.append(i.text)\n",
    "No_of_rating[0:19]"
   ]
  },
  {
   "cell_type": "code",
   "execution_count": 65,
   "metadata": {
    "scrolled": true
   },
   "outputs": [
    {
     "data": {
      "text/plain": [
       "['7,499',\n",
       " '8,799',\n",
       " '6,799',\n",
       " '6,799',\n",
       " '12,999',\n",
       " '10,499',\n",
       " '7,499',\n",
       " '6,799',\n",
       " '9,499',\n",
       " '11,990',\n",
       " '5,499',\n",
       " '8,799',\n",
       " '9,499',\n",
       " '10,499',\n",
       " '8,799',\n",
       " '10,999',\n",
       " '9,499',\n",
       " '12,999',\n",
       " '10,999']"
      ]
     },
     "execution_count": 65,
     "metadata": {},
     "output_type": "execute_result"
    }
   ],
   "source": [
    "Price_tag=driver.find_elements_by_xpath(\"//span[@class='a-price-whole']\")\n",
    "for i in Price_tag:\n",
    "    Price.append(i.text)\n",
    "Price[0:19]"
   ]
  },
  {
   "cell_type": "code",
   "execution_count": 66,
   "metadata": {},
   "outputs": [
    {
     "data": {
      "text/plain": [
       "['Tomorrow 11AM',\n",
       " 'Tomorrow, March 1',\n",
       " 'Tomorrow 11AM',\n",
       " 'Tomorrow 11AM',\n",
       " 'Tomorrow 11AM',\n",
       " 'Tomorrow 11AM',\n",
       " 'Tuesday, March 2',\n",
       " 'Tomorrow 11AM',\n",
       " 'Tomorrow, March 1',\n",
       " 'Tomorrow 11AM',\n",
       " 'Tomorrow 11AM',\n",
       " 'Tomorrow, March 1',\n",
       " 'Tomorrow 11AM',\n",
       " 'Tomorrow 11AM',\n",
       " 'Tomorrow, March 1',\n",
       " 'Tomorrow 11AM',\n",
       " 'Tomorrow 11AM',\n",
       " 'Tomorrow 11AM',\n",
       " 'Tomorrow 11AM']"
      ]
     },
     "execution_count": 66,
     "metadata": {},
     "output_type": "execute_result"
    }
   ],
   "source": [
    "Expected_delivery_tag=driver.find_elements_by_xpath(\"//span[@class='a-text-bold']\")\n",
    "for i in Expected_delivery_tag:\n",
    "    Expected_delivery.append(i.text)\n",
    "Expected_delivery[0:19]"
   ]
  },
  {
   "cell_type": "code",
   "execution_count": 67,
   "metadata": {
    "scrolled": false
   },
   "outputs": [
    {
     "name": "stdout",
     "output_type": "stream",
     "text": [
      "['https://www.amazon.in/gp/slredirect/picassoRedirect.html/ref=pa_sp_atf_aps_sr_pg1_1?ie=UTF8&adId=A0331341254VXQYFWS8XA&url=%2FSamsung-Galaxy-Black-32GB-Storage%2Fdp%2FB08T2QR7NK%2Fref%3Dsr_1_1_sspa%3Fdchild%3D1%26keywords%3Dredmi%26qid%3D1614515760%26sr%3D8-1-spons%26psc%3D1&qualifier=1614515760&id=7276371450750615&widgetName=sp_atf', 'https://www.amazon.in/gp/slredirect/picassoRedirect.html/ref=pa_sp_atf_aps_sr_pg1_1?ie=UTF8&adId=A0331341254VXQYFWS8XA&url=%2FSamsung-Galaxy-Black-32GB-Storage%2Fdp%2FB08T2QR7NK%2Fref%3Dsr_1_1_sspa%3Fdchild%3D1%26keywords%3Dredmi%26qid%3D1614515760%26sr%3D8-1-spons%26psc%3D1&qualifier=1614515760&id=7276371450750615&widgetName=sp_atf', 'https://www.amazon.in/gp/slredirect/picassoRedirect.html/ref=pa_sp_atf_aps_sr_pg1_1?ie=UTF8&adId=A0331341254VXQYFWS8XA&url=%2FSamsung-Galaxy-Black-32GB-Storage%2Fdp%2FB08T2QR7NK%2Fref%3Dsr_1_1_sspa%3Fdchild%3D1%26keywords%3Dredmi%26qid%3D1614515760%26sr%3D8-1-spons%26psc%3D1&qualifier=1614515760&id=7276371450750615&widgetName=sp_atf', 'https://www.amazon.in/gp/slredirect/picassoRedirect.html/ref=pa_sp_atf_aps_sr_pg1_1?ie=UTF8&adId=A0331341254VXQYFWS8XA&url=%2FSamsung-Galaxy-Black-32GB-Storage%2Fdp%2FB08T2QR7NK%2Fref%3Dsr_1_1_sspa%3Fdchild%3D1%26keywords%3Dredmi%26qid%3D1614515760%26sr%3D8-1-spons%26psc%3D1&qualifier=1614515760&id=7276371450750615&widgetName=sp_atf', 'https://www.amazon.in/gp/slredirect/picassoRedirect.html/ref=pa_sp_atf_aps_sr_pg1_1?ie=UTF8&adId=A0331341254VXQYFWS8XA&url=%2FSamsung-Galaxy-Black-32GB-Storage%2Fdp%2FB08T2QR7NK%2Fref%3Dsr_1_1_sspa%3Fdchild%3D1%26keywords%3Dredmi%26qid%3D1614515760%26sr%3D8-1-spons%26psc%3D1&qualifier=1614515760&id=7276371450750615&widgetName=sp_atf', 'https://www.amazon.in/gp/slredirect/picassoRedirect.html/ref=pa_sp_atf_aps_sr_pg1_1?ie=UTF8&adId=A0331341254VXQYFWS8XA&url=%2FSamsung-Galaxy-Black-32GB-Storage%2Fdp%2FB08T2QR7NK%2Fref%3Dsr_1_1_sspa%3Fdchild%3D1%26keywords%3Dredmi%26qid%3D1614515760%26sr%3D8-1-spons%26psc%3D1&qualifier=1614515760&id=7276371450750615&widgetName=sp_atf', 'https://www.amazon.in/gp/slredirect/picassoRedirect.html/ref=pa_sp_atf_aps_sr_pg1_1?ie=UTF8&adId=A0331341254VXQYFWS8XA&url=%2FSamsung-Galaxy-Black-32GB-Storage%2Fdp%2FB08T2QR7NK%2Fref%3Dsr_1_1_sspa%3Fdchild%3D1%26keywords%3Dredmi%26qid%3D1614515760%26sr%3D8-1-spons%26psc%3D1&qualifier=1614515760&id=7276371450750615&widgetName=sp_atf', 'https://www.amazon.in/gp/slredirect/picassoRedirect.html/ref=pa_sp_atf_aps_sr_pg1_1?ie=UTF8&adId=A0331341254VXQYFWS8XA&url=%2FSamsung-Galaxy-Black-32GB-Storage%2Fdp%2FB08T2QR7NK%2Fref%3Dsr_1_1_sspa%3Fdchild%3D1%26keywords%3Dredmi%26qid%3D1614515760%26sr%3D8-1-spons%26psc%3D1&qualifier=1614515760&id=7276371450750615&widgetName=sp_atf', 'https://www.amazon.in/gp/slredirect/picassoRedirect.html/ref=pa_sp_atf_aps_sr_pg1_1?ie=UTF8&adId=A0331341254VXQYFWS8XA&url=%2FSamsung-Galaxy-Black-32GB-Storage%2Fdp%2FB08T2QR7NK%2Fref%3Dsr_1_1_sspa%3Fdchild%3D1%26keywords%3Dredmi%26qid%3D1614515760%26sr%3D8-1-spons%26psc%3D1&qualifier=1614515760&id=7276371450750615&widgetName=sp_atf', 'https://www.amazon.in/gp/slredirect/picassoRedirect.html/ref=pa_sp_atf_aps_sr_pg1_1?ie=UTF8&adId=A0331341254VXQYFWS8XA&url=%2FSamsung-Galaxy-Black-32GB-Storage%2Fdp%2FB08T2QR7NK%2Fref%3Dsr_1_1_sspa%3Fdchild%3D1%26keywords%3Dredmi%26qid%3D1614515760%26sr%3D8-1-spons%26psc%3D1&qualifier=1614515760&id=7276371450750615&widgetName=sp_atf', 'https://www.amazon.in/gp/slredirect/picassoRedirect.html/ref=pa_sp_atf_aps_sr_pg1_1?ie=UTF8&adId=A0331341254VXQYFWS8XA&url=%2FSamsung-Galaxy-Black-32GB-Storage%2Fdp%2FB08T2QR7NK%2Fref%3Dsr_1_1_sspa%3Fdchild%3D1%26keywords%3Dredmi%26qid%3D1614515760%26sr%3D8-1-spons%26psc%3D1&qualifier=1614515760&id=7276371450750615&widgetName=sp_atf', 'https://www.amazon.in/gp/slredirect/picassoRedirect.html/ref=pa_sp_atf_aps_sr_pg1_1?ie=UTF8&adId=A0331341254VXQYFWS8XA&url=%2FSamsung-Galaxy-Black-32GB-Storage%2Fdp%2FB08T2QR7NK%2Fref%3Dsr_1_1_sspa%3Fdchild%3D1%26keywords%3Dredmi%26qid%3D1614515760%26sr%3D8-1-spons%26psc%3D1&qualifier=1614515760&id=7276371450750615&widgetName=sp_atf', 'https://www.amazon.in/gp/slredirect/picassoRedirect.html/ref=pa_sp_atf_aps_sr_pg1_1?ie=UTF8&adId=A0331341254VXQYFWS8XA&url=%2FSamsung-Galaxy-Black-32GB-Storage%2Fdp%2FB08T2QR7NK%2Fref%3Dsr_1_1_sspa%3Fdchild%3D1%26keywords%3Dredmi%26qid%3D1614515760%26sr%3D8-1-spons%26psc%3D1&qualifier=1614515760&id=7276371450750615&widgetName=sp_atf', 'https://www.amazon.in/gp/slredirect/picassoRedirect.html/ref=pa_sp_atf_aps_sr_pg1_1?ie=UTF8&adId=A0331341254VXQYFWS8XA&url=%2FSamsung-Galaxy-Black-32GB-Storage%2Fdp%2FB08T2QR7NK%2Fref%3Dsr_1_1_sspa%3Fdchild%3D1%26keywords%3Dredmi%26qid%3D1614515760%26sr%3D8-1-spons%26psc%3D1&qualifier=1614515760&id=7276371450750615&widgetName=sp_atf', 'https://www.amazon.in/gp/slredirect/picassoRedirect.html/ref=pa_sp_atf_aps_sr_pg1_1?ie=UTF8&adId=A0331341254VXQYFWS8XA&url=%2FSamsung-Galaxy-Black-32GB-Storage%2Fdp%2FB08T2QR7NK%2Fref%3Dsr_1_1_sspa%3Fdchild%3D1%26keywords%3Dredmi%26qid%3D1614515760%26sr%3D8-1-spons%26psc%3D1&qualifier=1614515760&id=7276371450750615&widgetName=sp_atf', 'https://www.amazon.in/gp/slredirect/picassoRedirect.html/ref=pa_sp_atf_aps_sr_pg1_1?ie=UTF8&adId=A0331341254VXQYFWS8XA&url=%2FSamsung-Galaxy-Black-32GB-Storage%2Fdp%2FB08T2QR7NK%2Fref%3Dsr_1_1_sspa%3Fdchild%3D1%26keywords%3Dredmi%26qid%3D1614515760%26sr%3D8-1-spons%26psc%3D1&qualifier=1614515760&id=7276371450750615&widgetName=sp_atf', 'https://www.amazon.in/gp/slredirect/picassoRedirect.html/ref=pa_sp_atf_aps_sr_pg1_1?ie=UTF8&adId=A0331341254VXQYFWS8XA&url=%2FSamsung-Galaxy-Black-32GB-Storage%2Fdp%2FB08T2QR7NK%2Fref%3Dsr_1_1_sspa%3Fdchild%3D1%26keywords%3Dredmi%26qid%3D1614515760%26sr%3D8-1-spons%26psc%3D1&qualifier=1614515760&id=7276371450750615&widgetName=sp_atf', 'https://www.amazon.in/gp/slredirect/picassoRedirect.html/ref=pa_sp_atf_aps_sr_pg1_1?ie=UTF8&adId=A0331341254VXQYFWS8XA&url=%2FSamsung-Galaxy-Black-32GB-Storage%2Fdp%2FB08T2QR7NK%2Fref%3Dsr_1_1_sspa%3Fdchild%3D1%26keywords%3Dredmi%26qid%3D1614515760%26sr%3D8-1-spons%26psc%3D1&qualifier=1614515760&id=7276371450750615&widgetName=sp_atf', 'https://www.amazon.in/gp/slredirect/picassoRedirect.html/ref=pa_sp_atf_aps_sr_pg1_1?ie=UTF8&adId=A0331341254VXQYFWS8XA&url=%2FSamsung-Galaxy-Black-32GB-Storage%2Fdp%2FB08T2QR7NK%2Fref%3Dsr_1_1_sspa%3Fdchild%3D1%26keywords%3Dredmi%26qid%3D1614515760%26sr%3D8-1-spons%26psc%3D1&qualifier=1614515760&id=7276371450750615&widgetName=sp_atf', 'https://www.amazon.in/gp/slredirect/picassoRedirect.html/ref=pa_sp_atf_aps_sr_pg1_1?ie=UTF8&adId=A0331341254VXQYFWS8XA&url=%2FSamsung-Galaxy-Black-32GB-Storage%2Fdp%2FB08T2QR7NK%2Fref%3Dsr_1_1_sspa%3Fdchild%3D1%26keywords%3Dredmi%26qid%3D1614515760%26sr%3D8-1-spons%26psc%3D1&qualifier=1614515760&id=7276371450750615&widgetName=sp_atf', 'https://www.amazon.in/gp/slredirect/picassoRedirect.html/ref=pa_sp_atf_aps_sr_pg1_1?ie=UTF8&adId=A0331341254VXQYFWS8XA&url=%2FSamsung-Galaxy-Black-32GB-Storage%2Fdp%2FB08T2QR7NK%2Fref%3Dsr_1_1_sspa%3Fdchild%3D1%26keywords%3Dredmi%26qid%3D1614515760%26sr%3D8-1-spons%26psc%3D1&qualifier=1614515760&id=7276371450750615&widgetName=sp_atf', 'https://www.amazon.in/gp/slredirect/picassoRedirect.html/ref=pa_sp_atf_aps_sr_pg1_1?ie=UTF8&adId=A0331341254VXQYFWS8XA&url=%2FSamsung-Galaxy-Black-32GB-Storage%2Fdp%2FB08T2QR7NK%2Fref%3Dsr_1_1_sspa%3Fdchild%3D1%26keywords%3Dredmi%26qid%3D1614515760%26sr%3D8-1-spons%26psc%3D1&qualifier=1614515760&id=7276371450750615&widgetName=sp_atf', 'https://www.amazon.in/gp/slredirect/picassoRedirect.html/ref=pa_sp_atf_aps_sr_pg1_1?ie=UTF8&adId=A0331341254VXQYFWS8XA&url=%2FSamsung-Galaxy-Black-32GB-Storage%2Fdp%2FB08T2QR7NK%2Fref%3Dsr_1_1_sspa%3Fdchild%3D1%26keywords%3Dredmi%26qid%3D1614515760%26sr%3D8-1-spons%26psc%3D1&qualifier=1614515760&id=7276371450750615&widgetName=sp_atf', 'https://www.amazon.in/gp/slredirect/picassoRedirect.html/ref=pa_sp_atf_aps_sr_pg1_1?ie=UTF8&adId=A0331341254VXQYFWS8XA&url=%2FSamsung-Galaxy-Black-32GB-Storage%2Fdp%2FB08T2QR7NK%2Fref%3Dsr_1_1_sspa%3Fdchild%3D1%26keywords%3Dredmi%26qid%3D1614515760%26sr%3D8-1-spons%26psc%3D1&qualifier=1614515760&id=7276371450750615&widgetName=sp_atf', 'https://www.amazon.in/gp/slredirect/picassoRedirect.html/ref=pa_sp_atf_aps_sr_pg1_1?ie=UTF8&adId=A0331341254VXQYFWS8XA&url=%2FSamsung-Galaxy-Black-32GB-Storage%2Fdp%2FB08T2QR7NK%2Fref%3Dsr_1_1_sspa%3Fdchild%3D1%26keywords%3Dredmi%26qid%3D1614515760%26sr%3D8-1-spons%26psc%3D1&qualifier=1614515760&id=7276371450750615&widgetName=sp_atf', 'https://www.amazon.in/gp/slredirect/picassoRedirect.html/ref=pa_sp_atf_aps_sr_pg1_1?ie=UTF8&adId=A0331341254VXQYFWS8XA&url=%2FSamsung-Galaxy-Black-32GB-Storage%2Fdp%2FB08T2QR7NK%2Fref%3Dsr_1_1_sspa%3Fdchild%3D1%26keywords%3Dredmi%26qid%3D1614515760%26sr%3D8-1-spons%26psc%3D1&qualifier=1614515760&id=7276371450750615&widgetName=sp_atf', 'https://www.amazon.in/gp/slredirect/picassoRedirect.html/ref=pa_sp_atf_aps_sr_pg1_1?ie=UTF8&adId=A0331341254VXQYFWS8XA&url=%2FSamsung-Galaxy-Black-32GB-Storage%2Fdp%2FB08T2QR7NK%2Fref%3Dsr_1_1_sspa%3Fdchild%3D1%26keywords%3Dredmi%26qid%3D1614515760%26sr%3D8-1-spons%26psc%3D1&qualifier=1614515760&id=7276371450750615&widgetName=sp_atf', 'https://www.amazon.in/gp/slredirect/picassoRedirect.html/ref=pa_sp_atf_aps_sr_pg1_1?ie=UTF8&adId=A0331341254VXQYFWS8XA&url=%2FSamsung-Galaxy-Black-32GB-Storage%2Fdp%2FB08T2QR7NK%2Fref%3Dsr_1_1_sspa%3Fdchild%3D1%26keywords%3Dredmi%26qid%3D1614515760%26sr%3D8-1-spons%26psc%3D1&qualifier=1614515760&id=7276371450750615&widgetName=sp_atf', 'https://www.amazon.in/gp/slredirect/picassoRedirect.html/ref=pa_sp_atf_aps_sr_pg1_1?ie=UTF8&adId=A0331341254VXQYFWS8XA&url=%2FSamsung-Galaxy-Black-32GB-Storage%2Fdp%2FB08T2QR7NK%2Fref%3Dsr_1_1_sspa%3Fdchild%3D1%26keywords%3Dredmi%26qid%3D1614515760%26sr%3D8-1-spons%26psc%3D1&qualifier=1614515760&id=7276371450750615&widgetName=sp_atf', 'https://www.amazon.in/gp/slredirect/picassoRedirect.html/ref=pa_sp_atf_aps_sr_pg1_1?ie=UTF8&adId=A0331341254VXQYFWS8XA&url=%2FSamsung-Galaxy-Black-32GB-Storage%2Fdp%2FB08T2QR7NK%2Fref%3Dsr_1_1_sspa%3Fdchild%3D1%26keywords%3Dredmi%26qid%3D1614515760%26sr%3D8-1-spons%26psc%3D1&qualifier=1614515760&id=7276371450750615&widgetName=sp_atf', 'https://www.amazon.in/gp/slredirect/picassoRedirect.html/ref=pa_sp_atf_aps_sr_pg1_1?ie=UTF8&adId=A0331341254VXQYFWS8XA&url=%2FSamsung-Galaxy-Black-32GB-Storage%2Fdp%2FB08T2QR7NK%2Fref%3Dsr_1_1_sspa%3Fdchild%3D1%26keywords%3Dredmi%26qid%3D1614515760%26sr%3D8-1-spons%26psc%3D1&qualifier=1614515760&id=7276371450750615&widgetName=sp_atf', 'https://www.amazon.in/gp/slredirect/picassoRedirect.html/ref=pa_sp_atf_aps_sr_pg1_1?ie=UTF8&adId=A0331341254VXQYFWS8XA&url=%2FSamsung-Galaxy-Black-32GB-Storage%2Fdp%2FB08T2QR7NK%2Fref%3Dsr_1_1_sspa%3Fdchild%3D1%26keywords%3Dredmi%26qid%3D1614515760%26sr%3D8-1-spons%26psc%3D1&qualifier=1614515760&id=7276371450750615&widgetName=sp_atf', 'https://www.amazon.in/gp/slredirect/picassoRedirect.html/ref=pa_sp_atf_aps_sr_pg1_1?ie=UTF8&adId=A0331341254VXQYFWS8XA&url=%2FSamsung-Galaxy-Black-32GB-Storage%2Fdp%2FB08T2QR7NK%2Fref%3Dsr_1_1_sspa%3Fdchild%3D1%26keywords%3Dredmi%26qid%3D1614515760%26sr%3D8-1-spons%26psc%3D1&qualifier=1614515760&id=7276371450750615&widgetName=sp_atf', 'https://www.amazon.in/gp/slredirect/picassoRedirect.html/ref=pa_sp_atf_aps_sr_pg1_1?ie=UTF8&adId=A0331341254VXQYFWS8XA&url=%2FSamsung-Galaxy-Black-32GB-Storage%2Fdp%2FB08T2QR7NK%2Fref%3Dsr_1_1_sspa%3Fdchild%3D1%26keywords%3Dredmi%26qid%3D1614515760%26sr%3D8-1-spons%26psc%3D1&qualifier=1614515760&id=7276371450750615&widgetName=sp_atf', 'https://www.amazon.in/gp/slredirect/picassoRedirect.html/ref=pa_sp_atf_aps_sr_pg1_1?ie=UTF8&adId=A0331341254VXQYFWS8XA&url=%2FSamsung-Galaxy-Black-32GB-Storage%2Fdp%2FB08T2QR7NK%2Fref%3Dsr_1_1_sspa%3Fdchild%3D1%26keywords%3Dredmi%26qid%3D1614515760%26sr%3D8-1-spons%26psc%3D1&qualifier=1614515760&id=7276371450750615&widgetName=sp_atf', 'https://www.amazon.in/gp/slredirect/picassoRedirect.html/ref=pa_sp_atf_aps_sr_pg1_1?ie=UTF8&adId=A0331341254VXQYFWS8XA&url=%2FSamsung-Galaxy-Black-32GB-Storage%2Fdp%2FB08T2QR7NK%2Fref%3Dsr_1_1_sspa%3Fdchild%3D1%26keywords%3Dredmi%26qid%3D1614515760%26sr%3D8-1-spons%26psc%3D1&qualifier=1614515760&id=7276371450750615&widgetName=sp_atf', 'https://www.amazon.in/gp/slredirect/picassoRedirect.html/ref=pa_sp_atf_aps_sr_pg1_1?ie=UTF8&adId=A0331341254VXQYFWS8XA&url=%2FSamsung-Galaxy-Black-32GB-Storage%2Fdp%2FB08T2QR7NK%2Fref%3Dsr_1_1_sspa%3Fdchild%3D1%26keywords%3Dredmi%26qid%3D1614515760%26sr%3D8-1-spons%26psc%3D1&qualifier=1614515760&id=7276371450750615&widgetName=sp_atf', 'https://www.amazon.in/gp/slredirect/picassoRedirect.html/ref=pa_sp_atf_aps_sr_pg1_1?ie=UTF8&adId=A0331341254VXQYFWS8XA&url=%2FSamsung-Galaxy-Black-32GB-Storage%2Fdp%2FB08T2QR7NK%2Fref%3Dsr_1_1_sspa%3Fdchild%3D1%26keywords%3Dredmi%26qid%3D1614515760%26sr%3D8-1-spons%26psc%3D1&qualifier=1614515760&id=7276371450750615&widgetName=sp_atf', 'https://www.amazon.in/gp/slredirect/picassoRedirect.html/ref=pa_sp_atf_aps_sr_pg1_1?ie=UTF8&adId=A0331341254VXQYFWS8XA&url=%2FSamsung-Galaxy-Black-32GB-Storage%2Fdp%2FB08T2QR7NK%2Fref%3Dsr_1_1_sspa%3Fdchild%3D1%26keywords%3Dredmi%26qid%3D1614515760%26sr%3D8-1-spons%26psc%3D1&qualifier=1614515760&id=7276371450750615&widgetName=sp_atf', 'https://www.amazon.in/gp/slredirect/picassoRedirect.html/ref=pa_sp_atf_aps_sr_pg1_1?ie=UTF8&adId=A0331341254VXQYFWS8XA&url=%2FSamsung-Galaxy-Black-32GB-Storage%2Fdp%2FB08T2QR7NK%2Fref%3Dsr_1_1_sspa%3Fdchild%3D1%26keywords%3Dredmi%26qid%3D1614515760%26sr%3D8-1-spons%26psc%3D1&qualifier=1614515760&id=7276371450750615&widgetName=sp_atf', 'https://www.amazon.in/gp/slredirect/picassoRedirect.html/ref=pa_sp_atf_aps_sr_pg1_1?ie=UTF8&adId=A0331341254VXQYFWS8XA&url=%2FSamsung-Galaxy-Black-32GB-Storage%2Fdp%2FB08T2QR7NK%2Fref%3Dsr_1_1_sspa%3Fdchild%3D1%26keywords%3Dredmi%26qid%3D1614515760%26sr%3D8-1-spons%26psc%3D1&qualifier=1614515760&id=7276371450750615&widgetName=sp_atf', 'https://www.amazon.in/gp/slredirect/picassoRedirect.html/ref=pa_sp_atf_aps_sr_pg1_1?ie=UTF8&adId=A0331341254VXQYFWS8XA&url=%2FSamsung-Galaxy-Black-32GB-Storage%2Fdp%2FB08T2QR7NK%2Fref%3Dsr_1_1_sspa%3Fdchild%3D1%26keywords%3Dredmi%26qid%3D1614515760%26sr%3D8-1-spons%26psc%3D1&qualifier=1614515760&id=7276371450750615&widgetName=sp_atf', 'https://www.amazon.in/gp/slredirect/picassoRedirect.html/ref=pa_sp_atf_aps_sr_pg1_1?ie=UTF8&adId=A0331341254VXQYFWS8XA&url=%2FSamsung-Galaxy-Black-32GB-Storage%2Fdp%2FB08T2QR7NK%2Fref%3Dsr_1_1_sspa%3Fdchild%3D1%26keywords%3Dredmi%26qid%3D1614515760%26sr%3D8-1-spons%26psc%3D1&qualifier=1614515760&id=7276371450750615&widgetName=sp_atf', 'https://www.amazon.in/gp/slredirect/picassoRedirect.html/ref=pa_sp_atf_aps_sr_pg1_1?ie=UTF8&adId=A0331341254VXQYFWS8XA&url=%2FSamsung-Galaxy-Black-32GB-Storage%2Fdp%2FB08T2QR7NK%2Fref%3Dsr_1_1_sspa%3Fdchild%3D1%26keywords%3Dredmi%26qid%3D1614515760%26sr%3D8-1-spons%26psc%3D1&qualifier=1614515760&id=7276371450750615&widgetName=sp_atf', 'https://www.amazon.in/gp/slredirect/picassoRedirect.html/ref=pa_sp_atf_aps_sr_pg1_1?ie=UTF8&adId=A0331341254VXQYFWS8XA&url=%2FSamsung-Galaxy-Black-32GB-Storage%2Fdp%2FB08T2QR7NK%2Fref%3Dsr_1_1_sspa%3Fdchild%3D1%26keywords%3Dredmi%26qid%3D1614515760%26sr%3D8-1-spons%26psc%3D1&qualifier=1614515760&id=7276371450750615&widgetName=sp_atf', 'https://www.amazon.in/gp/slredirect/picassoRedirect.html/ref=pa_sp_atf_aps_sr_pg1_1?ie=UTF8&adId=A0331341254VXQYFWS8XA&url=%2FSamsung-Galaxy-Black-32GB-Storage%2Fdp%2FB08T2QR7NK%2Fref%3Dsr_1_1_sspa%3Fdchild%3D1%26keywords%3Dredmi%26qid%3D1614515760%26sr%3D8-1-spons%26psc%3D1&qualifier=1614515760&id=7276371450750615&widgetName=sp_atf', 'https://www.amazon.in/gp/slredirect/picassoRedirect.html/ref=pa_sp_atf_aps_sr_pg1_1?ie=UTF8&adId=A0331341254VXQYFWS8XA&url=%2FSamsung-Galaxy-Black-32GB-Storage%2Fdp%2FB08T2QR7NK%2Fref%3Dsr_1_1_sspa%3Fdchild%3D1%26keywords%3Dredmi%26qid%3D1614515760%26sr%3D8-1-spons%26psc%3D1&qualifier=1614515760&id=7276371450750615&widgetName=sp_atf', 'https://www.amazon.in/gp/slredirect/picassoRedirect.html/ref=pa_sp_atf_aps_sr_pg1_1?ie=UTF8&adId=A0331341254VXQYFWS8XA&url=%2FSamsung-Galaxy-Black-32GB-Storage%2Fdp%2FB08T2QR7NK%2Fref%3Dsr_1_1_sspa%3Fdchild%3D1%26keywords%3Dredmi%26qid%3D1614515760%26sr%3D8-1-spons%26psc%3D1&qualifier=1614515760&id=7276371450750615&widgetName=sp_atf', 'https://www.amazon.in/gp/slredirect/picassoRedirect.html/ref=pa_sp_atf_aps_sr_pg1_1?ie=UTF8&adId=A0331341254VXQYFWS8XA&url=%2FSamsung-Galaxy-Black-32GB-Storage%2Fdp%2FB08T2QR7NK%2Fref%3Dsr_1_1_sspa%3Fdchild%3D1%26keywords%3Dredmi%26qid%3D1614515760%26sr%3D8-1-spons%26psc%3D1&qualifier=1614515760&id=7276371450750615&widgetName=sp_atf', 'https://www.amazon.in/gp/slredirect/picassoRedirect.html/ref=pa_sp_atf_aps_sr_pg1_1?ie=UTF8&adId=A0331341254VXQYFWS8XA&url=%2FSamsung-Galaxy-Black-32GB-Storage%2Fdp%2FB08T2QR7NK%2Fref%3Dsr_1_1_sspa%3Fdchild%3D1%26keywords%3Dredmi%26qid%3D1614515760%26sr%3D8-1-spons%26psc%3D1&qualifier=1614515760&id=7276371450750615&widgetName=sp_atf', 'https://www.amazon.in/gp/slredirect/picassoRedirect.html/ref=pa_sp_atf_aps_sr_pg1_1?ie=UTF8&adId=A0331341254VXQYFWS8XA&url=%2FSamsung-Galaxy-Black-32GB-Storage%2Fdp%2FB08T2QR7NK%2Fref%3Dsr_1_1_sspa%3Fdchild%3D1%26keywords%3Dredmi%26qid%3D1614515760%26sr%3D8-1-spons%26psc%3D1&qualifier=1614515760&id=7276371450750615&widgetName=sp_atf', 'https://www.amazon.in/gp/slredirect/picassoRedirect.html/ref=pa_sp_atf_aps_sr_pg1_1?ie=UTF8&adId=A0331341254VXQYFWS8XA&url=%2FSamsung-Galaxy-Black-32GB-Storage%2Fdp%2FB08T2QR7NK%2Fref%3Dsr_1_1_sspa%3Fdchild%3D1%26keywords%3Dredmi%26qid%3D1614515760%26sr%3D8-1-spons%26psc%3D1&qualifier=1614515760&id=7276371450750615&widgetName=sp_atf', 'https://www.amazon.in/gp/slredirect/picassoRedirect.html/ref=pa_sp_atf_aps_sr_pg1_1?ie=UTF8&adId=A0331341254VXQYFWS8XA&url=%2FSamsung-Galaxy-Black-32GB-Storage%2Fdp%2FB08T2QR7NK%2Fref%3Dsr_1_1_sspa%3Fdchild%3D1%26keywords%3Dredmi%26qid%3D1614515760%26sr%3D8-1-spons%26psc%3D1&qualifier=1614515760&id=7276371450750615&widgetName=sp_atf', 'https://www.amazon.in/gp/slredirect/picassoRedirect.html/ref=pa_sp_atf_aps_sr_pg1_1?ie=UTF8&adId=A0331341254VXQYFWS8XA&url=%2FSamsung-Galaxy-Black-32GB-Storage%2Fdp%2FB08T2QR7NK%2Fref%3Dsr_1_1_sspa%3Fdchild%3D1%26keywords%3Dredmi%26qid%3D1614515760%26sr%3D8-1-spons%26psc%3D1&qualifier=1614515760&id=7276371450750615&widgetName=sp_atf', 'https://www.amazon.in/gp/slredirect/picassoRedirect.html/ref=pa_sp_atf_aps_sr_pg1_1?ie=UTF8&adId=A0331341254VXQYFWS8XA&url=%2FSamsung-Galaxy-Black-32GB-Storage%2Fdp%2FB08T2QR7NK%2Fref%3Dsr_1_1_sspa%3Fdchild%3D1%26keywords%3Dredmi%26qid%3D1614515760%26sr%3D8-1-spons%26psc%3D1&qualifier=1614515760&id=7276371450750615&widgetName=sp_atf', 'https://www.amazon.in/gp/slredirect/picassoRedirect.html/ref=pa_sp_atf_aps_sr_pg1_1?ie=UTF8&adId=A0331341254VXQYFWS8XA&url=%2FSamsung-Galaxy-Black-32GB-Storage%2Fdp%2FB08T2QR7NK%2Fref%3Dsr_1_1_sspa%3Fdchild%3D1%26keywords%3Dredmi%26qid%3D1614515760%26sr%3D8-1-spons%26psc%3D1&qualifier=1614515760&id=7276371450750615&widgetName=sp_atf', 'https://www.amazon.in/gp/slredirect/picassoRedirect.html/ref=pa_sp_atf_aps_sr_pg1_1?ie=UTF8&adId=A0331341254VXQYFWS8XA&url=%2FSamsung-Galaxy-Black-32GB-Storage%2Fdp%2FB08T2QR7NK%2Fref%3Dsr_1_1_sspa%3Fdchild%3D1%26keywords%3Dredmi%26qid%3D1614515760%26sr%3D8-1-spons%26psc%3D1&qualifier=1614515760&id=7276371450750615&widgetName=sp_atf', 'https://www.amazon.in/gp/slredirect/picassoRedirect.html/ref=pa_sp_atf_aps_sr_pg1_1?ie=UTF8&adId=A0331341254VXQYFWS8XA&url=%2FSamsung-Galaxy-Black-32GB-Storage%2Fdp%2FB08T2QR7NK%2Fref%3Dsr_1_1_sspa%3Fdchild%3D1%26keywords%3Dredmi%26qid%3D1614515760%26sr%3D8-1-spons%26psc%3D1&qualifier=1614515760&id=7276371450750615&widgetName=sp_atf', 'https://www.amazon.in/gp/slredirect/picassoRedirect.html/ref=pa_sp_atf_aps_sr_pg1_1?ie=UTF8&adId=A0331341254VXQYFWS8XA&url=%2FSamsung-Galaxy-Black-32GB-Storage%2Fdp%2FB08T2QR7NK%2Fref%3Dsr_1_1_sspa%3Fdchild%3D1%26keywords%3Dredmi%26qid%3D1614515760%26sr%3D8-1-spons%26psc%3D1&qualifier=1614515760&id=7276371450750615&widgetName=sp_atf', 'https://www.amazon.in/gp/slredirect/picassoRedirect.html/ref=pa_sp_atf_aps_sr_pg1_1?ie=UTF8&adId=A0331341254VXQYFWS8XA&url=%2FSamsung-Galaxy-Black-32GB-Storage%2Fdp%2FB08T2QR7NK%2Fref%3Dsr_1_1_sspa%3Fdchild%3D1%26keywords%3Dredmi%26qid%3D1614515760%26sr%3D8-1-spons%26psc%3D1&qualifier=1614515760&id=7276371450750615&widgetName=sp_atf', 'https://www.amazon.in/gp/slredirect/picassoRedirect.html/ref=pa_sp_atf_aps_sr_pg1_1?ie=UTF8&adId=A0331341254VXQYFWS8XA&url=%2FSamsung-Galaxy-Black-32GB-Storage%2Fdp%2FB08T2QR7NK%2Fref%3Dsr_1_1_sspa%3Fdchild%3D1%26keywords%3Dredmi%26qid%3D1614515760%26sr%3D8-1-spons%26psc%3D1&qualifier=1614515760&id=7276371450750615&widgetName=sp_atf', 'https://www.amazon.in/gp/slredirect/picassoRedirect.html/ref=pa_sp_atf_aps_sr_pg1_1?ie=UTF8&adId=A0331341254VXQYFWS8XA&url=%2FSamsung-Galaxy-Black-32GB-Storage%2Fdp%2FB08T2QR7NK%2Fref%3Dsr_1_1_sspa%3Fdchild%3D1%26keywords%3Dredmi%26qid%3D1614515760%26sr%3D8-1-spons%26psc%3D1&qualifier=1614515760&id=7276371450750615&widgetName=sp_atf', 'https://www.amazon.in/gp/slredirect/picassoRedirect.html/ref=pa_sp_atf_aps_sr_pg1_1?ie=UTF8&adId=A0331341254VXQYFWS8XA&url=%2FSamsung-Galaxy-Black-32GB-Storage%2Fdp%2FB08T2QR7NK%2Fref%3Dsr_1_1_sspa%3Fdchild%3D1%26keywords%3Dredmi%26qid%3D1614515760%26sr%3D8-1-spons%26psc%3D1&qualifier=1614515760&id=7276371450750615&widgetName=sp_atf', 'https://www.amazon.in/gp/slredirect/picassoRedirect.html/ref=pa_sp_atf_aps_sr_pg1_1?ie=UTF8&adId=A0331341254VXQYFWS8XA&url=%2FSamsung-Galaxy-Black-32GB-Storage%2Fdp%2FB08T2QR7NK%2Fref%3Dsr_1_1_sspa%3Fdchild%3D1%26keywords%3Dredmi%26qid%3D1614515760%26sr%3D8-1-spons%26psc%3D1&qualifier=1614515760&id=7276371450750615&widgetName=sp_atf', 'https://www.amazon.in/gp/slredirect/picassoRedirect.html/ref=pa_sp_atf_aps_sr_pg1_1?ie=UTF8&adId=A0331341254VXQYFWS8XA&url=%2FSamsung-Galaxy-Black-32GB-Storage%2Fdp%2FB08T2QR7NK%2Fref%3Dsr_1_1_sspa%3Fdchild%3D1%26keywords%3Dredmi%26qid%3D1614515760%26sr%3D8-1-spons%26psc%3D1&qualifier=1614515760&id=7276371450750615&widgetName=sp_atf', 'https://www.amazon.in/gp/slredirect/picassoRedirect.html/ref=pa_sp_atf_aps_sr_pg1_1?ie=UTF8&adId=A0331341254VXQYFWS8XA&url=%2FSamsung-Galaxy-Black-32GB-Storage%2Fdp%2FB08T2QR7NK%2Fref%3Dsr_1_1_sspa%3Fdchild%3D1%26keywords%3Dredmi%26qid%3D1614515760%26sr%3D8-1-spons%26psc%3D1&qualifier=1614515760&id=7276371450750615&widgetName=sp_atf']\n"
     ]
    }
   ],
   "source": [
    "a=range(0,19)\n",
    "\n",
    "for i in a:\n",
    "    Product_URL.append(driver.find_element_by_xpath(\"//a[@class='a-link-normal s-no-outline']\").get_attribute('href'))\n",
    "print(Product_URL)"
   ]
  },
  {
   "cell_type": "code",
   "execution_count": 81,
   "metadata": {},
   "outputs": [],
   "source": [
    "import pandas as pd\n",
    "amazon_phones=pd.DataFrame()\n",
    "amazon_phones['Brand_name']=Brand_name[0:19]\n",
    "amazon_phones['Product_name']=Product_name[0:19]\n",
    "amazon_phones['No_of_rating']=No_of_rating[0:19]\n",
    "amazon_phones['Price']=Price[0:19]\n",
    "amazon_phones['Expected_delivery']=Expected_delivery[0:19]\n",
    "amazon_phones['Product_URL']=Product_URL[0:19]"
   ]
  },
  {
   "cell_type": "code",
   "execution_count": 82,
   "metadata": {},
   "outputs": [
    {
     "data": {
      "text/html": [
       "<div>\n",
       "<style scoped>\n",
       "    .dataframe tbody tr th:only-of-type {\n",
       "        vertical-align: middle;\n",
       "    }\n",
       "\n",
       "    .dataframe tbody tr th {\n",
       "        vertical-align: top;\n",
       "    }\n",
       "\n",
       "    .dataframe thead th {\n",
       "        text-align: right;\n",
       "    }\n",
       "</style>\n",
       "<table border=\"1\" class=\"dataframe\">\n",
       "  <thead>\n",
       "    <tr style=\"text-align: right;\">\n",
       "      <th></th>\n",
       "      <th>Brand_name</th>\n",
       "      <th>Product_name</th>\n",
       "      <th>No_of_rating</th>\n",
       "      <th>Price</th>\n",
       "      <th>Expected_delivery</th>\n",
       "      <th>Product_URL</th>\n",
       "    </tr>\n",
       "  </thead>\n",
       "  <tbody>\n",
       "    <tr>\n",
       "      <th>0</th>\n",
       "      <td>Samsung Galaxy</td>\n",
       "      <td>Samsung Gala</td>\n",
       "      <td>863</td>\n",
       "      <td>7,499</td>\n",
       "      <td>Tomorrow 11AM</td>\n",
       "      <td>https://www.amazon.in/gp/slredirect/picassoRed...</td>\n",
       "    </tr>\n",
       "    <tr>\n",
       "      <th>1</th>\n",
       "      <td>Redmi 9 (Sky Bl</td>\n",
       "      <td>Redmi 9 (Sky</td>\n",
       "      <td>11,390</td>\n",
       "      <td>8,799</td>\n",
       "      <td>Tomorrow, March 1</td>\n",
       "      <td>https://www.amazon.in/gp/slredirect/picassoRed...</td>\n",
       "    </tr>\n",
       "    <tr>\n",
       "      <th>2</th>\n",
       "      <td>Redmi 9A (Sea B</td>\n",
       "      <td>Redmi 9A (Se</td>\n",
       "      <td>13,913</td>\n",
       "      <td>6,799</td>\n",
       "      <td>Tomorrow 11AM</td>\n",
       "      <td>https://www.amazon.in/gp/slredirect/picassoRed...</td>\n",
       "    </tr>\n",
       "    <tr>\n",
       "      <th>3</th>\n",
       "      <td>Redmi 9A (Natur</td>\n",
       "      <td>Redmi 9A (Na</td>\n",
       "      <td>13,913</td>\n",
       "      <td>6,799</td>\n",
       "      <td>Tomorrow 11AM</td>\n",
       "      <td>https://www.amazon.in/gp/slredirect/picassoRed...</td>\n",
       "    </tr>\n",
       "    <tr>\n",
       "      <th>4</th>\n",
       "      <td>Redmi Note 9 Pr</td>\n",
       "      <td>Redmi Note 9</td>\n",
       "      <td>33,539</td>\n",
       "      <td>12,999</td>\n",
       "      <td>Tomorrow 11AM</td>\n",
       "      <td>https://www.amazon.in/gp/slredirect/picassoRed...</td>\n",
       "    </tr>\n",
       "    <tr>\n",
       "      <th>5</th>\n",
       "      <td>Redmi 9 Power (</td>\n",
       "      <td>Redmi 9 Powe</td>\n",
       "      <td>3,452</td>\n",
       "      <td>10,499</td>\n",
       "      <td>Tomorrow 11AM</td>\n",
       "      <td>https://www.amazon.in/gp/slredirect/picassoRed...</td>\n",
       "    </tr>\n",
       "    <tr>\n",
       "      <th>6</th>\n",
       "      <td>Redmi 9A (Natur</td>\n",
       "      <td>Redmi 9A (Na</td>\n",
       "      <td>13,913</td>\n",
       "      <td>7,499</td>\n",
       "      <td>Tuesday, March 2</td>\n",
       "      <td>https://www.amazon.in/gp/slredirect/picassoRed...</td>\n",
       "    </tr>\n",
       "    <tr>\n",
       "      <th>7</th>\n",
       "      <td>Redmi 9A (Midni</td>\n",
       "      <td>Redmi 9A (Mi</td>\n",
       "      <td>13,913</td>\n",
       "      <td>6,799</td>\n",
       "      <td>Tomorrow 11AM</td>\n",
       "      <td>https://www.amazon.in/gp/slredirect/picassoRed...</td>\n",
       "    </tr>\n",
       "    <tr>\n",
       "      <th>8</th>\n",
       "      <td>Redmi 9 Prime (</td>\n",
       "      <td>Redmi 9 Prim</td>\n",
       "      <td>14,565</td>\n",
       "      <td>9,499</td>\n",
       "      <td>Tomorrow, March 1</td>\n",
       "      <td>https://www.amazon.in/gp/slredirect/picassoRed...</td>\n",
       "    </tr>\n",
       "    <tr>\n",
       "      <th>9</th>\n",
       "      <td>Oppo A31 (Fanta</td>\n",
       "      <td>Oppo A31 (Fa</td>\n",
       "      <td>3,009</td>\n",
       "      <td>11,990</td>\n",
       "      <td>Tomorrow 11AM</td>\n",
       "      <td>https://www.amazon.in/gp/slredirect/picassoRed...</td>\n",
       "    </tr>\n",
       "    <tr>\n",
       "      <th>10</th>\n",
       "      <td>itel A47 (Ice L</td>\n",
       "      <td>itel A47 (Ic</td>\n",
       "      <td>11</td>\n",
       "      <td>5,499</td>\n",
       "      <td>Tomorrow 11AM</td>\n",
       "      <td>https://www.amazon.in/gp/slredirect/picassoRed...</td>\n",
       "    </tr>\n",
       "    <tr>\n",
       "      <th>11</th>\n",
       "      <td>Redmi 9 (Carbon</td>\n",
       "      <td>Redmi 9 (Car</td>\n",
       "      <td>11,390</td>\n",
       "      <td>8,799</td>\n",
       "      <td>Tomorrow, March 1</td>\n",
       "      <td>https://www.amazon.in/gp/slredirect/picassoRed...</td>\n",
       "    </tr>\n",
       "    <tr>\n",
       "      <th>12</th>\n",
       "      <td>Redmi 9 Prime (</td>\n",
       "      <td>Redmi 9 Prim</td>\n",
       "      <td>14,565</td>\n",
       "      <td>9,499</td>\n",
       "      <td>Tomorrow 11AM</td>\n",
       "      <td>https://www.amazon.in/gp/slredirect/picassoRed...</td>\n",
       "    </tr>\n",
       "    <tr>\n",
       "      <th>13</th>\n",
       "      <td>Redmi 9 Power (</td>\n",
       "      <td>Redmi 9 Powe</td>\n",
       "      <td>3,452</td>\n",
       "      <td>10,499</td>\n",
       "      <td>Tomorrow 11AM</td>\n",
       "      <td>https://www.amazon.in/gp/slredirect/picassoRed...</td>\n",
       "    </tr>\n",
       "    <tr>\n",
       "      <th>14</th>\n",
       "      <td>Redmi 9 (Sporty</td>\n",
       "      <td>Redmi 9 (Spo</td>\n",
       "      <td>11,390</td>\n",
       "      <td>8,799</td>\n",
       "      <td>Tomorrow, March 1</td>\n",
       "      <td>https://www.amazon.in/gp/slredirect/picassoRed...</td>\n",
       "    </tr>\n",
       "    <tr>\n",
       "      <th>15</th>\n",
       "      <td>Redmi Note 9 (P</td>\n",
       "      <td>Redmi Note 9</td>\n",
       "      <td>27,201</td>\n",
       "      <td>10,999</td>\n",
       "      <td>Tomorrow 11AM</td>\n",
       "      <td>https://www.amazon.in/gp/slredirect/picassoRed...</td>\n",
       "    </tr>\n",
       "    <tr>\n",
       "      <th>16</th>\n",
       "      <td>Redmi 9 Prime (</td>\n",
       "      <td>Redmi 9 Prim</td>\n",
       "      <td>14,565</td>\n",
       "      <td>9,499</td>\n",
       "      <td>Tomorrow 11AM</td>\n",
       "      <td>https://www.amazon.in/gp/slredirect/picassoRed...</td>\n",
       "    </tr>\n",
       "    <tr>\n",
       "      <th>17</th>\n",
       "      <td>Redmi Note 9 Pr</td>\n",
       "      <td>Redmi Note 9</td>\n",
       "      <td>33,539</td>\n",
       "      <td>12,999</td>\n",
       "      <td>Tomorrow 11AM</td>\n",
       "      <td>https://www.amazon.in/gp/slredirect/picassoRed...</td>\n",
       "    </tr>\n",
       "    <tr>\n",
       "      <th>18</th>\n",
       "      <td>(Renewed) Redmi</td>\n",
       "      <td>(Renewed) Re</td>\n",
       "      <td>144</td>\n",
       "      <td>10,999</td>\n",
       "      <td>Tomorrow 11AM</td>\n",
       "      <td>https://www.amazon.in/gp/slredirect/picassoRed...</td>\n",
       "    </tr>\n",
       "  </tbody>\n",
       "</table>\n",
       "</div>"
      ],
      "text/plain": [
       "         Brand_name  Product_name No_of_rating   Price  Expected_delivery  \\\n",
       "0   Samsung Galaxy   Samsung Gala          863   7,499      Tomorrow 11AM   \n",
       "1   Redmi 9 (Sky Bl  Redmi 9 (Sky       11,390   8,799  Tomorrow, March 1   \n",
       "2   Redmi 9A (Sea B  Redmi 9A (Se       13,913   6,799      Tomorrow 11AM   \n",
       "3   Redmi 9A (Natur  Redmi 9A (Na       13,913   6,799      Tomorrow 11AM   \n",
       "4   Redmi Note 9 Pr  Redmi Note 9       33,539  12,999      Tomorrow 11AM   \n",
       "5   Redmi 9 Power (  Redmi 9 Powe        3,452  10,499      Tomorrow 11AM   \n",
       "6   Redmi 9A (Natur  Redmi 9A (Na       13,913   7,499   Tuesday, March 2   \n",
       "7   Redmi 9A (Midni  Redmi 9A (Mi       13,913   6,799      Tomorrow 11AM   \n",
       "8   Redmi 9 Prime (  Redmi 9 Prim       14,565   9,499  Tomorrow, March 1   \n",
       "9   Oppo A31 (Fanta  Oppo A31 (Fa        3,009  11,990      Tomorrow 11AM   \n",
       "10  itel A47 (Ice L  itel A47 (Ic           11   5,499      Tomorrow 11AM   \n",
       "11  Redmi 9 (Carbon  Redmi 9 (Car       11,390   8,799  Tomorrow, March 1   \n",
       "12  Redmi 9 Prime (  Redmi 9 Prim       14,565   9,499      Tomorrow 11AM   \n",
       "13  Redmi 9 Power (  Redmi 9 Powe        3,452  10,499      Tomorrow 11AM   \n",
       "14  Redmi 9 (Sporty  Redmi 9 (Spo       11,390   8,799  Tomorrow, March 1   \n",
       "15  Redmi Note 9 (P  Redmi Note 9       27,201  10,999      Tomorrow 11AM   \n",
       "16  Redmi 9 Prime (  Redmi 9 Prim       14,565   9,499      Tomorrow 11AM   \n",
       "17  Redmi Note 9 Pr  Redmi Note 9       33,539  12,999      Tomorrow 11AM   \n",
       "18  (Renewed) Redmi  (Renewed) Re          144  10,999      Tomorrow 11AM   \n",
       "\n",
       "                                          Product_URL  \n",
       "0   https://www.amazon.in/gp/slredirect/picassoRed...  \n",
       "1   https://www.amazon.in/gp/slredirect/picassoRed...  \n",
       "2   https://www.amazon.in/gp/slredirect/picassoRed...  \n",
       "3   https://www.amazon.in/gp/slredirect/picassoRed...  \n",
       "4   https://www.amazon.in/gp/slredirect/picassoRed...  \n",
       "5   https://www.amazon.in/gp/slredirect/picassoRed...  \n",
       "6   https://www.amazon.in/gp/slredirect/picassoRed...  \n",
       "7   https://www.amazon.in/gp/slredirect/picassoRed...  \n",
       "8   https://www.amazon.in/gp/slredirect/picassoRed...  \n",
       "9   https://www.amazon.in/gp/slredirect/picassoRed...  \n",
       "10  https://www.amazon.in/gp/slredirect/picassoRed...  \n",
       "11  https://www.amazon.in/gp/slredirect/picassoRed...  \n",
       "12  https://www.amazon.in/gp/slredirect/picassoRed...  \n",
       "13  https://www.amazon.in/gp/slredirect/picassoRed...  \n",
       "14  https://www.amazon.in/gp/slredirect/picassoRed...  \n",
       "15  https://www.amazon.in/gp/slredirect/picassoRed...  \n",
       "16  https://www.amazon.in/gp/slredirect/picassoRed...  \n",
       "17  https://www.amazon.in/gp/slredirect/picassoRed...  \n",
       "18  https://www.amazon.in/gp/slredirect/picassoRed...  "
      ]
     },
     "execution_count": 82,
     "metadata": {},
     "output_type": "execute_result"
    }
   ],
   "source": [
    "amazon_phones"
   ]
  },
  {
   "cell_type": "markdown",
   "metadata": {},
   "source": [
    "#question 3"
   ]
  },
  {
   "cell_type": "code",
   "execution_count": 1,
   "metadata": {},
   "outputs": [],
   "source": [
    "import pandas as pd\n",
    "from bs4 import BeautifulSoup\n",
    "import requests\n",
    "import selenium\n",
    "from selenium import webdriver\n",
    "import time"
   ]
  },
  {
   "cell_type": "code",
   "execution_count": 2,
   "metadata": {},
   "outputs": [],
   "source": [
    "driver=webdriver.Chrome(\"Desktop/chromedriver.exe\")"
   ]
  },
  {
   "cell_type": "code",
   "execution_count": 3,
   "metadata": {},
   "outputs": [],
   "source": [
    "driver.get(\"https://images.google.com/\")"
   ]
  },
  {
   "cell_type": "code",
   "execution_count": 4,
   "metadata": {},
   "outputs": [],
   "source": [
    "url=\"https://images.google.com/\""
   ]
  },
  {
   "cell_type": "code",
   "execution_count": 5,
   "metadata": {},
   "outputs": [],
   "source": [
    "driver.get(url)"
   ]
  },
  {
   "cell_type": "code",
   "execution_count": 5,
   "metadata": {},
   "outputs": [],
   "source": [
    "search_fruits=driver.find_element_by_xpath(\"//*[@id='sbtc']/div/div[2]/input\")\n",
    "search_fruits.send_keys(\"fruits\")"
   ]
  },
  {
   "cell_type": "code",
   "execution_count": 6,
   "metadata": {
    "scrolled": true
   },
   "outputs": [],
   "source": [
    "search_btn=driver.find_element_by_xpath(\"//span[@class='z1asCe MZy1Rb']\")\n",
    "search_btn.click()"
   ]
  },
  {
   "cell_type": "code",
   "execution_count": 7,
   "metadata": {},
   "outputs": [],
   "source": [
    "page=requests.get(\"https://www.google.com/search?tbm=isch&source=hp&biw=1034&bih=576&ei=xhw6YKCTKcrZz7sPqveXsAM&q=fruits&oq=fruits&gs_lcp=CgNpbWcQDDIFCAAQsQMyBQgAELEDMggIABCxAxCDATIICAAQsQMQgwEyBQgAELEDMgUIABCxAzIFCAAQsQMyCAgAELEDEIMBMgUIABCxAzIFCAAQsQNQvcYBWPDGAWCNsQJoAHAAeAKAAbQDiAHwC5IBBzItMS4wLjOYAQCgAQGqAQtnd3Mtd2l6LWltZw&sclient=img&ved=0ahUKEwigjtrM64nvAhXK7HMBHar7BTYQ4dUDCAc\")"
   ]
  },
  {
   "cell_type": "code",
   "execution_count": 8,
   "metadata": {},
   "outputs": [],
   "source": [
    "soup=BeautifulSoup(page.content,'html.parser')"
   ]
  },
  {
   "cell_type": "code",
   "execution_count": 11,
   "metadata": {
    "scrolled": true
   },
   "outputs": [
    {
     "name": "stdout",
     "output_type": "stream",
     "text": [
      "https://www.google.com/imgres?imgurl=https%3A%2F%2Fwww.healthyeating.org%2Fimages%2Fdefault-source%2Fhome-0.0%2Fnutrition-topics-2.0%2Fgeneral-nutrition-wellness%2F2-2-2-3foodgroups_fruits_detailfeature_thumb.jpg%3Fsfvrsn%3D7abe71fe_4&imgrefurl=https%3A%2F%2Fwww.healthyeating.org%2FHealthy-Eating%2FAll-Star-Foods%2FFruits&tbnid=12LB6t-_YQapMM&vet=12ahUKEwiu8O6nu4rvAhXUEXIKHf98CTwQMygAegUIARDOAQ..i&docid=_XVIsgIH8atHaM&w=700&h=426&q=fruits&ved=2ahUKEwiu8O6nu4rvAhXUEXIKHf98CTwQMygAegUIARDOAQ\n",
      "https://www.google.com/imgres?imgurl=https%3A%2F%2Fwww.healthyeating.org%2Fimages%2Fdefault-source%2Fhome-0.0%2Fnutrition-topics-2.0%2Fgeneral-nutrition-wellness%2F2-2-2-3foodgroups_fruits_detailfeature_thumb.jpg%3Fsfvrsn%3D7abe71fe_4&imgrefurl=https%3A%2F%2Fwww.healthyeating.org%2FHealthy-Eating%2FAll-Star-Foods%2FFruits&tbnid=12LB6t-_YQapMM&vet=12ahUKEwiu8O6nu4rvAhXUEXIKHf98CTwQMygAegUIARDOAQ..i&docid=_XVIsgIH8atHaM&w=700&h=426&q=fruits&ved=2ahUKEwiu8O6nu4rvAhXUEXIKHf98CTwQMygAegUIARDOAQ\n",
      "https://www.google.com/imgres?imgurl=https%3A%2F%2Fwww.healthyeating.org%2Fimages%2Fdefault-source%2Fhome-0.0%2Fnutrition-topics-2.0%2Fgeneral-nutrition-wellness%2F2-2-2-3foodgroups_fruits_detailfeature_thumb.jpg%3Fsfvrsn%3D7abe71fe_4&imgrefurl=https%3A%2F%2Fwww.healthyeating.org%2FHealthy-Eating%2FAll-Star-Foods%2FFruits&tbnid=12LB6t-_YQapMM&vet=12ahUKEwiu8O6nu4rvAhXUEXIKHf98CTwQMygAegUIARDOAQ..i&docid=_XVIsgIH8atHaM&w=700&h=426&q=fruits&ved=2ahUKEwiu8O6nu4rvAhXUEXIKHf98CTwQMygAegUIARDOAQ\n",
      "https://www.google.com/imgres?imgurl=https%3A%2F%2Fwww.healthyeating.org%2Fimages%2Fdefault-source%2Fhome-0.0%2Fnutrition-topics-2.0%2Fgeneral-nutrition-wellness%2F2-2-2-3foodgroups_fruits_detailfeature_thumb.jpg%3Fsfvrsn%3D7abe71fe_4&imgrefurl=https%3A%2F%2Fwww.healthyeating.org%2FHealthy-Eating%2FAll-Star-Foods%2FFruits&tbnid=12LB6t-_YQapMM&vet=12ahUKEwiu8O6nu4rvAhXUEXIKHf98CTwQMygAegUIARDOAQ..i&docid=_XVIsgIH8atHaM&w=700&h=426&q=fruits&ved=2ahUKEwiu8O6nu4rvAhXUEXIKHf98CTwQMygAegUIARDOAQ\n",
      "https://www.google.com/imgres?imgurl=https%3A%2F%2Fwww.healthyeating.org%2Fimages%2Fdefault-source%2Fhome-0.0%2Fnutrition-topics-2.0%2Fgeneral-nutrition-wellness%2F2-2-2-3foodgroups_fruits_detailfeature_thumb.jpg%3Fsfvrsn%3D7abe71fe_4&imgrefurl=https%3A%2F%2Fwww.healthyeating.org%2FHealthy-Eating%2FAll-Star-Foods%2FFruits&tbnid=12LB6t-_YQapMM&vet=12ahUKEwiu8O6nu4rvAhXUEXIKHf98CTwQMygAegUIARDOAQ..i&docid=_XVIsgIH8atHaM&w=700&h=426&q=fruits&ved=2ahUKEwiu8O6nu4rvAhXUEXIKHf98CTwQMygAegUIARDOAQ\n",
      "https://www.google.com/imgres?imgurl=https%3A%2F%2Fwww.healthyeating.org%2Fimages%2Fdefault-source%2Fhome-0.0%2Fnutrition-topics-2.0%2Fgeneral-nutrition-wellness%2F2-2-2-3foodgroups_fruits_detailfeature_thumb.jpg%3Fsfvrsn%3D7abe71fe_4&imgrefurl=https%3A%2F%2Fwww.healthyeating.org%2FHealthy-Eating%2FAll-Star-Foods%2FFruits&tbnid=12LB6t-_YQapMM&vet=12ahUKEwiu8O6nu4rvAhXUEXIKHf98CTwQMygAegUIARDOAQ..i&docid=_XVIsgIH8atHaM&w=700&h=426&q=fruits&ved=2ahUKEwiu8O6nu4rvAhXUEXIKHf98CTwQMygAegUIARDOAQ\n",
      "https://www.google.com/imgres?imgurl=https%3A%2F%2Fwww.healthyeating.org%2Fimages%2Fdefault-source%2Fhome-0.0%2Fnutrition-topics-2.0%2Fgeneral-nutrition-wellness%2F2-2-2-3foodgroups_fruits_detailfeature_thumb.jpg%3Fsfvrsn%3D7abe71fe_4&imgrefurl=https%3A%2F%2Fwww.healthyeating.org%2FHealthy-Eating%2FAll-Star-Foods%2FFruits&tbnid=12LB6t-_YQapMM&vet=12ahUKEwiu8O6nu4rvAhXUEXIKHf98CTwQMygAegUIARDOAQ..i&docid=_XVIsgIH8atHaM&w=700&h=426&q=fruits&ved=2ahUKEwiu8O6nu4rvAhXUEXIKHf98CTwQMygAegUIARDOAQ\n",
      "https://www.google.com/imgres?imgurl=https%3A%2F%2Fwww.healthyeating.org%2Fimages%2Fdefault-source%2Fhome-0.0%2Fnutrition-topics-2.0%2Fgeneral-nutrition-wellness%2F2-2-2-3foodgroups_fruits_detailfeature_thumb.jpg%3Fsfvrsn%3D7abe71fe_4&imgrefurl=https%3A%2F%2Fwww.healthyeating.org%2FHealthy-Eating%2FAll-Star-Foods%2FFruits&tbnid=12LB6t-_YQapMM&vet=12ahUKEwiu8O6nu4rvAhXUEXIKHf98CTwQMygAegUIARDOAQ..i&docid=_XVIsgIH8atHaM&w=700&h=426&q=fruits&ved=2ahUKEwiu8O6nu4rvAhXUEXIKHf98CTwQMygAegUIARDOAQ\n",
      "https://www.google.com/imgres?imgurl=https%3A%2F%2Fwww.healthyeating.org%2Fimages%2Fdefault-source%2Fhome-0.0%2Fnutrition-topics-2.0%2Fgeneral-nutrition-wellness%2F2-2-2-3foodgroups_fruits_detailfeature_thumb.jpg%3Fsfvrsn%3D7abe71fe_4&imgrefurl=https%3A%2F%2Fwww.healthyeating.org%2FHealthy-Eating%2FAll-Star-Foods%2FFruits&tbnid=12LB6t-_YQapMM&vet=12ahUKEwiu8O6nu4rvAhXUEXIKHf98CTwQMygAegUIARDOAQ..i&docid=_XVIsgIH8atHaM&w=700&h=426&q=fruits&ved=2ahUKEwiu8O6nu4rvAhXUEXIKHf98CTwQMygAegUIARDOAQ\n",
      "https://www.google.com/imgres?imgurl=https%3A%2F%2Fwww.healthyeating.org%2Fimages%2Fdefault-source%2Fhome-0.0%2Fnutrition-topics-2.0%2Fgeneral-nutrition-wellness%2F2-2-2-3foodgroups_fruits_detailfeature_thumb.jpg%3Fsfvrsn%3D7abe71fe_4&imgrefurl=https%3A%2F%2Fwww.healthyeating.org%2FHealthy-Eating%2FAll-Star-Foods%2FFruits&tbnid=12LB6t-_YQapMM&vet=12ahUKEwiu8O6nu4rvAhXUEXIKHf98CTwQMygAegUIARDOAQ..i&docid=_XVIsgIH8atHaM&w=700&h=426&q=fruits&ved=2ahUKEwiu8O6nu4rvAhXUEXIKHf98CTwQMygAegUIARDOAQ\n",
      "https://www.google.com/imgres?imgurl=https%3A%2F%2Fwww.healthyeating.org%2Fimages%2Fdefault-source%2Fhome-0.0%2Fnutrition-topics-2.0%2Fgeneral-nutrition-wellness%2F2-2-2-3foodgroups_fruits_detailfeature_thumb.jpg%3Fsfvrsn%3D7abe71fe_4&imgrefurl=https%3A%2F%2Fwww.healthyeating.org%2FHealthy-Eating%2FAll-Star-Foods%2FFruits&tbnid=12LB6t-_YQapMM&vet=12ahUKEwiu8O6nu4rvAhXUEXIKHf98CTwQMygAegUIARDOAQ..i&docid=_XVIsgIH8atHaM&w=700&h=426&q=fruits&ved=2ahUKEwiu8O6nu4rvAhXUEXIKHf98CTwQMygAegUIARDOAQ\n",
      "https://www.google.com/imgres?imgurl=https%3A%2F%2Fwww.healthyeating.org%2Fimages%2Fdefault-source%2Fhome-0.0%2Fnutrition-topics-2.0%2Fgeneral-nutrition-wellness%2F2-2-2-3foodgroups_fruits_detailfeature_thumb.jpg%3Fsfvrsn%3D7abe71fe_4&imgrefurl=https%3A%2F%2Fwww.healthyeating.org%2FHealthy-Eating%2FAll-Star-Foods%2FFruits&tbnid=12LB6t-_YQapMM&vet=12ahUKEwiu8O6nu4rvAhXUEXIKHf98CTwQMygAegUIARDOAQ..i&docid=_XVIsgIH8atHaM&w=700&h=426&q=fruits&ved=2ahUKEwiu8O6nu4rvAhXUEXIKHf98CTwQMygAegUIARDOAQ\n",
      "https://www.google.com/imgres?imgurl=https%3A%2F%2Fwww.healthyeating.org%2Fimages%2Fdefault-source%2Fhome-0.0%2Fnutrition-topics-2.0%2Fgeneral-nutrition-wellness%2F2-2-2-3foodgroups_fruits_detailfeature_thumb.jpg%3Fsfvrsn%3D7abe71fe_4&imgrefurl=https%3A%2F%2Fwww.healthyeating.org%2FHealthy-Eating%2FAll-Star-Foods%2FFruits&tbnid=12LB6t-_YQapMM&vet=12ahUKEwiu8O6nu4rvAhXUEXIKHf98CTwQMygAegUIARDOAQ..i&docid=_XVIsgIH8atHaM&w=700&h=426&q=fruits&ved=2ahUKEwiu8O6nu4rvAhXUEXIKHf98CTwQMygAegUIARDOAQ\n",
      "https://www.google.com/imgres?imgurl=https%3A%2F%2Fwww.healthyeating.org%2Fimages%2Fdefault-source%2Fhome-0.0%2Fnutrition-topics-2.0%2Fgeneral-nutrition-wellness%2F2-2-2-3foodgroups_fruits_detailfeature_thumb.jpg%3Fsfvrsn%3D7abe71fe_4&imgrefurl=https%3A%2F%2Fwww.healthyeating.org%2FHealthy-Eating%2FAll-Star-Foods%2FFruits&tbnid=12LB6t-_YQapMM&vet=12ahUKEwiu8O6nu4rvAhXUEXIKHf98CTwQMygAegUIARDOAQ..i&docid=_XVIsgIH8atHaM&w=700&h=426&q=fruits&ved=2ahUKEwiu8O6nu4rvAhXUEXIKHf98CTwQMygAegUIARDOAQ\n",
      "https://www.google.com/imgres?imgurl=https%3A%2F%2Fwww.healthyeating.org%2Fimages%2Fdefault-source%2Fhome-0.0%2Fnutrition-topics-2.0%2Fgeneral-nutrition-wellness%2F2-2-2-3foodgroups_fruits_detailfeature_thumb.jpg%3Fsfvrsn%3D7abe71fe_4&imgrefurl=https%3A%2F%2Fwww.healthyeating.org%2FHealthy-Eating%2FAll-Star-Foods%2FFruits&tbnid=12LB6t-_YQapMM&vet=12ahUKEwiu8O6nu4rvAhXUEXIKHf98CTwQMygAegUIARDOAQ..i&docid=_XVIsgIH8atHaM&w=700&h=426&q=fruits&ved=2ahUKEwiu8O6nu4rvAhXUEXIKHf98CTwQMygAegUIARDOAQ\n",
      "https://www.google.com/imgres?imgurl=https%3A%2F%2Fwww.healthyeating.org%2Fimages%2Fdefault-source%2Fhome-0.0%2Fnutrition-topics-2.0%2Fgeneral-nutrition-wellness%2F2-2-2-3foodgroups_fruits_detailfeature_thumb.jpg%3Fsfvrsn%3D7abe71fe_4&imgrefurl=https%3A%2F%2Fwww.healthyeating.org%2FHealthy-Eating%2FAll-Star-Foods%2FFruits&tbnid=12LB6t-_YQapMM&vet=12ahUKEwiu8O6nu4rvAhXUEXIKHf98CTwQMygAegUIARDOAQ..i&docid=_XVIsgIH8atHaM&w=700&h=426&q=fruits&ved=2ahUKEwiu8O6nu4rvAhXUEXIKHf98CTwQMygAegUIARDOAQ\n",
      "https://www.google.com/imgres?imgurl=https%3A%2F%2Fwww.healthyeating.org%2Fimages%2Fdefault-source%2Fhome-0.0%2Fnutrition-topics-2.0%2Fgeneral-nutrition-wellness%2F2-2-2-3foodgroups_fruits_detailfeature_thumb.jpg%3Fsfvrsn%3D7abe71fe_4&imgrefurl=https%3A%2F%2Fwww.healthyeating.org%2FHealthy-Eating%2FAll-Star-Foods%2FFruits&tbnid=12LB6t-_YQapMM&vet=12ahUKEwiu8O6nu4rvAhXUEXIKHf98CTwQMygAegUIARDOAQ..i&docid=_XVIsgIH8atHaM&w=700&h=426&q=fruits&ved=2ahUKEwiu8O6nu4rvAhXUEXIKHf98CTwQMygAegUIARDOAQ\n",
      "https://www.google.com/imgres?imgurl=https%3A%2F%2Fwww.healthyeating.org%2Fimages%2Fdefault-source%2Fhome-0.0%2Fnutrition-topics-2.0%2Fgeneral-nutrition-wellness%2F2-2-2-3foodgroups_fruits_detailfeature_thumb.jpg%3Fsfvrsn%3D7abe71fe_4&imgrefurl=https%3A%2F%2Fwww.healthyeating.org%2FHealthy-Eating%2FAll-Star-Foods%2FFruits&tbnid=12LB6t-_YQapMM&vet=12ahUKEwiu8O6nu4rvAhXUEXIKHf98CTwQMygAegUIARDOAQ..i&docid=_XVIsgIH8atHaM&w=700&h=426&q=fruits&ved=2ahUKEwiu8O6nu4rvAhXUEXIKHf98CTwQMygAegUIARDOAQ\n",
      "https://www.google.com/imgres?imgurl=https%3A%2F%2Fwww.healthyeating.org%2Fimages%2Fdefault-source%2Fhome-0.0%2Fnutrition-topics-2.0%2Fgeneral-nutrition-wellness%2F2-2-2-3foodgroups_fruits_detailfeature_thumb.jpg%3Fsfvrsn%3D7abe71fe_4&imgrefurl=https%3A%2F%2Fwww.healthyeating.org%2FHealthy-Eating%2FAll-Star-Foods%2FFruits&tbnid=12LB6t-_YQapMM&vet=12ahUKEwiu8O6nu4rvAhXUEXIKHf98CTwQMygAegUIARDOAQ..i&docid=_XVIsgIH8atHaM&w=700&h=426&q=fruits&ved=2ahUKEwiu8O6nu4rvAhXUEXIKHf98CTwQMygAegUIARDOAQ\n",
      "https://www.google.com/imgres?imgurl=https%3A%2F%2Fwww.healthyeating.org%2Fimages%2Fdefault-source%2Fhome-0.0%2Fnutrition-topics-2.0%2Fgeneral-nutrition-wellness%2F2-2-2-3foodgroups_fruits_detailfeature_thumb.jpg%3Fsfvrsn%3D7abe71fe_4&imgrefurl=https%3A%2F%2Fwww.healthyeating.org%2FHealthy-Eating%2FAll-Star-Foods%2FFruits&tbnid=12LB6t-_YQapMM&vet=12ahUKEwiu8O6nu4rvAhXUEXIKHf98CTwQMygAegUIARDOAQ..i&docid=_XVIsgIH8atHaM&w=700&h=426&q=fruits&ved=2ahUKEwiu8O6nu4rvAhXUEXIKHf98CTwQMygAegUIARDOAQ\n",
      "https://www.google.com/imgres?imgurl=https%3A%2F%2Fwww.healthyeating.org%2Fimages%2Fdefault-source%2Fhome-0.0%2Fnutrition-topics-2.0%2Fgeneral-nutrition-wellness%2F2-2-2-3foodgroups_fruits_detailfeature_thumb.jpg%3Fsfvrsn%3D7abe71fe_4&imgrefurl=https%3A%2F%2Fwww.healthyeating.org%2FHealthy-Eating%2FAll-Star-Foods%2FFruits&tbnid=12LB6t-_YQapMM&vet=12ahUKEwiu8O6nu4rvAhXUEXIKHf98CTwQMygAegUIARDOAQ..i&docid=_XVIsgIH8atHaM&w=700&h=426&q=fruits&ved=2ahUKEwiu8O6nu4rvAhXUEXIKHf98CTwQMygAegUIARDOAQ\n",
      "https://www.google.com/imgres?imgurl=https%3A%2F%2Fwww.healthyeating.org%2Fimages%2Fdefault-source%2Fhome-0.0%2Fnutrition-topics-2.0%2Fgeneral-nutrition-wellness%2F2-2-2-3foodgroups_fruits_detailfeature_thumb.jpg%3Fsfvrsn%3D7abe71fe_4&imgrefurl=https%3A%2F%2Fwww.healthyeating.org%2FHealthy-Eating%2FAll-Star-Foods%2FFruits&tbnid=12LB6t-_YQapMM&vet=12ahUKEwiu8O6nu4rvAhXUEXIKHf98CTwQMygAegUIARDOAQ..i&docid=_XVIsgIH8atHaM&w=700&h=426&q=fruits&ved=2ahUKEwiu8O6nu4rvAhXUEXIKHf98CTwQMygAegUIARDOAQ\n",
      "https://www.google.com/imgres?imgurl=https%3A%2F%2Fwww.healthyeating.org%2Fimages%2Fdefault-source%2Fhome-0.0%2Fnutrition-topics-2.0%2Fgeneral-nutrition-wellness%2F2-2-2-3foodgroups_fruits_detailfeature_thumb.jpg%3Fsfvrsn%3D7abe71fe_4&imgrefurl=https%3A%2F%2Fwww.healthyeating.org%2FHealthy-Eating%2FAll-Star-Foods%2FFruits&tbnid=12LB6t-_YQapMM&vet=12ahUKEwiu8O6nu4rvAhXUEXIKHf98CTwQMygAegUIARDOAQ..i&docid=_XVIsgIH8atHaM&w=700&h=426&q=fruits&ved=2ahUKEwiu8O6nu4rvAhXUEXIKHf98CTwQMygAegUIARDOAQ\n",
      "https://www.google.com/imgres?imgurl=https%3A%2F%2Fwww.healthyeating.org%2Fimages%2Fdefault-source%2Fhome-0.0%2Fnutrition-topics-2.0%2Fgeneral-nutrition-wellness%2F2-2-2-3foodgroups_fruits_detailfeature_thumb.jpg%3Fsfvrsn%3D7abe71fe_4&imgrefurl=https%3A%2F%2Fwww.healthyeating.org%2FHealthy-Eating%2FAll-Star-Foods%2FFruits&tbnid=12LB6t-_YQapMM&vet=12ahUKEwiu8O6nu4rvAhXUEXIKHf98CTwQMygAegUIARDOAQ..i&docid=_XVIsgIH8atHaM&w=700&h=426&q=fruits&ved=2ahUKEwiu8O6nu4rvAhXUEXIKHf98CTwQMygAegUIARDOAQ\n",
      "https://www.google.com/imgres?imgurl=https%3A%2F%2Fwww.healthyeating.org%2Fimages%2Fdefault-source%2Fhome-0.0%2Fnutrition-topics-2.0%2Fgeneral-nutrition-wellness%2F2-2-2-3foodgroups_fruits_detailfeature_thumb.jpg%3Fsfvrsn%3D7abe71fe_4&imgrefurl=https%3A%2F%2Fwww.healthyeating.org%2FHealthy-Eating%2FAll-Star-Foods%2FFruits&tbnid=12LB6t-_YQapMM&vet=12ahUKEwiu8O6nu4rvAhXUEXIKHf98CTwQMygAegUIARDOAQ..i&docid=_XVIsgIH8atHaM&w=700&h=426&q=fruits&ved=2ahUKEwiu8O6nu4rvAhXUEXIKHf98CTwQMygAegUIARDOAQ\n",
      "https://www.google.com/imgres?imgurl=https%3A%2F%2Fwww.healthyeating.org%2Fimages%2Fdefault-source%2Fhome-0.0%2Fnutrition-topics-2.0%2Fgeneral-nutrition-wellness%2F2-2-2-3foodgroups_fruits_detailfeature_thumb.jpg%3Fsfvrsn%3D7abe71fe_4&imgrefurl=https%3A%2F%2Fwww.healthyeating.org%2FHealthy-Eating%2FAll-Star-Foods%2FFruits&tbnid=12LB6t-_YQapMM&vet=12ahUKEwiu8O6nu4rvAhXUEXIKHf98CTwQMygAegUIARDOAQ..i&docid=_XVIsgIH8atHaM&w=700&h=426&q=fruits&ved=2ahUKEwiu8O6nu4rvAhXUEXIKHf98CTwQMygAegUIARDOAQ\n",
      "https://www.google.com/imgres?imgurl=https%3A%2F%2Fwww.healthyeating.org%2Fimages%2Fdefault-source%2Fhome-0.0%2Fnutrition-topics-2.0%2Fgeneral-nutrition-wellness%2F2-2-2-3foodgroups_fruits_detailfeature_thumb.jpg%3Fsfvrsn%3D7abe71fe_4&imgrefurl=https%3A%2F%2Fwww.healthyeating.org%2FHealthy-Eating%2FAll-Star-Foods%2FFruits&tbnid=12LB6t-_YQapMM&vet=12ahUKEwiu8O6nu4rvAhXUEXIKHf98CTwQMygAegUIARDOAQ..i&docid=_XVIsgIH8atHaM&w=700&h=426&q=fruits&ved=2ahUKEwiu8O6nu4rvAhXUEXIKHf98CTwQMygAegUIARDOAQ\n",
      "https://www.google.com/imgres?imgurl=https%3A%2F%2Fwww.healthyeating.org%2Fimages%2Fdefault-source%2Fhome-0.0%2Fnutrition-topics-2.0%2Fgeneral-nutrition-wellness%2F2-2-2-3foodgroups_fruits_detailfeature_thumb.jpg%3Fsfvrsn%3D7abe71fe_4&imgrefurl=https%3A%2F%2Fwww.healthyeating.org%2FHealthy-Eating%2FAll-Star-Foods%2FFruits&tbnid=12LB6t-_YQapMM&vet=12ahUKEwiu8O6nu4rvAhXUEXIKHf98CTwQMygAegUIARDOAQ..i&docid=_XVIsgIH8atHaM&w=700&h=426&q=fruits&ved=2ahUKEwiu8O6nu4rvAhXUEXIKHf98CTwQMygAegUIARDOAQ\n",
      "https://www.google.com/imgres?imgurl=https%3A%2F%2Fwww.healthyeating.org%2Fimages%2Fdefault-source%2Fhome-0.0%2Fnutrition-topics-2.0%2Fgeneral-nutrition-wellness%2F2-2-2-3foodgroups_fruits_detailfeature_thumb.jpg%3Fsfvrsn%3D7abe71fe_4&imgrefurl=https%3A%2F%2Fwww.healthyeating.org%2FHealthy-Eating%2FAll-Star-Foods%2FFruits&tbnid=12LB6t-_YQapMM&vet=12ahUKEwiu8O6nu4rvAhXUEXIKHf98CTwQMygAegUIARDOAQ..i&docid=_XVIsgIH8atHaM&w=700&h=426&q=fruits&ved=2ahUKEwiu8O6nu4rvAhXUEXIKHf98CTwQMygAegUIARDOAQ\n",
      "https://www.google.com/imgres?imgurl=https%3A%2F%2Fwww.healthyeating.org%2Fimages%2Fdefault-source%2Fhome-0.0%2Fnutrition-topics-2.0%2Fgeneral-nutrition-wellness%2F2-2-2-3foodgroups_fruits_detailfeature_thumb.jpg%3Fsfvrsn%3D7abe71fe_4&imgrefurl=https%3A%2F%2Fwww.healthyeating.org%2FHealthy-Eating%2FAll-Star-Foods%2FFruits&tbnid=12LB6t-_YQapMM&vet=12ahUKEwiu8O6nu4rvAhXUEXIKHf98CTwQMygAegUIARDOAQ..i&docid=_XVIsgIH8atHaM&w=700&h=426&q=fruits&ved=2ahUKEwiu8O6nu4rvAhXUEXIKHf98CTwQMygAegUIARDOAQ\n",
      "https://www.google.com/imgres?imgurl=https%3A%2F%2Fwww.healthyeating.org%2Fimages%2Fdefault-source%2Fhome-0.0%2Fnutrition-topics-2.0%2Fgeneral-nutrition-wellness%2F2-2-2-3foodgroups_fruits_detailfeature_thumb.jpg%3Fsfvrsn%3D7abe71fe_4&imgrefurl=https%3A%2F%2Fwww.healthyeating.org%2FHealthy-Eating%2FAll-Star-Foods%2FFruits&tbnid=12LB6t-_YQapMM&vet=12ahUKEwiu8O6nu4rvAhXUEXIKHf98CTwQMygAegUIARDOAQ..i&docid=_XVIsgIH8atHaM&w=700&h=426&q=fruits&ved=2ahUKEwiu8O6nu4rvAhXUEXIKHf98CTwQMygAegUIARDOAQ\n",
      "https://www.google.com/imgres?imgurl=https%3A%2F%2Fwww.healthyeating.org%2Fimages%2Fdefault-source%2Fhome-0.0%2Fnutrition-topics-2.0%2Fgeneral-nutrition-wellness%2F2-2-2-3foodgroups_fruits_detailfeature_thumb.jpg%3Fsfvrsn%3D7abe71fe_4&imgrefurl=https%3A%2F%2Fwww.healthyeating.org%2FHealthy-Eating%2FAll-Star-Foods%2FFruits&tbnid=12LB6t-_YQapMM&vet=12ahUKEwiu8O6nu4rvAhXUEXIKHf98CTwQMygAegUIARDOAQ..i&docid=_XVIsgIH8atHaM&w=700&h=426&q=fruits&ved=2ahUKEwiu8O6nu4rvAhXUEXIKHf98CTwQMygAegUIARDOAQ\n",
      "https://www.google.com/imgres?imgurl=https%3A%2F%2Fwww.healthyeating.org%2Fimages%2Fdefault-source%2Fhome-0.0%2Fnutrition-topics-2.0%2Fgeneral-nutrition-wellness%2F2-2-2-3foodgroups_fruits_detailfeature_thumb.jpg%3Fsfvrsn%3D7abe71fe_4&imgrefurl=https%3A%2F%2Fwww.healthyeating.org%2FHealthy-Eating%2FAll-Star-Foods%2FFruits&tbnid=12LB6t-_YQapMM&vet=12ahUKEwiu8O6nu4rvAhXUEXIKHf98CTwQMygAegUIARDOAQ..i&docid=_XVIsgIH8atHaM&w=700&h=426&q=fruits&ved=2ahUKEwiu8O6nu4rvAhXUEXIKHf98CTwQMygAegUIARDOAQ\n",
      "https://www.google.com/imgres?imgurl=https%3A%2F%2Fwww.healthyeating.org%2Fimages%2Fdefault-source%2Fhome-0.0%2Fnutrition-topics-2.0%2Fgeneral-nutrition-wellness%2F2-2-2-3foodgroups_fruits_detailfeature_thumb.jpg%3Fsfvrsn%3D7abe71fe_4&imgrefurl=https%3A%2F%2Fwww.healthyeating.org%2FHealthy-Eating%2FAll-Star-Foods%2FFruits&tbnid=12LB6t-_YQapMM&vet=12ahUKEwiu8O6nu4rvAhXUEXIKHf98CTwQMygAegUIARDOAQ..i&docid=_XVIsgIH8atHaM&w=700&h=426&q=fruits&ved=2ahUKEwiu8O6nu4rvAhXUEXIKHf98CTwQMygAegUIARDOAQ\n",
      "https://www.google.com/imgres?imgurl=https%3A%2F%2Fwww.healthyeating.org%2Fimages%2Fdefault-source%2Fhome-0.0%2Fnutrition-topics-2.0%2Fgeneral-nutrition-wellness%2F2-2-2-3foodgroups_fruits_detailfeature_thumb.jpg%3Fsfvrsn%3D7abe71fe_4&imgrefurl=https%3A%2F%2Fwww.healthyeating.org%2FHealthy-Eating%2FAll-Star-Foods%2FFruits&tbnid=12LB6t-_YQapMM&vet=12ahUKEwiu8O6nu4rvAhXUEXIKHf98CTwQMygAegUIARDOAQ..i&docid=_XVIsgIH8atHaM&w=700&h=426&q=fruits&ved=2ahUKEwiu8O6nu4rvAhXUEXIKHf98CTwQMygAegUIARDOAQ\n",
      "https://www.google.com/imgres?imgurl=https%3A%2F%2Fwww.healthyeating.org%2Fimages%2Fdefault-source%2Fhome-0.0%2Fnutrition-topics-2.0%2Fgeneral-nutrition-wellness%2F2-2-2-3foodgroups_fruits_detailfeature_thumb.jpg%3Fsfvrsn%3D7abe71fe_4&imgrefurl=https%3A%2F%2Fwww.healthyeating.org%2FHealthy-Eating%2FAll-Star-Foods%2FFruits&tbnid=12LB6t-_YQapMM&vet=12ahUKEwiu8O6nu4rvAhXUEXIKHf98CTwQMygAegUIARDOAQ..i&docid=_XVIsgIH8atHaM&w=700&h=426&q=fruits&ved=2ahUKEwiu8O6nu4rvAhXUEXIKHf98CTwQMygAegUIARDOAQ\n",
      "https://www.google.com/imgres?imgurl=https%3A%2F%2Fwww.healthyeating.org%2Fimages%2Fdefault-source%2Fhome-0.0%2Fnutrition-topics-2.0%2Fgeneral-nutrition-wellness%2F2-2-2-3foodgroups_fruits_detailfeature_thumb.jpg%3Fsfvrsn%3D7abe71fe_4&imgrefurl=https%3A%2F%2Fwww.healthyeating.org%2FHealthy-Eating%2FAll-Star-Foods%2FFruits&tbnid=12LB6t-_YQapMM&vet=12ahUKEwiu8O6nu4rvAhXUEXIKHf98CTwQMygAegUIARDOAQ..i&docid=_XVIsgIH8atHaM&w=700&h=426&q=fruits&ved=2ahUKEwiu8O6nu4rvAhXUEXIKHf98CTwQMygAegUIARDOAQ\n",
      "https://www.google.com/imgres?imgurl=https%3A%2F%2Fwww.healthyeating.org%2Fimages%2Fdefault-source%2Fhome-0.0%2Fnutrition-topics-2.0%2Fgeneral-nutrition-wellness%2F2-2-2-3foodgroups_fruits_detailfeature_thumb.jpg%3Fsfvrsn%3D7abe71fe_4&imgrefurl=https%3A%2F%2Fwww.healthyeating.org%2FHealthy-Eating%2FAll-Star-Foods%2FFruits&tbnid=12LB6t-_YQapMM&vet=12ahUKEwiu8O6nu4rvAhXUEXIKHf98CTwQMygAegUIARDOAQ..i&docid=_XVIsgIH8atHaM&w=700&h=426&q=fruits&ved=2ahUKEwiu8O6nu4rvAhXUEXIKHf98CTwQMygAegUIARDOAQ\n",
      "https://www.google.com/imgres?imgurl=https%3A%2F%2Fwww.healthyeating.org%2Fimages%2Fdefault-source%2Fhome-0.0%2Fnutrition-topics-2.0%2Fgeneral-nutrition-wellness%2F2-2-2-3foodgroups_fruits_detailfeature_thumb.jpg%3Fsfvrsn%3D7abe71fe_4&imgrefurl=https%3A%2F%2Fwww.healthyeating.org%2FHealthy-Eating%2FAll-Star-Foods%2FFruits&tbnid=12LB6t-_YQapMM&vet=12ahUKEwiu8O6nu4rvAhXUEXIKHf98CTwQMygAegUIARDOAQ..i&docid=_XVIsgIH8atHaM&w=700&h=426&q=fruits&ved=2ahUKEwiu8O6nu4rvAhXUEXIKHf98CTwQMygAegUIARDOAQ\n",
      "https://www.google.com/imgres?imgurl=https%3A%2F%2Fwww.healthyeating.org%2Fimages%2Fdefault-source%2Fhome-0.0%2Fnutrition-topics-2.0%2Fgeneral-nutrition-wellness%2F2-2-2-3foodgroups_fruits_detailfeature_thumb.jpg%3Fsfvrsn%3D7abe71fe_4&imgrefurl=https%3A%2F%2Fwww.healthyeating.org%2FHealthy-Eating%2FAll-Star-Foods%2FFruits&tbnid=12LB6t-_YQapMM&vet=12ahUKEwiu8O6nu4rvAhXUEXIKHf98CTwQMygAegUIARDOAQ..i&docid=_XVIsgIH8atHaM&w=700&h=426&q=fruits&ved=2ahUKEwiu8O6nu4rvAhXUEXIKHf98CTwQMygAegUIARDOAQ\n",
      "https://www.google.com/imgres?imgurl=https%3A%2F%2Fwww.healthyeating.org%2Fimages%2Fdefault-source%2Fhome-0.0%2Fnutrition-topics-2.0%2Fgeneral-nutrition-wellness%2F2-2-2-3foodgroups_fruits_detailfeature_thumb.jpg%3Fsfvrsn%3D7abe71fe_4&imgrefurl=https%3A%2F%2Fwww.healthyeating.org%2FHealthy-Eating%2FAll-Star-Foods%2FFruits&tbnid=12LB6t-_YQapMM&vet=12ahUKEwiu8O6nu4rvAhXUEXIKHf98CTwQMygAegUIARDOAQ..i&docid=_XVIsgIH8atHaM&w=700&h=426&q=fruits&ved=2ahUKEwiu8O6nu4rvAhXUEXIKHf98CTwQMygAegUIARDOAQ\n",
      "https://www.google.com/imgres?imgurl=https%3A%2F%2Fwww.healthyeating.org%2Fimages%2Fdefault-source%2Fhome-0.0%2Fnutrition-topics-2.0%2Fgeneral-nutrition-wellness%2F2-2-2-3foodgroups_fruits_detailfeature_thumb.jpg%3Fsfvrsn%3D7abe71fe_4&imgrefurl=https%3A%2F%2Fwww.healthyeating.org%2FHealthy-Eating%2FAll-Star-Foods%2FFruits&tbnid=12LB6t-_YQapMM&vet=12ahUKEwiu8O6nu4rvAhXUEXIKHf98CTwQMygAegUIARDOAQ..i&docid=_XVIsgIH8atHaM&w=700&h=426&q=fruits&ved=2ahUKEwiu8O6nu4rvAhXUEXIKHf98CTwQMygAegUIARDOAQ\n",
      "https://www.google.com/imgres?imgurl=https%3A%2F%2Fwww.healthyeating.org%2Fimages%2Fdefault-source%2Fhome-0.0%2Fnutrition-topics-2.0%2Fgeneral-nutrition-wellness%2F2-2-2-3foodgroups_fruits_detailfeature_thumb.jpg%3Fsfvrsn%3D7abe71fe_4&imgrefurl=https%3A%2F%2Fwww.healthyeating.org%2FHealthy-Eating%2FAll-Star-Foods%2FFruits&tbnid=12LB6t-_YQapMM&vet=12ahUKEwiu8O6nu4rvAhXUEXIKHf98CTwQMygAegUIARDOAQ..i&docid=_XVIsgIH8atHaM&w=700&h=426&q=fruits&ved=2ahUKEwiu8O6nu4rvAhXUEXIKHf98CTwQMygAegUIARDOAQ\n",
      "https://www.google.com/imgres?imgurl=https%3A%2F%2Fwww.healthyeating.org%2Fimages%2Fdefault-source%2Fhome-0.0%2Fnutrition-topics-2.0%2Fgeneral-nutrition-wellness%2F2-2-2-3foodgroups_fruits_detailfeature_thumb.jpg%3Fsfvrsn%3D7abe71fe_4&imgrefurl=https%3A%2F%2Fwww.healthyeating.org%2FHealthy-Eating%2FAll-Star-Foods%2FFruits&tbnid=12LB6t-_YQapMM&vet=12ahUKEwiu8O6nu4rvAhXUEXIKHf98CTwQMygAegUIARDOAQ..i&docid=_XVIsgIH8atHaM&w=700&h=426&q=fruits&ved=2ahUKEwiu8O6nu4rvAhXUEXIKHf98CTwQMygAegUIARDOAQ\n",
      "https://www.google.com/imgres?imgurl=https%3A%2F%2Fwww.healthyeating.org%2Fimages%2Fdefault-source%2Fhome-0.0%2Fnutrition-topics-2.0%2Fgeneral-nutrition-wellness%2F2-2-2-3foodgroups_fruits_detailfeature_thumb.jpg%3Fsfvrsn%3D7abe71fe_4&imgrefurl=https%3A%2F%2Fwww.healthyeating.org%2FHealthy-Eating%2FAll-Star-Foods%2FFruits&tbnid=12LB6t-_YQapMM&vet=12ahUKEwiu8O6nu4rvAhXUEXIKHf98CTwQMygAegUIARDOAQ..i&docid=_XVIsgIH8atHaM&w=700&h=426&q=fruits&ved=2ahUKEwiu8O6nu4rvAhXUEXIKHf98CTwQMygAegUIARDOAQ\n",
      "https://www.google.com/imgres?imgurl=https%3A%2F%2Fwww.healthyeating.org%2Fimages%2Fdefault-source%2Fhome-0.0%2Fnutrition-topics-2.0%2Fgeneral-nutrition-wellness%2F2-2-2-3foodgroups_fruits_detailfeature_thumb.jpg%3Fsfvrsn%3D7abe71fe_4&imgrefurl=https%3A%2F%2Fwww.healthyeating.org%2FHealthy-Eating%2FAll-Star-Foods%2FFruits&tbnid=12LB6t-_YQapMM&vet=12ahUKEwiu8O6nu4rvAhXUEXIKHf98CTwQMygAegUIARDOAQ..i&docid=_XVIsgIH8atHaM&w=700&h=426&q=fruits&ved=2ahUKEwiu8O6nu4rvAhXUEXIKHf98CTwQMygAegUIARDOAQ\n",
      "https://www.google.com/imgres?imgurl=https%3A%2F%2Fwww.healthyeating.org%2Fimages%2Fdefault-source%2Fhome-0.0%2Fnutrition-topics-2.0%2Fgeneral-nutrition-wellness%2F2-2-2-3foodgroups_fruits_detailfeature_thumb.jpg%3Fsfvrsn%3D7abe71fe_4&imgrefurl=https%3A%2F%2Fwww.healthyeating.org%2FHealthy-Eating%2FAll-Star-Foods%2FFruits&tbnid=12LB6t-_YQapMM&vet=12ahUKEwiu8O6nu4rvAhXUEXIKHf98CTwQMygAegUIARDOAQ..i&docid=_XVIsgIH8atHaM&w=700&h=426&q=fruits&ved=2ahUKEwiu8O6nu4rvAhXUEXIKHf98CTwQMygAegUIARDOAQ\n",
      "https://www.google.com/imgres?imgurl=https%3A%2F%2Fwww.healthyeating.org%2Fimages%2Fdefault-source%2Fhome-0.0%2Fnutrition-topics-2.0%2Fgeneral-nutrition-wellness%2F2-2-2-3foodgroups_fruits_detailfeature_thumb.jpg%3Fsfvrsn%3D7abe71fe_4&imgrefurl=https%3A%2F%2Fwww.healthyeating.org%2FHealthy-Eating%2FAll-Star-Foods%2FFruits&tbnid=12LB6t-_YQapMM&vet=12ahUKEwiu8O6nu4rvAhXUEXIKHf98CTwQMygAegUIARDOAQ..i&docid=_XVIsgIH8atHaM&w=700&h=426&q=fruits&ved=2ahUKEwiu8O6nu4rvAhXUEXIKHf98CTwQMygAegUIARDOAQ\n",
      "https://www.google.com/imgres?imgurl=https%3A%2F%2Fwww.healthyeating.org%2Fimages%2Fdefault-source%2Fhome-0.0%2Fnutrition-topics-2.0%2Fgeneral-nutrition-wellness%2F2-2-2-3foodgroups_fruits_detailfeature_thumb.jpg%3Fsfvrsn%3D7abe71fe_4&imgrefurl=https%3A%2F%2Fwww.healthyeating.org%2FHealthy-Eating%2FAll-Star-Foods%2FFruits&tbnid=12LB6t-_YQapMM&vet=12ahUKEwiu8O6nu4rvAhXUEXIKHf98CTwQMygAegUIARDOAQ..i&docid=_XVIsgIH8atHaM&w=700&h=426&q=fruits&ved=2ahUKEwiu8O6nu4rvAhXUEXIKHf98CTwQMygAegUIARDOAQ\n",
      "https://www.google.com/imgres?imgurl=https%3A%2F%2Fwww.healthyeating.org%2Fimages%2Fdefault-source%2Fhome-0.0%2Fnutrition-topics-2.0%2Fgeneral-nutrition-wellness%2F2-2-2-3foodgroups_fruits_detailfeature_thumb.jpg%3Fsfvrsn%3D7abe71fe_4&imgrefurl=https%3A%2F%2Fwww.healthyeating.org%2FHealthy-Eating%2FAll-Star-Foods%2FFruits&tbnid=12LB6t-_YQapMM&vet=12ahUKEwiu8O6nu4rvAhXUEXIKHf98CTwQMygAegUIARDOAQ..i&docid=_XVIsgIH8atHaM&w=700&h=426&q=fruits&ved=2ahUKEwiu8O6nu4rvAhXUEXIKHf98CTwQMygAegUIARDOAQ\n",
      "https://www.google.com/imgres?imgurl=https%3A%2F%2Fwww.healthyeating.org%2Fimages%2Fdefault-source%2Fhome-0.0%2Fnutrition-topics-2.0%2Fgeneral-nutrition-wellness%2F2-2-2-3foodgroups_fruits_detailfeature_thumb.jpg%3Fsfvrsn%3D7abe71fe_4&imgrefurl=https%3A%2F%2Fwww.healthyeating.org%2FHealthy-Eating%2FAll-Star-Foods%2FFruits&tbnid=12LB6t-_YQapMM&vet=12ahUKEwiu8O6nu4rvAhXUEXIKHf98CTwQMygAegUIARDOAQ..i&docid=_XVIsgIH8atHaM&w=700&h=426&q=fruits&ved=2ahUKEwiu8O6nu4rvAhXUEXIKHf98CTwQMygAegUIARDOAQ\n",
      "https://www.google.com/imgres?imgurl=https%3A%2F%2Fwww.healthyeating.org%2Fimages%2Fdefault-source%2Fhome-0.0%2Fnutrition-topics-2.0%2Fgeneral-nutrition-wellness%2F2-2-2-3foodgroups_fruits_detailfeature_thumb.jpg%3Fsfvrsn%3D7abe71fe_4&imgrefurl=https%3A%2F%2Fwww.healthyeating.org%2FHealthy-Eating%2FAll-Star-Foods%2FFruits&tbnid=12LB6t-_YQapMM&vet=12ahUKEwiu8O6nu4rvAhXUEXIKHf98CTwQMygAegUIARDOAQ..i&docid=_XVIsgIH8atHaM&w=700&h=426&q=fruits&ved=2ahUKEwiu8O6nu4rvAhXUEXIKHf98CTwQMygAegUIARDOAQ\n",
      "https://www.google.com/imgres?imgurl=https%3A%2F%2Fwww.healthyeating.org%2Fimages%2Fdefault-source%2Fhome-0.0%2Fnutrition-topics-2.0%2Fgeneral-nutrition-wellness%2F2-2-2-3foodgroups_fruits_detailfeature_thumb.jpg%3Fsfvrsn%3D7abe71fe_4&imgrefurl=https%3A%2F%2Fwww.healthyeating.org%2FHealthy-Eating%2FAll-Star-Foods%2FFruits&tbnid=12LB6t-_YQapMM&vet=12ahUKEwiu8O6nu4rvAhXUEXIKHf98CTwQMygAegUIARDOAQ..i&docid=_XVIsgIH8atHaM&w=700&h=426&q=fruits&ved=2ahUKEwiu8O6nu4rvAhXUEXIKHf98CTwQMygAegUIARDOAQ\n",
      "https://www.google.com/imgres?imgurl=https%3A%2F%2Fwww.healthyeating.org%2Fimages%2Fdefault-source%2Fhome-0.0%2Fnutrition-topics-2.0%2Fgeneral-nutrition-wellness%2F2-2-2-3foodgroups_fruits_detailfeature_thumb.jpg%3Fsfvrsn%3D7abe71fe_4&imgrefurl=https%3A%2F%2Fwww.healthyeating.org%2FHealthy-Eating%2FAll-Star-Foods%2FFruits&tbnid=12LB6t-_YQapMM&vet=12ahUKEwiu8O6nu4rvAhXUEXIKHf98CTwQMygAegUIARDOAQ..i&docid=_XVIsgIH8atHaM&w=700&h=426&q=fruits&ved=2ahUKEwiu8O6nu4rvAhXUEXIKHf98CTwQMygAegUIARDOAQ\n",
      "https://www.google.com/imgres?imgurl=https%3A%2F%2Fwww.healthyeating.org%2Fimages%2Fdefault-source%2Fhome-0.0%2Fnutrition-topics-2.0%2Fgeneral-nutrition-wellness%2F2-2-2-3foodgroups_fruits_detailfeature_thumb.jpg%3Fsfvrsn%3D7abe71fe_4&imgrefurl=https%3A%2F%2Fwww.healthyeating.org%2FHealthy-Eating%2FAll-Star-Foods%2FFruits&tbnid=12LB6t-_YQapMM&vet=12ahUKEwiu8O6nu4rvAhXUEXIKHf98CTwQMygAegUIARDOAQ..i&docid=_XVIsgIH8atHaM&w=700&h=426&q=fruits&ved=2ahUKEwiu8O6nu4rvAhXUEXIKHf98CTwQMygAegUIARDOAQ\n",
      "https://www.google.com/imgres?imgurl=https%3A%2F%2Fwww.healthyeating.org%2Fimages%2Fdefault-source%2Fhome-0.0%2Fnutrition-topics-2.0%2Fgeneral-nutrition-wellness%2F2-2-2-3foodgroups_fruits_detailfeature_thumb.jpg%3Fsfvrsn%3D7abe71fe_4&imgrefurl=https%3A%2F%2Fwww.healthyeating.org%2FHealthy-Eating%2FAll-Star-Foods%2FFruits&tbnid=12LB6t-_YQapMM&vet=12ahUKEwiu8O6nu4rvAhXUEXIKHf98CTwQMygAegUIARDOAQ..i&docid=_XVIsgIH8atHaM&w=700&h=426&q=fruits&ved=2ahUKEwiu8O6nu4rvAhXUEXIKHf98CTwQMygAegUIARDOAQ\n",
      "https://www.google.com/imgres?imgurl=https%3A%2F%2Fwww.healthyeating.org%2Fimages%2Fdefault-source%2Fhome-0.0%2Fnutrition-topics-2.0%2Fgeneral-nutrition-wellness%2F2-2-2-3foodgroups_fruits_detailfeature_thumb.jpg%3Fsfvrsn%3D7abe71fe_4&imgrefurl=https%3A%2F%2Fwww.healthyeating.org%2FHealthy-Eating%2FAll-Star-Foods%2FFruits&tbnid=12LB6t-_YQapMM&vet=12ahUKEwiu8O6nu4rvAhXUEXIKHf98CTwQMygAegUIARDOAQ..i&docid=_XVIsgIH8atHaM&w=700&h=426&q=fruits&ved=2ahUKEwiu8O6nu4rvAhXUEXIKHf98CTwQMygAegUIARDOAQ\n",
      "https://www.google.com/imgres?imgurl=https%3A%2F%2Fwww.healthyeating.org%2Fimages%2Fdefault-source%2Fhome-0.0%2Fnutrition-topics-2.0%2Fgeneral-nutrition-wellness%2F2-2-2-3foodgroups_fruits_detailfeature_thumb.jpg%3Fsfvrsn%3D7abe71fe_4&imgrefurl=https%3A%2F%2Fwww.healthyeating.org%2FHealthy-Eating%2FAll-Star-Foods%2FFruits&tbnid=12LB6t-_YQapMM&vet=12ahUKEwiu8O6nu4rvAhXUEXIKHf98CTwQMygAegUIARDOAQ..i&docid=_XVIsgIH8atHaM&w=700&h=426&q=fruits&ved=2ahUKEwiu8O6nu4rvAhXUEXIKHf98CTwQMygAegUIARDOAQ\n",
      "https://www.google.com/imgres?imgurl=https%3A%2F%2Fwww.healthyeating.org%2Fimages%2Fdefault-source%2Fhome-0.0%2Fnutrition-topics-2.0%2Fgeneral-nutrition-wellness%2F2-2-2-3foodgroups_fruits_detailfeature_thumb.jpg%3Fsfvrsn%3D7abe71fe_4&imgrefurl=https%3A%2F%2Fwww.healthyeating.org%2FHealthy-Eating%2FAll-Star-Foods%2FFruits&tbnid=12LB6t-_YQapMM&vet=12ahUKEwiu8O6nu4rvAhXUEXIKHf98CTwQMygAegUIARDOAQ..i&docid=_XVIsgIH8atHaM&w=700&h=426&q=fruits&ved=2ahUKEwiu8O6nu4rvAhXUEXIKHf98CTwQMygAegUIARDOAQ\n",
      "https://www.google.com/imgres?imgurl=https%3A%2F%2Fwww.healthyeating.org%2Fimages%2Fdefault-source%2Fhome-0.0%2Fnutrition-topics-2.0%2Fgeneral-nutrition-wellness%2F2-2-2-3foodgroups_fruits_detailfeature_thumb.jpg%3Fsfvrsn%3D7abe71fe_4&imgrefurl=https%3A%2F%2Fwww.healthyeating.org%2FHealthy-Eating%2FAll-Star-Foods%2FFruits&tbnid=12LB6t-_YQapMM&vet=12ahUKEwiu8O6nu4rvAhXUEXIKHf98CTwQMygAegUIARDOAQ..i&docid=_XVIsgIH8atHaM&w=700&h=426&q=fruits&ved=2ahUKEwiu8O6nu4rvAhXUEXIKHf98CTwQMygAegUIARDOAQ\n",
      "https://www.google.com/imgres?imgurl=https%3A%2F%2Fwww.healthyeating.org%2Fimages%2Fdefault-source%2Fhome-0.0%2Fnutrition-topics-2.0%2Fgeneral-nutrition-wellness%2F2-2-2-3foodgroups_fruits_detailfeature_thumb.jpg%3Fsfvrsn%3D7abe71fe_4&imgrefurl=https%3A%2F%2Fwww.healthyeating.org%2FHealthy-Eating%2FAll-Star-Foods%2FFruits&tbnid=12LB6t-_YQapMM&vet=12ahUKEwiu8O6nu4rvAhXUEXIKHf98CTwQMygAegUIARDOAQ..i&docid=_XVIsgIH8atHaM&w=700&h=426&q=fruits&ved=2ahUKEwiu8O6nu4rvAhXUEXIKHf98CTwQMygAegUIARDOAQ\n",
      "https://www.google.com/imgres?imgurl=https%3A%2F%2Fwww.healthyeating.org%2Fimages%2Fdefault-source%2Fhome-0.0%2Fnutrition-topics-2.0%2Fgeneral-nutrition-wellness%2F2-2-2-3foodgroups_fruits_detailfeature_thumb.jpg%3Fsfvrsn%3D7abe71fe_4&imgrefurl=https%3A%2F%2Fwww.healthyeating.org%2FHealthy-Eating%2FAll-Star-Foods%2FFruits&tbnid=12LB6t-_YQapMM&vet=12ahUKEwiu8O6nu4rvAhXUEXIKHf98CTwQMygAegUIARDOAQ..i&docid=_XVIsgIH8atHaM&w=700&h=426&q=fruits&ved=2ahUKEwiu8O6nu4rvAhXUEXIKHf98CTwQMygAegUIARDOAQ\n",
      "https://www.google.com/imgres?imgurl=https%3A%2F%2Fwww.healthyeating.org%2Fimages%2Fdefault-source%2Fhome-0.0%2Fnutrition-topics-2.0%2Fgeneral-nutrition-wellness%2F2-2-2-3foodgroups_fruits_detailfeature_thumb.jpg%3Fsfvrsn%3D7abe71fe_4&imgrefurl=https%3A%2F%2Fwww.healthyeating.org%2FHealthy-Eating%2FAll-Star-Foods%2FFruits&tbnid=12LB6t-_YQapMM&vet=12ahUKEwiu8O6nu4rvAhXUEXIKHf98CTwQMygAegUIARDOAQ..i&docid=_XVIsgIH8atHaM&w=700&h=426&q=fruits&ved=2ahUKEwiu8O6nu4rvAhXUEXIKHf98CTwQMygAegUIARDOAQ\n",
      "https://www.google.com/imgres?imgurl=https%3A%2F%2Fwww.healthyeating.org%2Fimages%2Fdefault-source%2Fhome-0.0%2Fnutrition-topics-2.0%2Fgeneral-nutrition-wellness%2F2-2-2-3foodgroups_fruits_detailfeature_thumb.jpg%3Fsfvrsn%3D7abe71fe_4&imgrefurl=https%3A%2F%2Fwww.healthyeating.org%2FHealthy-Eating%2FAll-Star-Foods%2FFruits&tbnid=12LB6t-_YQapMM&vet=12ahUKEwiu8O6nu4rvAhXUEXIKHf98CTwQMygAegUIARDOAQ..i&docid=_XVIsgIH8atHaM&w=700&h=426&q=fruits&ved=2ahUKEwiu8O6nu4rvAhXUEXIKHf98CTwQMygAegUIARDOAQ\n",
      "https://www.google.com/imgres?imgurl=https%3A%2F%2Fwww.healthyeating.org%2Fimages%2Fdefault-source%2Fhome-0.0%2Fnutrition-topics-2.0%2Fgeneral-nutrition-wellness%2F2-2-2-3foodgroups_fruits_detailfeature_thumb.jpg%3Fsfvrsn%3D7abe71fe_4&imgrefurl=https%3A%2F%2Fwww.healthyeating.org%2FHealthy-Eating%2FAll-Star-Foods%2FFruits&tbnid=12LB6t-_YQapMM&vet=12ahUKEwiu8O6nu4rvAhXUEXIKHf98CTwQMygAegUIARDOAQ..i&docid=_XVIsgIH8atHaM&w=700&h=426&q=fruits&ved=2ahUKEwiu8O6nu4rvAhXUEXIKHf98CTwQMygAegUIARDOAQ\n",
      "https://www.google.com/imgres?imgurl=https%3A%2F%2Fwww.healthyeating.org%2Fimages%2Fdefault-source%2Fhome-0.0%2Fnutrition-topics-2.0%2Fgeneral-nutrition-wellness%2F2-2-2-3foodgroups_fruits_detailfeature_thumb.jpg%3Fsfvrsn%3D7abe71fe_4&imgrefurl=https%3A%2F%2Fwww.healthyeating.org%2FHealthy-Eating%2FAll-Star-Foods%2FFruits&tbnid=12LB6t-_YQapMM&vet=12ahUKEwiu8O6nu4rvAhXUEXIKHf98CTwQMygAegUIARDOAQ..i&docid=_XVIsgIH8atHaM&w=700&h=426&q=fruits&ved=2ahUKEwiu8O6nu4rvAhXUEXIKHf98CTwQMygAegUIARDOAQ\n",
      "https://www.google.com/imgres?imgurl=https%3A%2F%2Fwww.healthyeating.org%2Fimages%2Fdefault-source%2Fhome-0.0%2Fnutrition-topics-2.0%2Fgeneral-nutrition-wellness%2F2-2-2-3foodgroups_fruits_detailfeature_thumb.jpg%3Fsfvrsn%3D7abe71fe_4&imgrefurl=https%3A%2F%2Fwww.healthyeating.org%2FHealthy-Eating%2FAll-Star-Foods%2FFruits&tbnid=12LB6t-_YQapMM&vet=12ahUKEwiu8O6nu4rvAhXUEXIKHf98CTwQMygAegUIARDOAQ..i&docid=_XVIsgIH8atHaM&w=700&h=426&q=fruits&ved=2ahUKEwiu8O6nu4rvAhXUEXIKHf98CTwQMygAegUIARDOAQ\n",
      "https://www.google.com/imgres?imgurl=https%3A%2F%2Fwww.healthyeating.org%2Fimages%2Fdefault-source%2Fhome-0.0%2Fnutrition-topics-2.0%2Fgeneral-nutrition-wellness%2F2-2-2-3foodgroups_fruits_detailfeature_thumb.jpg%3Fsfvrsn%3D7abe71fe_4&imgrefurl=https%3A%2F%2Fwww.healthyeating.org%2FHealthy-Eating%2FAll-Star-Foods%2FFruits&tbnid=12LB6t-_YQapMM&vet=12ahUKEwiu8O6nu4rvAhXUEXIKHf98CTwQMygAegUIARDOAQ..i&docid=_XVIsgIH8atHaM&w=700&h=426&q=fruits&ved=2ahUKEwiu8O6nu4rvAhXUEXIKHf98CTwQMygAegUIARDOAQ\n",
      "https://www.google.com/imgres?imgurl=https%3A%2F%2Fwww.healthyeating.org%2Fimages%2Fdefault-source%2Fhome-0.0%2Fnutrition-topics-2.0%2Fgeneral-nutrition-wellness%2F2-2-2-3foodgroups_fruits_detailfeature_thumb.jpg%3Fsfvrsn%3D7abe71fe_4&imgrefurl=https%3A%2F%2Fwww.healthyeating.org%2FHealthy-Eating%2FAll-Star-Foods%2FFruits&tbnid=12LB6t-_YQapMM&vet=12ahUKEwiu8O6nu4rvAhXUEXIKHf98CTwQMygAegUIARDOAQ..i&docid=_XVIsgIH8atHaM&w=700&h=426&q=fruits&ved=2ahUKEwiu8O6nu4rvAhXUEXIKHf98CTwQMygAegUIARDOAQ\n",
      "https://www.google.com/imgres?imgurl=https%3A%2F%2Fwww.healthyeating.org%2Fimages%2Fdefault-source%2Fhome-0.0%2Fnutrition-topics-2.0%2Fgeneral-nutrition-wellness%2F2-2-2-3foodgroups_fruits_detailfeature_thumb.jpg%3Fsfvrsn%3D7abe71fe_4&imgrefurl=https%3A%2F%2Fwww.healthyeating.org%2FHealthy-Eating%2FAll-Star-Foods%2FFruits&tbnid=12LB6t-_YQapMM&vet=12ahUKEwiu8O6nu4rvAhXUEXIKHf98CTwQMygAegUIARDOAQ..i&docid=_XVIsgIH8atHaM&w=700&h=426&q=fruits&ved=2ahUKEwiu8O6nu4rvAhXUEXIKHf98CTwQMygAegUIARDOAQ\n",
      "https://www.google.com/imgres?imgurl=https%3A%2F%2Fwww.healthyeating.org%2Fimages%2Fdefault-source%2Fhome-0.0%2Fnutrition-topics-2.0%2Fgeneral-nutrition-wellness%2F2-2-2-3foodgroups_fruits_detailfeature_thumb.jpg%3Fsfvrsn%3D7abe71fe_4&imgrefurl=https%3A%2F%2Fwww.healthyeating.org%2FHealthy-Eating%2FAll-Star-Foods%2FFruits&tbnid=12LB6t-_YQapMM&vet=12ahUKEwiu8O6nu4rvAhXUEXIKHf98CTwQMygAegUIARDOAQ..i&docid=_XVIsgIH8atHaM&w=700&h=426&q=fruits&ved=2ahUKEwiu8O6nu4rvAhXUEXIKHf98CTwQMygAegUIARDOAQ\n",
      "https://www.google.com/imgres?imgurl=https%3A%2F%2Fwww.healthyeating.org%2Fimages%2Fdefault-source%2Fhome-0.0%2Fnutrition-topics-2.0%2Fgeneral-nutrition-wellness%2F2-2-2-3foodgroups_fruits_detailfeature_thumb.jpg%3Fsfvrsn%3D7abe71fe_4&imgrefurl=https%3A%2F%2Fwww.healthyeating.org%2FHealthy-Eating%2FAll-Star-Foods%2FFruits&tbnid=12LB6t-_YQapMM&vet=12ahUKEwiu8O6nu4rvAhXUEXIKHf98CTwQMygAegUIARDOAQ..i&docid=_XVIsgIH8atHaM&w=700&h=426&q=fruits&ved=2ahUKEwiu8O6nu4rvAhXUEXIKHf98CTwQMygAegUIARDOAQ\n",
      "https://www.google.com/imgres?imgurl=https%3A%2F%2Fwww.healthyeating.org%2Fimages%2Fdefault-source%2Fhome-0.0%2Fnutrition-topics-2.0%2Fgeneral-nutrition-wellness%2F2-2-2-3foodgroups_fruits_detailfeature_thumb.jpg%3Fsfvrsn%3D7abe71fe_4&imgrefurl=https%3A%2F%2Fwww.healthyeating.org%2FHealthy-Eating%2FAll-Star-Foods%2FFruits&tbnid=12LB6t-_YQapMM&vet=12ahUKEwiu8O6nu4rvAhXUEXIKHf98CTwQMygAegUIARDOAQ..i&docid=_XVIsgIH8atHaM&w=700&h=426&q=fruits&ved=2ahUKEwiu8O6nu4rvAhXUEXIKHf98CTwQMygAegUIARDOAQ\n",
      "https://www.google.com/imgres?imgurl=https%3A%2F%2Fwww.healthyeating.org%2Fimages%2Fdefault-source%2Fhome-0.0%2Fnutrition-topics-2.0%2Fgeneral-nutrition-wellness%2F2-2-2-3foodgroups_fruits_detailfeature_thumb.jpg%3Fsfvrsn%3D7abe71fe_4&imgrefurl=https%3A%2F%2Fwww.healthyeating.org%2FHealthy-Eating%2FAll-Star-Foods%2FFruits&tbnid=12LB6t-_YQapMM&vet=12ahUKEwiu8O6nu4rvAhXUEXIKHf98CTwQMygAegUIARDOAQ..i&docid=_XVIsgIH8atHaM&w=700&h=426&q=fruits&ved=2ahUKEwiu8O6nu4rvAhXUEXIKHf98CTwQMygAegUIARDOAQ\n",
      "https://www.google.com/imgres?imgurl=https%3A%2F%2Fwww.healthyeating.org%2Fimages%2Fdefault-source%2Fhome-0.0%2Fnutrition-topics-2.0%2Fgeneral-nutrition-wellness%2F2-2-2-3foodgroups_fruits_detailfeature_thumb.jpg%3Fsfvrsn%3D7abe71fe_4&imgrefurl=https%3A%2F%2Fwww.healthyeating.org%2FHealthy-Eating%2FAll-Star-Foods%2FFruits&tbnid=12LB6t-_YQapMM&vet=12ahUKEwiu8O6nu4rvAhXUEXIKHf98CTwQMygAegUIARDOAQ..i&docid=_XVIsgIH8atHaM&w=700&h=426&q=fruits&ved=2ahUKEwiu8O6nu4rvAhXUEXIKHf98CTwQMygAegUIARDOAQ\n",
      "https://www.google.com/imgres?imgurl=https%3A%2F%2Fwww.healthyeating.org%2Fimages%2Fdefault-source%2Fhome-0.0%2Fnutrition-topics-2.0%2Fgeneral-nutrition-wellness%2F2-2-2-3foodgroups_fruits_detailfeature_thumb.jpg%3Fsfvrsn%3D7abe71fe_4&imgrefurl=https%3A%2F%2Fwww.healthyeating.org%2FHealthy-Eating%2FAll-Star-Foods%2FFruits&tbnid=12LB6t-_YQapMM&vet=12ahUKEwiu8O6nu4rvAhXUEXIKHf98CTwQMygAegUIARDOAQ..i&docid=_XVIsgIH8atHaM&w=700&h=426&q=fruits&ved=2ahUKEwiu8O6nu4rvAhXUEXIKHf98CTwQMygAegUIARDOAQ\n",
      "https://www.google.com/imgres?imgurl=https%3A%2F%2Fwww.healthyeating.org%2Fimages%2Fdefault-source%2Fhome-0.0%2Fnutrition-topics-2.0%2Fgeneral-nutrition-wellness%2F2-2-2-3foodgroups_fruits_detailfeature_thumb.jpg%3Fsfvrsn%3D7abe71fe_4&imgrefurl=https%3A%2F%2Fwww.healthyeating.org%2FHealthy-Eating%2FAll-Star-Foods%2FFruits&tbnid=12LB6t-_YQapMM&vet=12ahUKEwiu8O6nu4rvAhXUEXIKHf98CTwQMygAegUIARDOAQ..i&docid=_XVIsgIH8atHaM&w=700&h=426&q=fruits&ved=2ahUKEwiu8O6nu4rvAhXUEXIKHf98CTwQMygAegUIARDOAQ\n",
      "https://www.google.com/imgres?imgurl=https%3A%2F%2Fwww.healthyeating.org%2Fimages%2Fdefault-source%2Fhome-0.0%2Fnutrition-topics-2.0%2Fgeneral-nutrition-wellness%2F2-2-2-3foodgroups_fruits_detailfeature_thumb.jpg%3Fsfvrsn%3D7abe71fe_4&imgrefurl=https%3A%2F%2Fwww.healthyeating.org%2FHealthy-Eating%2FAll-Star-Foods%2FFruits&tbnid=12LB6t-_YQapMM&vet=12ahUKEwiu8O6nu4rvAhXUEXIKHf98CTwQMygAegUIARDOAQ..i&docid=_XVIsgIH8atHaM&w=700&h=426&q=fruits&ved=2ahUKEwiu8O6nu4rvAhXUEXIKHf98CTwQMygAegUIARDOAQ\n",
      "https://www.google.com/imgres?imgurl=https%3A%2F%2Fwww.healthyeating.org%2Fimages%2Fdefault-source%2Fhome-0.0%2Fnutrition-topics-2.0%2Fgeneral-nutrition-wellness%2F2-2-2-3foodgroups_fruits_detailfeature_thumb.jpg%3Fsfvrsn%3D7abe71fe_4&imgrefurl=https%3A%2F%2Fwww.healthyeating.org%2FHealthy-Eating%2FAll-Star-Foods%2FFruits&tbnid=12LB6t-_YQapMM&vet=12ahUKEwiu8O6nu4rvAhXUEXIKHf98CTwQMygAegUIARDOAQ..i&docid=_XVIsgIH8atHaM&w=700&h=426&q=fruits&ved=2ahUKEwiu8O6nu4rvAhXUEXIKHf98CTwQMygAegUIARDOAQ\n",
      "https://www.google.com/imgres?imgurl=https%3A%2F%2Fwww.healthyeating.org%2Fimages%2Fdefault-source%2Fhome-0.0%2Fnutrition-topics-2.0%2Fgeneral-nutrition-wellness%2F2-2-2-3foodgroups_fruits_detailfeature_thumb.jpg%3Fsfvrsn%3D7abe71fe_4&imgrefurl=https%3A%2F%2Fwww.healthyeating.org%2FHealthy-Eating%2FAll-Star-Foods%2FFruits&tbnid=12LB6t-_YQapMM&vet=12ahUKEwiu8O6nu4rvAhXUEXIKHf98CTwQMygAegUIARDOAQ..i&docid=_XVIsgIH8atHaM&w=700&h=426&q=fruits&ved=2ahUKEwiu8O6nu4rvAhXUEXIKHf98CTwQMygAegUIARDOAQ\n",
      "https://www.google.com/imgres?imgurl=https%3A%2F%2Fwww.healthyeating.org%2Fimages%2Fdefault-source%2Fhome-0.0%2Fnutrition-topics-2.0%2Fgeneral-nutrition-wellness%2F2-2-2-3foodgroups_fruits_detailfeature_thumb.jpg%3Fsfvrsn%3D7abe71fe_4&imgrefurl=https%3A%2F%2Fwww.healthyeating.org%2FHealthy-Eating%2FAll-Star-Foods%2FFruits&tbnid=12LB6t-_YQapMM&vet=12ahUKEwiu8O6nu4rvAhXUEXIKHf98CTwQMygAegUIARDOAQ..i&docid=_XVIsgIH8atHaM&w=700&h=426&q=fruits&ved=2ahUKEwiu8O6nu4rvAhXUEXIKHf98CTwQMygAegUIARDOAQ\n",
      "https://www.google.com/imgres?imgurl=https%3A%2F%2Fwww.healthyeating.org%2Fimages%2Fdefault-source%2Fhome-0.0%2Fnutrition-topics-2.0%2Fgeneral-nutrition-wellness%2F2-2-2-3foodgroups_fruits_detailfeature_thumb.jpg%3Fsfvrsn%3D7abe71fe_4&imgrefurl=https%3A%2F%2Fwww.healthyeating.org%2FHealthy-Eating%2FAll-Star-Foods%2FFruits&tbnid=12LB6t-_YQapMM&vet=12ahUKEwiu8O6nu4rvAhXUEXIKHf98CTwQMygAegUIARDOAQ..i&docid=_XVIsgIH8atHaM&w=700&h=426&q=fruits&ved=2ahUKEwiu8O6nu4rvAhXUEXIKHf98CTwQMygAegUIARDOAQ\n",
      "https://www.google.com/imgres?imgurl=https%3A%2F%2Fwww.healthyeating.org%2Fimages%2Fdefault-source%2Fhome-0.0%2Fnutrition-topics-2.0%2Fgeneral-nutrition-wellness%2F2-2-2-3foodgroups_fruits_detailfeature_thumb.jpg%3Fsfvrsn%3D7abe71fe_4&imgrefurl=https%3A%2F%2Fwww.healthyeating.org%2FHealthy-Eating%2FAll-Star-Foods%2FFruits&tbnid=12LB6t-_YQapMM&vet=12ahUKEwiu8O6nu4rvAhXUEXIKHf98CTwQMygAegUIARDOAQ..i&docid=_XVIsgIH8atHaM&w=700&h=426&q=fruits&ved=2ahUKEwiu8O6nu4rvAhXUEXIKHf98CTwQMygAegUIARDOAQ\n",
      "https://www.google.com/imgres?imgurl=https%3A%2F%2Fwww.healthyeating.org%2Fimages%2Fdefault-source%2Fhome-0.0%2Fnutrition-topics-2.0%2Fgeneral-nutrition-wellness%2F2-2-2-3foodgroups_fruits_detailfeature_thumb.jpg%3Fsfvrsn%3D7abe71fe_4&imgrefurl=https%3A%2F%2Fwww.healthyeating.org%2FHealthy-Eating%2FAll-Star-Foods%2FFruits&tbnid=12LB6t-_YQapMM&vet=12ahUKEwiu8O6nu4rvAhXUEXIKHf98CTwQMygAegUIARDOAQ..i&docid=_XVIsgIH8atHaM&w=700&h=426&q=fruits&ved=2ahUKEwiu8O6nu4rvAhXUEXIKHf98CTwQMygAegUIARDOAQ\n",
      "https://www.google.com/imgres?imgurl=https%3A%2F%2Fwww.healthyeating.org%2Fimages%2Fdefault-source%2Fhome-0.0%2Fnutrition-topics-2.0%2Fgeneral-nutrition-wellness%2F2-2-2-3foodgroups_fruits_detailfeature_thumb.jpg%3Fsfvrsn%3D7abe71fe_4&imgrefurl=https%3A%2F%2Fwww.healthyeating.org%2FHealthy-Eating%2FAll-Star-Foods%2FFruits&tbnid=12LB6t-_YQapMM&vet=12ahUKEwiu8O6nu4rvAhXUEXIKHf98CTwQMygAegUIARDOAQ..i&docid=_XVIsgIH8atHaM&w=700&h=426&q=fruits&ved=2ahUKEwiu8O6nu4rvAhXUEXIKHf98CTwQMygAegUIARDOAQ\n",
      "https://www.google.com/imgres?imgurl=https%3A%2F%2Fwww.healthyeating.org%2Fimages%2Fdefault-source%2Fhome-0.0%2Fnutrition-topics-2.0%2Fgeneral-nutrition-wellness%2F2-2-2-3foodgroups_fruits_detailfeature_thumb.jpg%3Fsfvrsn%3D7abe71fe_4&imgrefurl=https%3A%2F%2Fwww.healthyeating.org%2FHealthy-Eating%2FAll-Star-Foods%2FFruits&tbnid=12LB6t-_YQapMM&vet=12ahUKEwiu8O6nu4rvAhXUEXIKHf98CTwQMygAegUIARDOAQ..i&docid=_XVIsgIH8atHaM&w=700&h=426&q=fruits&ved=2ahUKEwiu8O6nu4rvAhXUEXIKHf98CTwQMygAegUIARDOAQ\n",
      "https://www.google.com/imgres?imgurl=https%3A%2F%2Fwww.healthyeating.org%2Fimages%2Fdefault-source%2Fhome-0.0%2Fnutrition-topics-2.0%2Fgeneral-nutrition-wellness%2F2-2-2-3foodgroups_fruits_detailfeature_thumb.jpg%3Fsfvrsn%3D7abe71fe_4&imgrefurl=https%3A%2F%2Fwww.healthyeating.org%2FHealthy-Eating%2FAll-Star-Foods%2FFruits&tbnid=12LB6t-_YQapMM&vet=12ahUKEwiu8O6nu4rvAhXUEXIKHf98CTwQMygAegUIARDOAQ..i&docid=_XVIsgIH8atHaM&w=700&h=426&q=fruits&ved=2ahUKEwiu8O6nu4rvAhXUEXIKHf98CTwQMygAegUIARDOAQ\n",
      "https://www.google.com/imgres?imgurl=https%3A%2F%2Fwww.healthyeating.org%2Fimages%2Fdefault-source%2Fhome-0.0%2Fnutrition-topics-2.0%2Fgeneral-nutrition-wellness%2F2-2-2-3foodgroups_fruits_detailfeature_thumb.jpg%3Fsfvrsn%3D7abe71fe_4&imgrefurl=https%3A%2F%2Fwww.healthyeating.org%2FHealthy-Eating%2FAll-Star-Foods%2FFruits&tbnid=12LB6t-_YQapMM&vet=12ahUKEwiu8O6nu4rvAhXUEXIKHf98CTwQMygAegUIARDOAQ..i&docid=_XVIsgIH8atHaM&w=700&h=426&q=fruits&ved=2ahUKEwiu8O6nu4rvAhXUEXIKHf98CTwQMygAegUIARDOAQ\n",
      "https://www.google.com/imgres?imgurl=https%3A%2F%2Fwww.healthyeating.org%2Fimages%2Fdefault-source%2Fhome-0.0%2Fnutrition-topics-2.0%2Fgeneral-nutrition-wellness%2F2-2-2-3foodgroups_fruits_detailfeature_thumb.jpg%3Fsfvrsn%3D7abe71fe_4&imgrefurl=https%3A%2F%2Fwww.healthyeating.org%2FHealthy-Eating%2FAll-Star-Foods%2FFruits&tbnid=12LB6t-_YQapMM&vet=12ahUKEwiu8O6nu4rvAhXUEXIKHf98CTwQMygAegUIARDOAQ..i&docid=_XVIsgIH8atHaM&w=700&h=426&q=fruits&ved=2ahUKEwiu8O6nu4rvAhXUEXIKHf98CTwQMygAegUIARDOAQ\n",
      "https://www.google.com/imgres?imgurl=https%3A%2F%2Fwww.healthyeating.org%2Fimages%2Fdefault-source%2Fhome-0.0%2Fnutrition-topics-2.0%2Fgeneral-nutrition-wellness%2F2-2-2-3foodgroups_fruits_detailfeature_thumb.jpg%3Fsfvrsn%3D7abe71fe_4&imgrefurl=https%3A%2F%2Fwww.healthyeating.org%2FHealthy-Eating%2FAll-Star-Foods%2FFruits&tbnid=12LB6t-_YQapMM&vet=12ahUKEwiu8O6nu4rvAhXUEXIKHf98CTwQMygAegUIARDOAQ..i&docid=_XVIsgIH8atHaM&w=700&h=426&q=fruits&ved=2ahUKEwiu8O6nu4rvAhXUEXIKHf98CTwQMygAegUIARDOAQ\n",
      "https://www.google.com/imgres?imgurl=https%3A%2F%2Fwww.healthyeating.org%2Fimages%2Fdefault-source%2Fhome-0.0%2Fnutrition-topics-2.0%2Fgeneral-nutrition-wellness%2F2-2-2-3foodgroups_fruits_detailfeature_thumb.jpg%3Fsfvrsn%3D7abe71fe_4&imgrefurl=https%3A%2F%2Fwww.healthyeating.org%2FHealthy-Eating%2FAll-Star-Foods%2FFruits&tbnid=12LB6t-_YQapMM&vet=12ahUKEwiu8O6nu4rvAhXUEXIKHf98CTwQMygAegUIARDOAQ..i&docid=_XVIsgIH8atHaM&w=700&h=426&q=fruits&ved=2ahUKEwiu8O6nu4rvAhXUEXIKHf98CTwQMygAegUIARDOAQ\n",
      "https://www.google.com/imgres?imgurl=https%3A%2F%2Fwww.healthyeating.org%2Fimages%2Fdefault-source%2Fhome-0.0%2Fnutrition-topics-2.0%2Fgeneral-nutrition-wellness%2F2-2-2-3foodgroups_fruits_detailfeature_thumb.jpg%3Fsfvrsn%3D7abe71fe_4&imgrefurl=https%3A%2F%2Fwww.healthyeating.org%2FHealthy-Eating%2FAll-Star-Foods%2FFruits&tbnid=12LB6t-_YQapMM&vet=12ahUKEwiu8O6nu4rvAhXUEXIKHf98CTwQMygAegUIARDOAQ..i&docid=_XVIsgIH8atHaM&w=700&h=426&q=fruits&ved=2ahUKEwiu8O6nu4rvAhXUEXIKHf98CTwQMygAegUIARDOAQ\n",
      "https://www.google.com/imgres?imgurl=https%3A%2F%2Fwww.healthyeating.org%2Fimages%2Fdefault-source%2Fhome-0.0%2Fnutrition-topics-2.0%2Fgeneral-nutrition-wellness%2F2-2-2-3foodgroups_fruits_detailfeature_thumb.jpg%3Fsfvrsn%3D7abe71fe_4&imgrefurl=https%3A%2F%2Fwww.healthyeating.org%2FHealthy-Eating%2FAll-Star-Foods%2FFruits&tbnid=12LB6t-_YQapMM&vet=12ahUKEwiu8O6nu4rvAhXUEXIKHf98CTwQMygAegUIARDOAQ..i&docid=_XVIsgIH8atHaM&w=700&h=426&q=fruits&ved=2ahUKEwiu8O6nu4rvAhXUEXIKHf98CTwQMygAegUIARDOAQ\n",
      "https://www.google.com/imgres?imgurl=https%3A%2F%2Fwww.healthyeating.org%2Fimages%2Fdefault-source%2Fhome-0.0%2Fnutrition-topics-2.0%2Fgeneral-nutrition-wellness%2F2-2-2-3foodgroups_fruits_detailfeature_thumb.jpg%3Fsfvrsn%3D7abe71fe_4&imgrefurl=https%3A%2F%2Fwww.healthyeating.org%2FHealthy-Eating%2FAll-Star-Foods%2FFruits&tbnid=12LB6t-_YQapMM&vet=12ahUKEwiu8O6nu4rvAhXUEXIKHf98CTwQMygAegUIARDOAQ..i&docid=_XVIsgIH8atHaM&w=700&h=426&q=fruits&ved=2ahUKEwiu8O6nu4rvAhXUEXIKHf98CTwQMygAegUIARDOAQ\n",
      "https://www.google.com/imgres?imgurl=https%3A%2F%2Fwww.healthyeating.org%2Fimages%2Fdefault-source%2Fhome-0.0%2Fnutrition-topics-2.0%2Fgeneral-nutrition-wellness%2F2-2-2-3foodgroups_fruits_detailfeature_thumb.jpg%3Fsfvrsn%3D7abe71fe_4&imgrefurl=https%3A%2F%2Fwww.healthyeating.org%2FHealthy-Eating%2FAll-Star-Foods%2FFruits&tbnid=12LB6t-_YQapMM&vet=12ahUKEwiu8O6nu4rvAhXUEXIKHf98CTwQMygAegUIARDOAQ..i&docid=_XVIsgIH8atHaM&w=700&h=426&q=fruits&ved=2ahUKEwiu8O6nu4rvAhXUEXIKHf98CTwQMygAegUIARDOAQ\n",
      "https://www.google.com/imgres?imgurl=https%3A%2F%2Fwww.healthyeating.org%2Fimages%2Fdefault-source%2Fhome-0.0%2Fnutrition-topics-2.0%2Fgeneral-nutrition-wellness%2F2-2-2-3foodgroups_fruits_detailfeature_thumb.jpg%3Fsfvrsn%3D7abe71fe_4&imgrefurl=https%3A%2F%2Fwww.healthyeating.org%2FHealthy-Eating%2FAll-Star-Foods%2FFruits&tbnid=12LB6t-_YQapMM&vet=12ahUKEwiu8O6nu4rvAhXUEXIKHf98CTwQMygAegUIARDOAQ..i&docid=_XVIsgIH8atHaM&w=700&h=426&q=fruits&ved=2ahUKEwiu8O6nu4rvAhXUEXIKHf98CTwQMygAegUIARDOAQ\n",
      "https://www.google.com/imgres?imgurl=https%3A%2F%2Fwww.healthyeating.org%2Fimages%2Fdefault-source%2Fhome-0.0%2Fnutrition-topics-2.0%2Fgeneral-nutrition-wellness%2F2-2-2-3foodgroups_fruits_detailfeature_thumb.jpg%3Fsfvrsn%3D7abe71fe_4&imgrefurl=https%3A%2F%2Fwww.healthyeating.org%2FHealthy-Eating%2FAll-Star-Foods%2FFruits&tbnid=12LB6t-_YQapMM&vet=12ahUKEwiu8O6nu4rvAhXUEXIKHf98CTwQMygAegUIARDOAQ..i&docid=_XVIsgIH8atHaM&w=700&h=426&q=fruits&ved=2ahUKEwiu8O6nu4rvAhXUEXIKHf98CTwQMygAegUIARDOAQ\n",
      "https://www.google.com/imgres?imgurl=https%3A%2F%2Fwww.healthyeating.org%2Fimages%2Fdefault-source%2Fhome-0.0%2Fnutrition-topics-2.0%2Fgeneral-nutrition-wellness%2F2-2-2-3foodgroups_fruits_detailfeature_thumb.jpg%3Fsfvrsn%3D7abe71fe_4&imgrefurl=https%3A%2F%2Fwww.healthyeating.org%2FHealthy-Eating%2FAll-Star-Foods%2FFruits&tbnid=12LB6t-_YQapMM&vet=12ahUKEwiu8O6nu4rvAhXUEXIKHf98CTwQMygAegUIARDOAQ..i&docid=_XVIsgIH8atHaM&w=700&h=426&q=fruits&ved=2ahUKEwiu8O6nu4rvAhXUEXIKHf98CTwQMygAegUIARDOAQ\n",
      "https://www.google.com/imgres?imgurl=https%3A%2F%2Fwww.healthyeating.org%2Fimages%2Fdefault-source%2Fhome-0.0%2Fnutrition-topics-2.0%2Fgeneral-nutrition-wellness%2F2-2-2-3foodgroups_fruits_detailfeature_thumb.jpg%3Fsfvrsn%3D7abe71fe_4&imgrefurl=https%3A%2F%2Fwww.healthyeating.org%2FHealthy-Eating%2FAll-Star-Foods%2FFruits&tbnid=12LB6t-_YQapMM&vet=12ahUKEwiu8O6nu4rvAhXUEXIKHf98CTwQMygAegUIARDOAQ..i&docid=_XVIsgIH8atHaM&w=700&h=426&q=fruits&ved=2ahUKEwiu8O6nu4rvAhXUEXIKHf98CTwQMygAegUIARDOAQ\n"
     ]
    }
   ],
   "source": [
    "for i in range(0,99):\n",
    "    print(driver.find_element_by_xpath(\"//a[@class='wXeWr islib nfEiy mM5pbd']\").get_attribute('href'))"
   ]
  },
  {
   "cell_type": "code",
   "execution_count": 12,
   "metadata": {},
   "outputs": [],
   "source": [
    "driver.close()"
   ]
  },
  {
   "cell_type": "code",
   "execution_count": 14,
   "metadata": {},
   "outputs": [],
   "source": [
    "driver=webdriver.Chrome(\"Desktop/chromedriver.exe\")"
   ]
  },
  {
   "cell_type": "code",
   "execution_count": 15,
   "metadata": {},
   "outputs": [],
   "source": [
    "driver.get(\"https://images.google.com/\")"
   ]
  },
  {
   "cell_type": "code",
   "execution_count": 16,
   "metadata": {},
   "outputs": [],
   "source": [
    "url=\"https://images.google.com/\""
   ]
  },
  {
   "cell_type": "code",
   "execution_count": 17,
   "metadata": {},
   "outputs": [],
   "source": [
    "driver.get(url)"
   ]
  },
  {
   "cell_type": "code",
   "execution_count": 18,
   "metadata": {},
   "outputs": [],
   "source": [
    "search_cars=driver.find_element_by_xpath(\"//*[@id='sbtc']/div/div[2]/input\")\n",
    "search_cars.send_keys(\"cars\")"
   ]
  },
  {
   "cell_type": "code",
   "execution_count": 19,
   "metadata": {},
   "outputs": [],
   "source": [
    "search_btn=driver.find_element_by_xpath(\"//span[@class='z1asCe MZy1Rb']\")\n",
    "search_btn.click()"
   ]
  },
  {
   "cell_type": "code",
   "execution_count": 22,
   "metadata": {
    "scrolled": true
   },
   "outputs": [
    {
     "name": "stdout",
     "output_type": "stream",
     "text": [
      "https://www.google.com/imgres?imgurl=https%3A%2F%2Fspecials-images.forbesimg.com%2Fimageserve%2F5d3703e2f1176b00089761a6%2F960x0.jpg%3FcropX1%3D836%26cropX2%3D5396%26cropY1%3D799%26cropY2%3D3364&imgrefurl=https%3A%2F%2Fwww.forbes.com%2Fsites%2Fjimgorzelany%2F2019%2F07%2F23%2Fhere-are-the-coolest-new-cars-for-2020%2F&tbnid=2HR6gA81oIwMTM&vet=12ahUKEwisvuKHvorvAhVOHysKHctYAfIQMygAegUIARDPAQ..i&docid=HZLLyFhoQjvNCM&w=960&h=540&q=cars&ved=2ahUKEwisvuKHvorvAhVOHysKHctYAfIQMygAegUIARDPAQ\n",
      "https://www.google.com/imgres?imgurl=https%3A%2F%2Fspecials-images.forbesimg.com%2Fimageserve%2F5d3703e2f1176b00089761a6%2F960x0.jpg%3FcropX1%3D836%26cropX2%3D5396%26cropY1%3D799%26cropY2%3D3364&imgrefurl=https%3A%2F%2Fwww.forbes.com%2Fsites%2Fjimgorzelany%2F2019%2F07%2F23%2Fhere-are-the-coolest-new-cars-for-2020%2F&tbnid=2HR6gA81oIwMTM&vet=12ahUKEwisvuKHvorvAhVOHysKHctYAfIQMygAegUIARDPAQ..i&docid=HZLLyFhoQjvNCM&w=960&h=540&q=cars&ved=2ahUKEwisvuKHvorvAhVOHysKHctYAfIQMygAegUIARDPAQ\n",
      "https://www.google.com/imgres?imgurl=https%3A%2F%2Fspecials-images.forbesimg.com%2Fimageserve%2F5d3703e2f1176b00089761a6%2F960x0.jpg%3FcropX1%3D836%26cropX2%3D5396%26cropY1%3D799%26cropY2%3D3364&imgrefurl=https%3A%2F%2Fwww.forbes.com%2Fsites%2Fjimgorzelany%2F2019%2F07%2F23%2Fhere-are-the-coolest-new-cars-for-2020%2F&tbnid=2HR6gA81oIwMTM&vet=12ahUKEwisvuKHvorvAhVOHysKHctYAfIQMygAegUIARDPAQ..i&docid=HZLLyFhoQjvNCM&w=960&h=540&q=cars&ved=2ahUKEwisvuKHvorvAhVOHysKHctYAfIQMygAegUIARDPAQ\n",
      "https://www.google.com/imgres?imgurl=https%3A%2F%2Fspecials-images.forbesimg.com%2Fimageserve%2F5d3703e2f1176b00089761a6%2F960x0.jpg%3FcropX1%3D836%26cropX2%3D5396%26cropY1%3D799%26cropY2%3D3364&imgrefurl=https%3A%2F%2Fwww.forbes.com%2Fsites%2Fjimgorzelany%2F2019%2F07%2F23%2Fhere-are-the-coolest-new-cars-for-2020%2F&tbnid=2HR6gA81oIwMTM&vet=12ahUKEwisvuKHvorvAhVOHysKHctYAfIQMygAegUIARDPAQ..i&docid=HZLLyFhoQjvNCM&w=960&h=540&q=cars&ved=2ahUKEwisvuKHvorvAhVOHysKHctYAfIQMygAegUIARDPAQ\n",
      "https://www.google.com/imgres?imgurl=https%3A%2F%2Fspecials-images.forbesimg.com%2Fimageserve%2F5d3703e2f1176b00089761a6%2F960x0.jpg%3FcropX1%3D836%26cropX2%3D5396%26cropY1%3D799%26cropY2%3D3364&imgrefurl=https%3A%2F%2Fwww.forbes.com%2Fsites%2Fjimgorzelany%2F2019%2F07%2F23%2Fhere-are-the-coolest-new-cars-for-2020%2F&tbnid=2HR6gA81oIwMTM&vet=12ahUKEwisvuKHvorvAhVOHysKHctYAfIQMygAegUIARDPAQ..i&docid=HZLLyFhoQjvNCM&w=960&h=540&q=cars&ved=2ahUKEwisvuKHvorvAhVOHysKHctYAfIQMygAegUIARDPAQ\n",
      "https://www.google.com/imgres?imgurl=https%3A%2F%2Fspecials-images.forbesimg.com%2Fimageserve%2F5d3703e2f1176b00089761a6%2F960x0.jpg%3FcropX1%3D836%26cropX2%3D5396%26cropY1%3D799%26cropY2%3D3364&imgrefurl=https%3A%2F%2Fwww.forbes.com%2Fsites%2Fjimgorzelany%2F2019%2F07%2F23%2Fhere-are-the-coolest-new-cars-for-2020%2F&tbnid=2HR6gA81oIwMTM&vet=12ahUKEwisvuKHvorvAhVOHysKHctYAfIQMygAegUIARDPAQ..i&docid=HZLLyFhoQjvNCM&w=960&h=540&q=cars&ved=2ahUKEwisvuKHvorvAhVOHysKHctYAfIQMygAegUIARDPAQ\n",
      "https://www.google.com/imgres?imgurl=https%3A%2F%2Fspecials-images.forbesimg.com%2Fimageserve%2F5d3703e2f1176b00089761a6%2F960x0.jpg%3FcropX1%3D836%26cropX2%3D5396%26cropY1%3D799%26cropY2%3D3364&imgrefurl=https%3A%2F%2Fwww.forbes.com%2Fsites%2Fjimgorzelany%2F2019%2F07%2F23%2Fhere-are-the-coolest-new-cars-for-2020%2F&tbnid=2HR6gA81oIwMTM&vet=12ahUKEwisvuKHvorvAhVOHysKHctYAfIQMygAegUIARDPAQ..i&docid=HZLLyFhoQjvNCM&w=960&h=540&q=cars&ved=2ahUKEwisvuKHvorvAhVOHysKHctYAfIQMygAegUIARDPAQ\n",
      "https://www.google.com/imgres?imgurl=https%3A%2F%2Fspecials-images.forbesimg.com%2Fimageserve%2F5d3703e2f1176b00089761a6%2F960x0.jpg%3FcropX1%3D836%26cropX2%3D5396%26cropY1%3D799%26cropY2%3D3364&imgrefurl=https%3A%2F%2Fwww.forbes.com%2Fsites%2Fjimgorzelany%2F2019%2F07%2F23%2Fhere-are-the-coolest-new-cars-for-2020%2F&tbnid=2HR6gA81oIwMTM&vet=12ahUKEwisvuKHvorvAhVOHysKHctYAfIQMygAegUIARDPAQ..i&docid=HZLLyFhoQjvNCM&w=960&h=540&q=cars&ved=2ahUKEwisvuKHvorvAhVOHysKHctYAfIQMygAegUIARDPAQ\n",
      "https://www.google.com/imgres?imgurl=https%3A%2F%2Fspecials-images.forbesimg.com%2Fimageserve%2F5d3703e2f1176b00089761a6%2F960x0.jpg%3FcropX1%3D836%26cropX2%3D5396%26cropY1%3D799%26cropY2%3D3364&imgrefurl=https%3A%2F%2Fwww.forbes.com%2Fsites%2Fjimgorzelany%2F2019%2F07%2F23%2Fhere-are-the-coolest-new-cars-for-2020%2F&tbnid=2HR6gA81oIwMTM&vet=12ahUKEwisvuKHvorvAhVOHysKHctYAfIQMygAegUIARDPAQ..i&docid=HZLLyFhoQjvNCM&w=960&h=540&q=cars&ved=2ahUKEwisvuKHvorvAhVOHysKHctYAfIQMygAegUIARDPAQ\n",
      "https://www.google.com/imgres?imgurl=https%3A%2F%2Fspecials-images.forbesimg.com%2Fimageserve%2F5d3703e2f1176b00089761a6%2F960x0.jpg%3FcropX1%3D836%26cropX2%3D5396%26cropY1%3D799%26cropY2%3D3364&imgrefurl=https%3A%2F%2Fwww.forbes.com%2Fsites%2Fjimgorzelany%2F2019%2F07%2F23%2Fhere-are-the-coolest-new-cars-for-2020%2F&tbnid=2HR6gA81oIwMTM&vet=12ahUKEwisvuKHvorvAhVOHysKHctYAfIQMygAegUIARDPAQ..i&docid=HZLLyFhoQjvNCM&w=960&h=540&q=cars&ved=2ahUKEwisvuKHvorvAhVOHysKHctYAfIQMygAegUIARDPAQ\n",
      "https://www.google.com/imgres?imgurl=https%3A%2F%2Fspecials-images.forbesimg.com%2Fimageserve%2F5d3703e2f1176b00089761a6%2F960x0.jpg%3FcropX1%3D836%26cropX2%3D5396%26cropY1%3D799%26cropY2%3D3364&imgrefurl=https%3A%2F%2Fwww.forbes.com%2Fsites%2Fjimgorzelany%2F2019%2F07%2F23%2Fhere-are-the-coolest-new-cars-for-2020%2F&tbnid=2HR6gA81oIwMTM&vet=12ahUKEwisvuKHvorvAhVOHysKHctYAfIQMygAegUIARDPAQ..i&docid=HZLLyFhoQjvNCM&w=960&h=540&q=cars&ved=2ahUKEwisvuKHvorvAhVOHysKHctYAfIQMygAegUIARDPAQ\n",
      "https://www.google.com/imgres?imgurl=https%3A%2F%2Fspecials-images.forbesimg.com%2Fimageserve%2F5d3703e2f1176b00089761a6%2F960x0.jpg%3FcropX1%3D836%26cropX2%3D5396%26cropY1%3D799%26cropY2%3D3364&imgrefurl=https%3A%2F%2Fwww.forbes.com%2Fsites%2Fjimgorzelany%2F2019%2F07%2F23%2Fhere-are-the-coolest-new-cars-for-2020%2F&tbnid=2HR6gA81oIwMTM&vet=12ahUKEwisvuKHvorvAhVOHysKHctYAfIQMygAegUIARDPAQ..i&docid=HZLLyFhoQjvNCM&w=960&h=540&q=cars&ved=2ahUKEwisvuKHvorvAhVOHysKHctYAfIQMygAegUIARDPAQ\n",
      "https://www.google.com/imgres?imgurl=https%3A%2F%2Fspecials-images.forbesimg.com%2Fimageserve%2F5d3703e2f1176b00089761a6%2F960x0.jpg%3FcropX1%3D836%26cropX2%3D5396%26cropY1%3D799%26cropY2%3D3364&imgrefurl=https%3A%2F%2Fwww.forbes.com%2Fsites%2Fjimgorzelany%2F2019%2F07%2F23%2Fhere-are-the-coolest-new-cars-for-2020%2F&tbnid=2HR6gA81oIwMTM&vet=12ahUKEwisvuKHvorvAhVOHysKHctYAfIQMygAegUIARDPAQ..i&docid=HZLLyFhoQjvNCM&w=960&h=540&q=cars&ved=2ahUKEwisvuKHvorvAhVOHysKHctYAfIQMygAegUIARDPAQ\n",
      "https://www.google.com/imgres?imgurl=https%3A%2F%2Fspecials-images.forbesimg.com%2Fimageserve%2F5d3703e2f1176b00089761a6%2F960x0.jpg%3FcropX1%3D836%26cropX2%3D5396%26cropY1%3D799%26cropY2%3D3364&imgrefurl=https%3A%2F%2Fwww.forbes.com%2Fsites%2Fjimgorzelany%2F2019%2F07%2F23%2Fhere-are-the-coolest-new-cars-for-2020%2F&tbnid=2HR6gA81oIwMTM&vet=12ahUKEwisvuKHvorvAhVOHysKHctYAfIQMygAegUIARDPAQ..i&docid=HZLLyFhoQjvNCM&w=960&h=540&q=cars&ved=2ahUKEwisvuKHvorvAhVOHysKHctYAfIQMygAegUIARDPAQ\n",
      "https://www.google.com/imgres?imgurl=https%3A%2F%2Fspecials-images.forbesimg.com%2Fimageserve%2F5d3703e2f1176b00089761a6%2F960x0.jpg%3FcropX1%3D836%26cropX2%3D5396%26cropY1%3D799%26cropY2%3D3364&imgrefurl=https%3A%2F%2Fwww.forbes.com%2Fsites%2Fjimgorzelany%2F2019%2F07%2F23%2Fhere-are-the-coolest-new-cars-for-2020%2F&tbnid=2HR6gA81oIwMTM&vet=12ahUKEwisvuKHvorvAhVOHysKHctYAfIQMygAegUIARDPAQ..i&docid=HZLLyFhoQjvNCM&w=960&h=540&q=cars&ved=2ahUKEwisvuKHvorvAhVOHysKHctYAfIQMygAegUIARDPAQ\n",
      "https://www.google.com/imgres?imgurl=https%3A%2F%2Fspecials-images.forbesimg.com%2Fimageserve%2F5d3703e2f1176b00089761a6%2F960x0.jpg%3FcropX1%3D836%26cropX2%3D5396%26cropY1%3D799%26cropY2%3D3364&imgrefurl=https%3A%2F%2Fwww.forbes.com%2Fsites%2Fjimgorzelany%2F2019%2F07%2F23%2Fhere-are-the-coolest-new-cars-for-2020%2F&tbnid=2HR6gA81oIwMTM&vet=12ahUKEwisvuKHvorvAhVOHysKHctYAfIQMygAegUIARDPAQ..i&docid=HZLLyFhoQjvNCM&w=960&h=540&q=cars&ved=2ahUKEwisvuKHvorvAhVOHysKHctYAfIQMygAegUIARDPAQ\n",
      "https://www.google.com/imgres?imgurl=https%3A%2F%2Fspecials-images.forbesimg.com%2Fimageserve%2F5d3703e2f1176b00089761a6%2F960x0.jpg%3FcropX1%3D836%26cropX2%3D5396%26cropY1%3D799%26cropY2%3D3364&imgrefurl=https%3A%2F%2Fwww.forbes.com%2Fsites%2Fjimgorzelany%2F2019%2F07%2F23%2Fhere-are-the-coolest-new-cars-for-2020%2F&tbnid=2HR6gA81oIwMTM&vet=12ahUKEwisvuKHvorvAhVOHysKHctYAfIQMygAegUIARDPAQ..i&docid=HZLLyFhoQjvNCM&w=960&h=540&q=cars&ved=2ahUKEwisvuKHvorvAhVOHysKHctYAfIQMygAegUIARDPAQ\n",
      "https://www.google.com/imgres?imgurl=https%3A%2F%2Fspecials-images.forbesimg.com%2Fimageserve%2F5d3703e2f1176b00089761a6%2F960x0.jpg%3FcropX1%3D836%26cropX2%3D5396%26cropY1%3D799%26cropY2%3D3364&imgrefurl=https%3A%2F%2Fwww.forbes.com%2Fsites%2Fjimgorzelany%2F2019%2F07%2F23%2Fhere-are-the-coolest-new-cars-for-2020%2F&tbnid=2HR6gA81oIwMTM&vet=12ahUKEwisvuKHvorvAhVOHysKHctYAfIQMygAegUIARDPAQ..i&docid=HZLLyFhoQjvNCM&w=960&h=540&q=cars&ved=2ahUKEwisvuKHvorvAhVOHysKHctYAfIQMygAegUIARDPAQ\n",
      "https://www.google.com/imgres?imgurl=https%3A%2F%2Fspecials-images.forbesimg.com%2Fimageserve%2F5d3703e2f1176b00089761a6%2F960x0.jpg%3FcropX1%3D836%26cropX2%3D5396%26cropY1%3D799%26cropY2%3D3364&imgrefurl=https%3A%2F%2Fwww.forbes.com%2Fsites%2Fjimgorzelany%2F2019%2F07%2F23%2Fhere-are-the-coolest-new-cars-for-2020%2F&tbnid=2HR6gA81oIwMTM&vet=12ahUKEwisvuKHvorvAhVOHysKHctYAfIQMygAegUIARDPAQ..i&docid=HZLLyFhoQjvNCM&w=960&h=540&q=cars&ved=2ahUKEwisvuKHvorvAhVOHysKHctYAfIQMygAegUIARDPAQ\n",
      "https://www.google.com/imgres?imgurl=https%3A%2F%2Fspecials-images.forbesimg.com%2Fimageserve%2F5d3703e2f1176b00089761a6%2F960x0.jpg%3FcropX1%3D836%26cropX2%3D5396%26cropY1%3D799%26cropY2%3D3364&imgrefurl=https%3A%2F%2Fwww.forbes.com%2Fsites%2Fjimgorzelany%2F2019%2F07%2F23%2Fhere-are-the-coolest-new-cars-for-2020%2F&tbnid=2HR6gA81oIwMTM&vet=12ahUKEwisvuKHvorvAhVOHysKHctYAfIQMygAegUIARDPAQ..i&docid=HZLLyFhoQjvNCM&w=960&h=540&q=cars&ved=2ahUKEwisvuKHvorvAhVOHysKHctYAfIQMygAegUIARDPAQ\n",
      "https://www.google.com/imgres?imgurl=https%3A%2F%2Fspecials-images.forbesimg.com%2Fimageserve%2F5d3703e2f1176b00089761a6%2F960x0.jpg%3FcropX1%3D836%26cropX2%3D5396%26cropY1%3D799%26cropY2%3D3364&imgrefurl=https%3A%2F%2Fwww.forbes.com%2Fsites%2Fjimgorzelany%2F2019%2F07%2F23%2Fhere-are-the-coolest-new-cars-for-2020%2F&tbnid=2HR6gA81oIwMTM&vet=12ahUKEwisvuKHvorvAhVOHysKHctYAfIQMygAegUIARDPAQ..i&docid=HZLLyFhoQjvNCM&w=960&h=540&q=cars&ved=2ahUKEwisvuKHvorvAhVOHysKHctYAfIQMygAegUIARDPAQ\n",
      "https://www.google.com/imgres?imgurl=https%3A%2F%2Fspecials-images.forbesimg.com%2Fimageserve%2F5d3703e2f1176b00089761a6%2F960x0.jpg%3FcropX1%3D836%26cropX2%3D5396%26cropY1%3D799%26cropY2%3D3364&imgrefurl=https%3A%2F%2Fwww.forbes.com%2Fsites%2Fjimgorzelany%2F2019%2F07%2F23%2Fhere-are-the-coolest-new-cars-for-2020%2F&tbnid=2HR6gA81oIwMTM&vet=12ahUKEwisvuKHvorvAhVOHysKHctYAfIQMygAegUIARDPAQ..i&docid=HZLLyFhoQjvNCM&w=960&h=540&q=cars&ved=2ahUKEwisvuKHvorvAhVOHysKHctYAfIQMygAegUIARDPAQ\n",
      "https://www.google.com/imgres?imgurl=https%3A%2F%2Fspecials-images.forbesimg.com%2Fimageserve%2F5d3703e2f1176b00089761a6%2F960x0.jpg%3FcropX1%3D836%26cropX2%3D5396%26cropY1%3D799%26cropY2%3D3364&imgrefurl=https%3A%2F%2Fwww.forbes.com%2Fsites%2Fjimgorzelany%2F2019%2F07%2F23%2Fhere-are-the-coolest-new-cars-for-2020%2F&tbnid=2HR6gA81oIwMTM&vet=12ahUKEwisvuKHvorvAhVOHysKHctYAfIQMygAegUIARDPAQ..i&docid=HZLLyFhoQjvNCM&w=960&h=540&q=cars&ved=2ahUKEwisvuKHvorvAhVOHysKHctYAfIQMygAegUIARDPAQ\n",
      "https://www.google.com/imgres?imgurl=https%3A%2F%2Fspecials-images.forbesimg.com%2Fimageserve%2F5d3703e2f1176b00089761a6%2F960x0.jpg%3FcropX1%3D836%26cropX2%3D5396%26cropY1%3D799%26cropY2%3D3364&imgrefurl=https%3A%2F%2Fwww.forbes.com%2Fsites%2Fjimgorzelany%2F2019%2F07%2F23%2Fhere-are-the-coolest-new-cars-for-2020%2F&tbnid=2HR6gA81oIwMTM&vet=12ahUKEwisvuKHvorvAhVOHysKHctYAfIQMygAegUIARDPAQ..i&docid=HZLLyFhoQjvNCM&w=960&h=540&q=cars&ved=2ahUKEwisvuKHvorvAhVOHysKHctYAfIQMygAegUIARDPAQ\n",
      "https://www.google.com/imgres?imgurl=https%3A%2F%2Fspecials-images.forbesimg.com%2Fimageserve%2F5d3703e2f1176b00089761a6%2F960x0.jpg%3FcropX1%3D836%26cropX2%3D5396%26cropY1%3D799%26cropY2%3D3364&imgrefurl=https%3A%2F%2Fwww.forbes.com%2Fsites%2Fjimgorzelany%2F2019%2F07%2F23%2Fhere-are-the-coolest-new-cars-for-2020%2F&tbnid=2HR6gA81oIwMTM&vet=12ahUKEwisvuKHvorvAhVOHysKHctYAfIQMygAegUIARDPAQ..i&docid=HZLLyFhoQjvNCM&w=960&h=540&q=cars&ved=2ahUKEwisvuKHvorvAhVOHysKHctYAfIQMygAegUIARDPAQ\n",
      "https://www.google.com/imgres?imgurl=https%3A%2F%2Fspecials-images.forbesimg.com%2Fimageserve%2F5d3703e2f1176b00089761a6%2F960x0.jpg%3FcropX1%3D836%26cropX2%3D5396%26cropY1%3D799%26cropY2%3D3364&imgrefurl=https%3A%2F%2Fwww.forbes.com%2Fsites%2Fjimgorzelany%2F2019%2F07%2F23%2Fhere-are-the-coolest-new-cars-for-2020%2F&tbnid=2HR6gA81oIwMTM&vet=12ahUKEwisvuKHvorvAhVOHysKHctYAfIQMygAegUIARDPAQ..i&docid=HZLLyFhoQjvNCM&w=960&h=540&q=cars&ved=2ahUKEwisvuKHvorvAhVOHysKHctYAfIQMygAegUIARDPAQ\n",
      "https://www.google.com/imgres?imgurl=https%3A%2F%2Fspecials-images.forbesimg.com%2Fimageserve%2F5d3703e2f1176b00089761a6%2F960x0.jpg%3FcropX1%3D836%26cropX2%3D5396%26cropY1%3D799%26cropY2%3D3364&imgrefurl=https%3A%2F%2Fwww.forbes.com%2Fsites%2Fjimgorzelany%2F2019%2F07%2F23%2Fhere-are-the-coolest-new-cars-for-2020%2F&tbnid=2HR6gA81oIwMTM&vet=12ahUKEwisvuKHvorvAhVOHysKHctYAfIQMygAegUIARDPAQ..i&docid=HZLLyFhoQjvNCM&w=960&h=540&q=cars&ved=2ahUKEwisvuKHvorvAhVOHysKHctYAfIQMygAegUIARDPAQ\n",
      "https://www.google.com/imgres?imgurl=https%3A%2F%2Fspecials-images.forbesimg.com%2Fimageserve%2F5d3703e2f1176b00089761a6%2F960x0.jpg%3FcropX1%3D836%26cropX2%3D5396%26cropY1%3D799%26cropY2%3D3364&imgrefurl=https%3A%2F%2Fwww.forbes.com%2Fsites%2Fjimgorzelany%2F2019%2F07%2F23%2Fhere-are-the-coolest-new-cars-for-2020%2F&tbnid=2HR6gA81oIwMTM&vet=12ahUKEwisvuKHvorvAhVOHysKHctYAfIQMygAegUIARDPAQ..i&docid=HZLLyFhoQjvNCM&w=960&h=540&q=cars&ved=2ahUKEwisvuKHvorvAhVOHysKHctYAfIQMygAegUIARDPAQ\n",
      "https://www.google.com/imgres?imgurl=https%3A%2F%2Fspecials-images.forbesimg.com%2Fimageserve%2F5d3703e2f1176b00089761a6%2F960x0.jpg%3FcropX1%3D836%26cropX2%3D5396%26cropY1%3D799%26cropY2%3D3364&imgrefurl=https%3A%2F%2Fwww.forbes.com%2Fsites%2Fjimgorzelany%2F2019%2F07%2F23%2Fhere-are-the-coolest-new-cars-for-2020%2F&tbnid=2HR6gA81oIwMTM&vet=12ahUKEwisvuKHvorvAhVOHysKHctYAfIQMygAegUIARDPAQ..i&docid=HZLLyFhoQjvNCM&w=960&h=540&q=cars&ved=2ahUKEwisvuKHvorvAhVOHysKHctYAfIQMygAegUIARDPAQ\n",
      "https://www.google.com/imgres?imgurl=https%3A%2F%2Fspecials-images.forbesimg.com%2Fimageserve%2F5d3703e2f1176b00089761a6%2F960x0.jpg%3FcropX1%3D836%26cropX2%3D5396%26cropY1%3D799%26cropY2%3D3364&imgrefurl=https%3A%2F%2Fwww.forbes.com%2Fsites%2Fjimgorzelany%2F2019%2F07%2F23%2Fhere-are-the-coolest-new-cars-for-2020%2F&tbnid=2HR6gA81oIwMTM&vet=12ahUKEwisvuKHvorvAhVOHysKHctYAfIQMygAegUIARDPAQ..i&docid=HZLLyFhoQjvNCM&w=960&h=540&q=cars&ved=2ahUKEwisvuKHvorvAhVOHysKHctYAfIQMygAegUIARDPAQ\n",
      "https://www.google.com/imgres?imgurl=https%3A%2F%2Fspecials-images.forbesimg.com%2Fimageserve%2F5d3703e2f1176b00089761a6%2F960x0.jpg%3FcropX1%3D836%26cropX2%3D5396%26cropY1%3D799%26cropY2%3D3364&imgrefurl=https%3A%2F%2Fwww.forbes.com%2Fsites%2Fjimgorzelany%2F2019%2F07%2F23%2Fhere-are-the-coolest-new-cars-for-2020%2F&tbnid=2HR6gA81oIwMTM&vet=12ahUKEwisvuKHvorvAhVOHysKHctYAfIQMygAegUIARDPAQ..i&docid=HZLLyFhoQjvNCM&w=960&h=540&q=cars&ved=2ahUKEwisvuKHvorvAhVOHysKHctYAfIQMygAegUIARDPAQ\n",
      "https://www.google.com/imgres?imgurl=https%3A%2F%2Fspecials-images.forbesimg.com%2Fimageserve%2F5d3703e2f1176b00089761a6%2F960x0.jpg%3FcropX1%3D836%26cropX2%3D5396%26cropY1%3D799%26cropY2%3D3364&imgrefurl=https%3A%2F%2Fwww.forbes.com%2Fsites%2Fjimgorzelany%2F2019%2F07%2F23%2Fhere-are-the-coolest-new-cars-for-2020%2F&tbnid=2HR6gA81oIwMTM&vet=12ahUKEwisvuKHvorvAhVOHysKHctYAfIQMygAegUIARDPAQ..i&docid=HZLLyFhoQjvNCM&w=960&h=540&q=cars&ved=2ahUKEwisvuKHvorvAhVOHysKHctYAfIQMygAegUIARDPAQ\n",
      "https://www.google.com/imgres?imgurl=https%3A%2F%2Fspecials-images.forbesimg.com%2Fimageserve%2F5d3703e2f1176b00089761a6%2F960x0.jpg%3FcropX1%3D836%26cropX2%3D5396%26cropY1%3D799%26cropY2%3D3364&imgrefurl=https%3A%2F%2Fwww.forbes.com%2Fsites%2Fjimgorzelany%2F2019%2F07%2F23%2Fhere-are-the-coolest-new-cars-for-2020%2F&tbnid=2HR6gA81oIwMTM&vet=12ahUKEwisvuKHvorvAhVOHysKHctYAfIQMygAegUIARDPAQ..i&docid=HZLLyFhoQjvNCM&w=960&h=540&q=cars&ved=2ahUKEwisvuKHvorvAhVOHysKHctYAfIQMygAegUIARDPAQ\n",
      "https://www.google.com/imgres?imgurl=https%3A%2F%2Fspecials-images.forbesimg.com%2Fimageserve%2F5d3703e2f1176b00089761a6%2F960x0.jpg%3FcropX1%3D836%26cropX2%3D5396%26cropY1%3D799%26cropY2%3D3364&imgrefurl=https%3A%2F%2Fwww.forbes.com%2Fsites%2Fjimgorzelany%2F2019%2F07%2F23%2Fhere-are-the-coolest-new-cars-for-2020%2F&tbnid=2HR6gA81oIwMTM&vet=12ahUKEwisvuKHvorvAhVOHysKHctYAfIQMygAegUIARDPAQ..i&docid=HZLLyFhoQjvNCM&w=960&h=540&q=cars&ved=2ahUKEwisvuKHvorvAhVOHysKHctYAfIQMygAegUIARDPAQ\n",
      "https://www.google.com/imgres?imgurl=https%3A%2F%2Fspecials-images.forbesimg.com%2Fimageserve%2F5d3703e2f1176b00089761a6%2F960x0.jpg%3FcropX1%3D836%26cropX2%3D5396%26cropY1%3D799%26cropY2%3D3364&imgrefurl=https%3A%2F%2Fwww.forbes.com%2Fsites%2Fjimgorzelany%2F2019%2F07%2F23%2Fhere-are-the-coolest-new-cars-for-2020%2F&tbnid=2HR6gA81oIwMTM&vet=12ahUKEwisvuKHvorvAhVOHysKHctYAfIQMygAegUIARDPAQ..i&docid=HZLLyFhoQjvNCM&w=960&h=540&q=cars&ved=2ahUKEwisvuKHvorvAhVOHysKHctYAfIQMygAegUIARDPAQ\n",
      "https://www.google.com/imgres?imgurl=https%3A%2F%2Fspecials-images.forbesimg.com%2Fimageserve%2F5d3703e2f1176b00089761a6%2F960x0.jpg%3FcropX1%3D836%26cropX2%3D5396%26cropY1%3D799%26cropY2%3D3364&imgrefurl=https%3A%2F%2Fwww.forbes.com%2Fsites%2Fjimgorzelany%2F2019%2F07%2F23%2Fhere-are-the-coolest-new-cars-for-2020%2F&tbnid=2HR6gA81oIwMTM&vet=12ahUKEwisvuKHvorvAhVOHysKHctYAfIQMygAegUIARDPAQ..i&docid=HZLLyFhoQjvNCM&w=960&h=540&q=cars&ved=2ahUKEwisvuKHvorvAhVOHysKHctYAfIQMygAegUIARDPAQ\n",
      "https://www.google.com/imgres?imgurl=https%3A%2F%2Fspecials-images.forbesimg.com%2Fimageserve%2F5d3703e2f1176b00089761a6%2F960x0.jpg%3FcropX1%3D836%26cropX2%3D5396%26cropY1%3D799%26cropY2%3D3364&imgrefurl=https%3A%2F%2Fwww.forbes.com%2Fsites%2Fjimgorzelany%2F2019%2F07%2F23%2Fhere-are-the-coolest-new-cars-for-2020%2F&tbnid=2HR6gA81oIwMTM&vet=12ahUKEwisvuKHvorvAhVOHysKHctYAfIQMygAegUIARDPAQ..i&docid=HZLLyFhoQjvNCM&w=960&h=540&q=cars&ved=2ahUKEwisvuKHvorvAhVOHysKHctYAfIQMygAegUIARDPAQ\n",
      "https://www.google.com/imgres?imgurl=https%3A%2F%2Fspecials-images.forbesimg.com%2Fimageserve%2F5d3703e2f1176b00089761a6%2F960x0.jpg%3FcropX1%3D836%26cropX2%3D5396%26cropY1%3D799%26cropY2%3D3364&imgrefurl=https%3A%2F%2Fwww.forbes.com%2Fsites%2Fjimgorzelany%2F2019%2F07%2F23%2Fhere-are-the-coolest-new-cars-for-2020%2F&tbnid=2HR6gA81oIwMTM&vet=12ahUKEwisvuKHvorvAhVOHysKHctYAfIQMygAegUIARDPAQ..i&docid=HZLLyFhoQjvNCM&w=960&h=540&q=cars&ved=2ahUKEwisvuKHvorvAhVOHysKHctYAfIQMygAegUIARDPAQ\n",
      "https://www.google.com/imgres?imgurl=https%3A%2F%2Fspecials-images.forbesimg.com%2Fimageserve%2F5d3703e2f1176b00089761a6%2F960x0.jpg%3FcropX1%3D836%26cropX2%3D5396%26cropY1%3D799%26cropY2%3D3364&imgrefurl=https%3A%2F%2Fwww.forbes.com%2Fsites%2Fjimgorzelany%2F2019%2F07%2F23%2Fhere-are-the-coolest-new-cars-for-2020%2F&tbnid=2HR6gA81oIwMTM&vet=12ahUKEwisvuKHvorvAhVOHysKHctYAfIQMygAegUIARDPAQ..i&docid=HZLLyFhoQjvNCM&w=960&h=540&q=cars&ved=2ahUKEwisvuKHvorvAhVOHysKHctYAfIQMygAegUIARDPAQ\n",
      "https://www.google.com/imgres?imgurl=https%3A%2F%2Fspecials-images.forbesimg.com%2Fimageserve%2F5d3703e2f1176b00089761a6%2F960x0.jpg%3FcropX1%3D836%26cropX2%3D5396%26cropY1%3D799%26cropY2%3D3364&imgrefurl=https%3A%2F%2Fwww.forbes.com%2Fsites%2Fjimgorzelany%2F2019%2F07%2F23%2Fhere-are-the-coolest-new-cars-for-2020%2F&tbnid=2HR6gA81oIwMTM&vet=12ahUKEwisvuKHvorvAhVOHysKHctYAfIQMygAegUIARDPAQ..i&docid=HZLLyFhoQjvNCM&w=960&h=540&q=cars&ved=2ahUKEwisvuKHvorvAhVOHysKHctYAfIQMygAegUIARDPAQ\n",
      "https://www.google.com/imgres?imgurl=https%3A%2F%2Fspecials-images.forbesimg.com%2Fimageserve%2F5d3703e2f1176b00089761a6%2F960x0.jpg%3FcropX1%3D836%26cropX2%3D5396%26cropY1%3D799%26cropY2%3D3364&imgrefurl=https%3A%2F%2Fwww.forbes.com%2Fsites%2Fjimgorzelany%2F2019%2F07%2F23%2Fhere-are-the-coolest-new-cars-for-2020%2F&tbnid=2HR6gA81oIwMTM&vet=12ahUKEwisvuKHvorvAhVOHysKHctYAfIQMygAegUIARDPAQ..i&docid=HZLLyFhoQjvNCM&w=960&h=540&q=cars&ved=2ahUKEwisvuKHvorvAhVOHysKHctYAfIQMygAegUIARDPAQ\n",
      "https://www.google.com/imgres?imgurl=https%3A%2F%2Fspecials-images.forbesimg.com%2Fimageserve%2F5d3703e2f1176b00089761a6%2F960x0.jpg%3FcropX1%3D836%26cropX2%3D5396%26cropY1%3D799%26cropY2%3D3364&imgrefurl=https%3A%2F%2Fwww.forbes.com%2Fsites%2Fjimgorzelany%2F2019%2F07%2F23%2Fhere-are-the-coolest-new-cars-for-2020%2F&tbnid=2HR6gA81oIwMTM&vet=12ahUKEwisvuKHvorvAhVOHysKHctYAfIQMygAegUIARDPAQ..i&docid=HZLLyFhoQjvNCM&w=960&h=540&q=cars&ved=2ahUKEwisvuKHvorvAhVOHysKHctYAfIQMygAegUIARDPAQ\n",
      "https://www.google.com/imgres?imgurl=https%3A%2F%2Fspecials-images.forbesimg.com%2Fimageserve%2F5d3703e2f1176b00089761a6%2F960x0.jpg%3FcropX1%3D836%26cropX2%3D5396%26cropY1%3D799%26cropY2%3D3364&imgrefurl=https%3A%2F%2Fwww.forbes.com%2Fsites%2Fjimgorzelany%2F2019%2F07%2F23%2Fhere-are-the-coolest-new-cars-for-2020%2F&tbnid=2HR6gA81oIwMTM&vet=12ahUKEwisvuKHvorvAhVOHysKHctYAfIQMygAegUIARDPAQ..i&docid=HZLLyFhoQjvNCM&w=960&h=540&q=cars&ved=2ahUKEwisvuKHvorvAhVOHysKHctYAfIQMygAegUIARDPAQ\n",
      "https://www.google.com/imgres?imgurl=https%3A%2F%2Fspecials-images.forbesimg.com%2Fimageserve%2F5d3703e2f1176b00089761a6%2F960x0.jpg%3FcropX1%3D836%26cropX2%3D5396%26cropY1%3D799%26cropY2%3D3364&imgrefurl=https%3A%2F%2Fwww.forbes.com%2Fsites%2Fjimgorzelany%2F2019%2F07%2F23%2Fhere-are-the-coolest-new-cars-for-2020%2F&tbnid=2HR6gA81oIwMTM&vet=12ahUKEwisvuKHvorvAhVOHysKHctYAfIQMygAegUIARDPAQ..i&docid=HZLLyFhoQjvNCM&w=960&h=540&q=cars&ved=2ahUKEwisvuKHvorvAhVOHysKHctYAfIQMygAegUIARDPAQ\n",
      "https://www.google.com/imgres?imgurl=https%3A%2F%2Fspecials-images.forbesimg.com%2Fimageserve%2F5d3703e2f1176b00089761a6%2F960x0.jpg%3FcropX1%3D836%26cropX2%3D5396%26cropY1%3D799%26cropY2%3D3364&imgrefurl=https%3A%2F%2Fwww.forbes.com%2Fsites%2Fjimgorzelany%2F2019%2F07%2F23%2Fhere-are-the-coolest-new-cars-for-2020%2F&tbnid=2HR6gA81oIwMTM&vet=12ahUKEwisvuKHvorvAhVOHysKHctYAfIQMygAegUIARDPAQ..i&docid=HZLLyFhoQjvNCM&w=960&h=540&q=cars&ved=2ahUKEwisvuKHvorvAhVOHysKHctYAfIQMygAegUIARDPAQ\n",
      "https://www.google.com/imgres?imgurl=https%3A%2F%2Fspecials-images.forbesimg.com%2Fimageserve%2F5d3703e2f1176b00089761a6%2F960x0.jpg%3FcropX1%3D836%26cropX2%3D5396%26cropY1%3D799%26cropY2%3D3364&imgrefurl=https%3A%2F%2Fwww.forbes.com%2Fsites%2Fjimgorzelany%2F2019%2F07%2F23%2Fhere-are-the-coolest-new-cars-for-2020%2F&tbnid=2HR6gA81oIwMTM&vet=12ahUKEwisvuKHvorvAhVOHysKHctYAfIQMygAegUIARDPAQ..i&docid=HZLLyFhoQjvNCM&w=960&h=540&q=cars&ved=2ahUKEwisvuKHvorvAhVOHysKHctYAfIQMygAegUIARDPAQ\n",
      "https://www.google.com/imgres?imgurl=https%3A%2F%2Fspecials-images.forbesimg.com%2Fimageserve%2F5d3703e2f1176b00089761a6%2F960x0.jpg%3FcropX1%3D836%26cropX2%3D5396%26cropY1%3D799%26cropY2%3D3364&imgrefurl=https%3A%2F%2Fwww.forbes.com%2Fsites%2Fjimgorzelany%2F2019%2F07%2F23%2Fhere-are-the-coolest-new-cars-for-2020%2F&tbnid=2HR6gA81oIwMTM&vet=12ahUKEwisvuKHvorvAhVOHysKHctYAfIQMygAegUIARDPAQ..i&docid=HZLLyFhoQjvNCM&w=960&h=540&q=cars&ved=2ahUKEwisvuKHvorvAhVOHysKHctYAfIQMygAegUIARDPAQ\n",
      "https://www.google.com/imgres?imgurl=https%3A%2F%2Fspecials-images.forbesimg.com%2Fimageserve%2F5d3703e2f1176b00089761a6%2F960x0.jpg%3FcropX1%3D836%26cropX2%3D5396%26cropY1%3D799%26cropY2%3D3364&imgrefurl=https%3A%2F%2Fwww.forbes.com%2Fsites%2Fjimgorzelany%2F2019%2F07%2F23%2Fhere-are-the-coolest-new-cars-for-2020%2F&tbnid=2HR6gA81oIwMTM&vet=12ahUKEwisvuKHvorvAhVOHysKHctYAfIQMygAegUIARDPAQ..i&docid=HZLLyFhoQjvNCM&w=960&h=540&q=cars&ved=2ahUKEwisvuKHvorvAhVOHysKHctYAfIQMygAegUIARDPAQ\n",
      "https://www.google.com/imgres?imgurl=https%3A%2F%2Fspecials-images.forbesimg.com%2Fimageserve%2F5d3703e2f1176b00089761a6%2F960x0.jpg%3FcropX1%3D836%26cropX2%3D5396%26cropY1%3D799%26cropY2%3D3364&imgrefurl=https%3A%2F%2Fwww.forbes.com%2Fsites%2Fjimgorzelany%2F2019%2F07%2F23%2Fhere-are-the-coolest-new-cars-for-2020%2F&tbnid=2HR6gA81oIwMTM&vet=12ahUKEwisvuKHvorvAhVOHysKHctYAfIQMygAegUIARDPAQ..i&docid=HZLLyFhoQjvNCM&w=960&h=540&q=cars&ved=2ahUKEwisvuKHvorvAhVOHysKHctYAfIQMygAegUIARDPAQ\n",
      "https://www.google.com/imgres?imgurl=https%3A%2F%2Fspecials-images.forbesimg.com%2Fimageserve%2F5d3703e2f1176b00089761a6%2F960x0.jpg%3FcropX1%3D836%26cropX2%3D5396%26cropY1%3D799%26cropY2%3D3364&imgrefurl=https%3A%2F%2Fwww.forbes.com%2Fsites%2Fjimgorzelany%2F2019%2F07%2F23%2Fhere-are-the-coolest-new-cars-for-2020%2F&tbnid=2HR6gA81oIwMTM&vet=12ahUKEwisvuKHvorvAhVOHysKHctYAfIQMygAegUIARDPAQ..i&docid=HZLLyFhoQjvNCM&w=960&h=540&q=cars&ved=2ahUKEwisvuKHvorvAhVOHysKHctYAfIQMygAegUIARDPAQ\n",
      "https://www.google.com/imgres?imgurl=https%3A%2F%2Fspecials-images.forbesimg.com%2Fimageserve%2F5d3703e2f1176b00089761a6%2F960x0.jpg%3FcropX1%3D836%26cropX2%3D5396%26cropY1%3D799%26cropY2%3D3364&imgrefurl=https%3A%2F%2Fwww.forbes.com%2Fsites%2Fjimgorzelany%2F2019%2F07%2F23%2Fhere-are-the-coolest-new-cars-for-2020%2F&tbnid=2HR6gA81oIwMTM&vet=12ahUKEwisvuKHvorvAhVOHysKHctYAfIQMygAegUIARDPAQ..i&docid=HZLLyFhoQjvNCM&w=960&h=540&q=cars&ved=2ahUKEwisvuKHvorvAhVOHysKHctYAfIQMygAegUIARDPAQ\n",
      "https://www.google.com/imgres?imgurl=https%3A%2F%2Fspecials-images.forbesimg.com%2Fimageserve%2F5d3703e2f1176b00089761a6%2F960x0.jpg%3FcropX1%3D836%26cropX2%3D5396%26cropY1%3D799%26cropY2%3D3364&imgrefurl=https%3A%2F%2Fwww.forbes.com%2Fsites%2Fjimgorzelany%2F2019%2F07%2F23%2Fhere-are-the-coolest-new-cars-for-2020%2F&tbnid=2HR6gA81oIwMTM&vet=12ahUKEwisvuKHvorvAhVOHysKHctYAfIQMygAegUIARDPAQ..i&docid=HZLLyFhoQjvNCM&w=960&h=540&q=cars&ved=2ahUKEwisvuKHvorvAhVOHysKHctYAfIQMygAegUIARDPAQ\n",
      "https://www.google.com/imgres?imgurl=https%3A%2F%2Fspecials-images.forbesimg.com%2Fimageserve%2F5d3703e2f1176b00089761a6%2F960x0.jpg%3FcropX1%3D836%26cropX2%3D5396%26cropY1%3D799%26cropY2%3D3364&imgrefurl=https%3A%2F%2Fwww.forbes.com%2Fsites%2Fjimgorzelany%2F2019%2F07%2F23%2Fhere-are-the-coolest-new-cars-for-2020%2F&tbnid=2HR6gA81oIwMTM&vet=12ahUKEwisvuKHvorvAhVOHysKHctYAfIQMygAegUIARDPAQ..i&docid=HZLLyFhoQjvNCM&w=960&h=540&q=cars&ved=2ahUKEwisvuKHvorvAhVOHysKHctYAfIQMygAegUIARDPAQ\n",
      "https://www.google.com/imgres?imgurl=https%3A%2F%2Fspecials-images.forbesimg.com%2Fimageserve%2F5d3703e2f1176b00089761a6%2F960x0.jpg%3FcropX1%3D836%26cropX2%3D5396%26cropY1%3D799%26cropY2%3D3364&imgrefurl=https%3A%2F%2Fwww.forbes.com%2Fsites%2Fjimgorzelany%2F2019%2F07%2F23%2Fhere-are-the-coolest-new-cars-for-2020%2F&tbnid=2HR6gA81oIwMTM&vet=12ahUKEwisvuKHvorvAhVOHysKHctYAfIQMygAegUIARDPAQ..i&docid=HZLLyFhoQjvNCM&w=960&h=540&q=cars&ved=2ahUKEwisvuKHvorvAhVOHysKHctYAfIQMygAegUIARDPAQ\n",
      "https://www.google.com/imgres?imgurl=https%3A%2F%2Fspecials-images.forbesimg.com%2Fimageserve%2F5d3703e2f1176b00089761a6%2F960x0.jpg%3FcropX1%3D836%26cropX2%3D5396%26cropY1%3D799%26cropY2%3D3364&imgrefurl=https%3A%2F%2Fwww.forbes.com%2Fsites%2Fjimgorzelany%2F2019%2F07%2F23%2Fhere-are-the-coolest-new-cars-for-2020%2F&tbnid=2HR6gA81oIwMTM&vet=12ahUKEwisvuKHvorvAhVOHysKHctYAfIQMygAegUIARDPAQ..i&docid=HZLLyFhoQjvNCM&w=960&h=540&q=cars&ved=2ahUKEwisvuKHvorvAhVOHysKHctYAfIQMygAegUIARDPAQ\n",
      "https://www.google.com/imgres?imgurl=https%3A%2F%2Fspecials-images.forbesimg.com%2Fimageserve%2F5d3703e2f1176b00089761a6%2F960x0.jpg%3FcropX1%3D836%26cropX2%3D5396%26cropY1%3D799%26cropY2%3D3364&imgrefurl=https%3A%2F%2Fwww.forbes.com%2Fsites%2Fjimgorzelany%2F2019%2F07%2F23%2Fhere-are-the-coolest-new-cars-for-2020%2F&tbnid=2HR6gA81oIwMTM&vet=12ahUKEwisvuKHvorvAhVOHysKHctYAfIQMygAegUIARDPAQ..i&docid=HZLLyFhoQjvNCM&w=960&h=540&q=cars&ved=2ahUKEwisvuKHvorvAhVOHysKHctYAfIQMygAegUIARDPAQ\n",
      "https://www.google.com/imgres?imgurl=https%3A%2F%2Fspecials-images.forbesimg.com%2Fimageserve%2F5d3703e2f1176b00089761a6%2F960x0.jpg%3FcropX1%3D836%26cropX2%3D5396%26cropY1%3D799%26cropY2%3D3364&imgrefurl=https%3A%2F%2Fwww.forbes.com%2Fsites%2Fjimgorzelany%2F2019%2F07%2F23%2Fhere-are-the-coolest-new-cars-for-2020%2F&tbnid=2HR6gA81oIwMTM&vet=12ahUKEwisvuKHvorvAhVOHysKHctYAfIQMygAegUIARDPAQ..i&docid=HZLLyFhoQjvNCM&w=960&h=540&q=cars&ved=2ahUKEwisvuKHvorvAhVOHysKHctYAfIQMygAegUIARDPAQ\n",
      "https://www.google.com/imgres?imgurl=https%3A%2F%2Fspecials-images.forbesimg.com%2Fimageserve%2F5d3703e2f1176b00089761a6%2F960x0.jpg%3FcropX1%3D836%26cropX2%3D5396%26cropY1%3D799%26cropY2%3D3364&imgrefurl=https%3A%2F%2Fwww.forbes.com%2Fsites%2Fjimgorzelany%2F2019%2F07%2F23%2Fhere-are-the-coolest-new-cars-for-2020%2F&tbnid=2HR6gA81oIwMTM&vet=12ahUKEwisvuKHvorvAhVOHysKHctYAfIQMygAegUIARDPAQ..i&docid=HZLLyFhoQjvNCM&w=960&h=540&q=cars&ved=2ahUKEwisvuKHvorvAhVOHysKHctYAfIQMygAegUIARDPAQ\n",
      "https://www.google.com/imgres?imgurl=https%3A%2F%2Fspecials-images.forbesimg.com%2Fimageserve%2F5d3703e2f1176b00089761a6%2F960x0.jpg%3FcropX1%3D836%26cropX2%3D5396%26cropY1%3D799%26cropY2%3D3364&imgrefurl=https%3A%2F%2Fwww.forbes.com%2Fsites%2Fjimgorzelany%2F2019%2F07%2F23%2Fhere-are-the-coolest-new-cars-for-2020%2F&tbnid=2HR6gA81oIwMTM&vet=12ahUKEwisvuKHvorvAhVOHysKHctYAfIQMygAegUIARDPAQ..i&docid=HZLLyFhoQjvNCM&w=960&h=540&q=cars&ved=2ahUKEwisvuKHvorvAhVOHysKHctYAfIQMygAegUIARDPAQ\n",
      "https://www.google.com/imgres?imgurl=https%3A%2F%2Fspecials-images.forbesimg.com%2Fimageserve%2F5d3703e2f1176b00089761a6%2F960x0.jpg%3FcropX1%3D836%26cropX2%3D5396%26cropY1%3D799%26cropY2%3D3364&imgrefurl=https%3A%2F%2Fwww.forbes.com%2Fsites%2Fjimgorzelany%2F2019%2F07%2F23%2Fhere-are-the-coolest-new-cars-for-2020%2F&tbnid=2HR6gA81oIwMTM&vet=12ahUKEwisvuKHvorvAhVOHysKHctYAfIQMygAegUIARDPAQ..i&docid=HZLLyFhoQjvNCM&w=960&h=540&q=cars&ved=2ahUKEwisvuKHvorvAhVOHysKHctYAfIQMygAegUIARDPAQ\n",
      "https://www.google.com/imgres?imgurl=https%3A%2F%2Fspecials-images.forbesimg.com%2Fimageserve%2F5d3703e2f1176b00089761a6%2F960x0.jpg%3FcropX1%3D836%26cropX2%3D5396%26cropY1%3D799%26cropY2%3D3364&imgrefurl=https%3A%2F%2Fwww.forbes.com%2Fsites%2Fjimgorzelany%2F2019%2F07%2F23%2Fhere-are-the-coolest-new-cars-for-2020%2F&tbnid=2HR6gA81oIwMTM&vet=12ahUKEwisvuKHvorvAhVOHysKHctYAfIQMygAegUIARDPAQ..i&docid=HZLLyFhoQjvNCM&w=960&h=540&q=cars&ved=2ahUKEwisvuKHvorvAhVOHysKHctYAfIQMygAegUIARDPAQ\n",
      "https://www.google.com/imgres?imgurl=https%3A%2F%2Fspecials-images.forbesimg.com%2Fimageserve%2F5d3703e2f1176b00089761a6%2F960x0.jpg%3FcropX1%3D836%26cropX2%3D5396%26cropY1%3D799%26cropY2%3D3364&imgrefurl=https%3A%2F%2Fwww.forbes.com%2Fsites%2Fjimgorzelany%2F2019%2F07%2F23%2Fhere-are-the-coolest-new-cars-for-2020%2F&tbnid=2HR6gA81oIwMTM&vet=12ahUKEwisvuKHvorvAhVOHysKHctYAfIQMygAegUIARDPAQ..i&docid=HZLLyFhoQjvNCM&w=960&h=540&q=cars&ved=2ahUKEwisvuKHvorvAhVOHysKHctYAfIQMygAegUIARDPAQ\n",
      "https://www.google.com/imgres?imgurl=https%3A%2F%2Fspecials-images.forbesimg.com%2Fimageserve%2F5d3703e2f1176b00089761a6%2F960x0.jpg%3FcropX1%3D836%26cropX2%3D5396%26cropY1%3D799%26cropY2%3D3364&imgrefurl=https%3A%2F%2Fwww.forbes.com%2Fsites%2Fjimgorzelany%2F2019%2F07%2F23%2Fhere-are-the-coolest-new-cars-for-2020%2F&tbnid=2HR6gA81oIwMTM&vet=12ahUKEwisvuKHvorvAhVOHysKHctYAfIQMygAegUIARDPAQ..i&docid=HZLLyFhoQjvNCM&w=960&h=540&q=cars&ved=2ahUKEwisvuKHvorvAhVOHysKHctYAfIQMygAegUIARDPAQ\n",
      "https://www.google.com/imgres?imgurl=https%3A%2F%2Fspecials-images.forbesimg.com%2Fimageserve%2F5d3703e2f1176b00089761a6%2F960x0.jpg%3FcropX1%3D836%26cropX2%3D5396%26cropY1%3D799%26cropY2%3D3364&imgrefurl=https%3A%2F%2Fwww.forbes.com%2Fsites%2Fjimgorzelany%2F2019%2F07%2F23%2Fhere-are-the-coolest-new-cars-for-2020%2F&tbnid=2HR6gA81oIwMTM&vet=12ahUKEwisvuKHvorvAhVOHysKHctYAfIQMygAegUIARDPAQ..i&docid=HZLLyFhoQjvNCM&w=960&h=540&q=cars&ved=2ahUKEwisvuKHvorvAhVOHysKHctYAfIQMygAegUIARDPAQ\n",
      "https://www.google.com/imgres?imgurl=https%3A%2F%2Fspecials-images.forbesimg.com%2Fimageserve%2F5d3703e2f1176b00089761a6%2F960x0.jpg%3FcropX1%3D836%26cropX2%3D5396%26cropY1%3D799%26cropY2%3D3364&imgrefurl=https%3A%2F%2Fwww.forbes.com%2Fsites%2Fjimgorzelany%2F2019%2F07%2F23%2Fhere-are-the-coolest-new-cars-for-2020%2F&tbnid=2HR6gA81oIwMTM&vet=12ahUKEwisvuKHvorvAhVOHysKHctYAfIQMygAegUIARDPAQ..i&docid=HZLLyFhoQjvNCM&w=960&h=540&q=cars&ved=2ahUKEwisvuKHvorvAhVOHysKHctYAfIQMygAegUIARDPAQ\n",
      "https://www.google.com/imgres?imgurl=https%3A%2F%2Fspecials-images.forbesimg.com%2Fimageserve%2F5d3703e2f1176b00089761a6%2F960x0.jpg%3FcropX1%3D836%26cropX2%3D5396%26cropY1%3D799%26cropY2%3D3364&imgrefurl=https%3A%2F%2Fwww.forbes.com%2Fsites%2Fjimgorzelany%2F2019%2F07%2F23%2Fhere-are-the-coolest-new-cars-for-2020%2F&tbnid=2HR6gA81oIwMTM&vet=12ahUKEwisvuKHvorvAhVOHysKHctYAfIQMygAegUIARDPAQ..i&docid=HZLLyFhoQjvNCM&w=960&h=540&q=cars&ved=2ahUKEwisvuKHvorvAhVOHysKHctYAfIQMygAegUIARDPAQ\n",
      "https://www.google.com/imgres?imgurl=https%3A%2F%2Fspecials-images.forbesimg.com%2Fimageserve%2F5d3703e2f1176b00089761a6%2F960x0.jpg%3FcropX1%3D836%26cropX2%3D5396%26cropY1%3D799%26cropY2%3D3364&imgrefurl=https%3A%2F%2Fwww.forbes.com%2Fsites%2Fjimgorzelany%2F2019%2F07%2F23%2Fhere-are-the-coolest-new-cars-for-2020%2F&tbnid=2HR6gA81oIwMTM&vet=12ahUKEwisvuKHvorvAhVOHysKHctYAfIQMygAegUIARDPAQ..i&docid=HZLLyFhoQjvNCM&w=960&h=540&q=cars&ved=2ahUKEwisvuKHvorvAhVOHysKHctYAfIQMygAegUIARDPAQ\n",
      "https://www.google.com/imgres?imgurl=https%3A%2F%2Fspecials-images.forbesimg.com%2Fimageserve%2F5d3703e2f1176b00089761a6%2F960x0.jpg%3FcropX1%3D836%26cropX2%3D5396%26cropY1%3D799%26cropY2%3D3364&imgrefurl=https%3A%2F%2Fwww.forbes.com%2Fsites%2Fjimgorzelany%2F2019%2F07%2F23%2Fhere-are-the-coolest-new-cars-for-2020%2F&tbnid=2HR6gA81oIwMTM&vet=12ahUKEwisvuKHvorvAhVOHysKHctYAfIQMygAegUIARDPAQ..i&docid=HZLLyFhoQjvNCM&w=960&h=540&q=cars&ved=2ahUKEwisvuKHvorvAhVOHysKHctYAfIQMygAegUIARDPAQ\n",
      "https://www.google.com/imgres?imgurl=https%3A%2F%2Fspecials-images.forbesimg.com%2Fimageserve%2F5d3703e2f1176b00089761a6%2F960x0.jpg%3FcropX1%3D836%26cropX2%3D5396%26cropY1%3D799%26cropY2%3D3364&imgrefurl=https%3A%2F%2Fwww.forbes.com%2Fsites%2Fjimgorzelany%2F2019%2F07%2F23%2Fhere-are-the-coolest-new-cars-for-2020%2F&tbnid=2HR6gA81oIwMTM&vet=12ahUKEwisvuKHvorvAhVOHysKHctYAfIQMygAegUIARDPAQ..i&docid=HZLLyFhoQjvNCM&w=960&h=540&q=cars&ved=2ahUKEwisvuKHvorvAhVOHysKHctYAfIQMygAegUIARDPAQ\n",
      "https://www.google.com/imgres?imgurl=https%3A%2F%2Fspecials-images.forbesimg.com%2Fimageserve%2F5d3703e2f1176b00089761a6%2F960x0.jpg%3FcropX1%3D836%26cropX2%3D5396%26cropY1%3D799%26cropY2%3D3364&imgrefurl=https%3A%2F%2Fwww.forbes.com%2Fsites%2Fjimgorzelany%2F2019%2F07%2F23%2Fhere-are-the-coolest-new-cars-for-2020%2F&tbnid=2HR6gA81oIwMTM&vet=12ahUKEwisvuKHvorvAhVOHysKHctYAfIQMygAegUIARDPAQ..i&docid=HZLLyFhoQjvNCM&w=960&h=540&q=cars&ved=2ahUKEwisvuKHvorvAhVOHysKHctYAfIQMygAegUIARDPAQ\n",
      "https://www.google.com/imgres?imgurl=https%3A%2F%2Fspecials-images.forbesimg.com%2Fimageserve%2F5d3703e2f1176b00089761a6%2F960x0.jpg%3FcropX1%3D836%26cropX2%3D5396%26cropY1%3D799%26cropY2%3D3364&imgrefurl=https%3A%2F%2Fwww.forbes.com%2Fsites%2Fjimgorzelany%2F2019%2F07%2F23%2Fhere-are-the-coolest-new-cars-for-2020%2F&tbnid=2HR6gA81oIwMTM&vet=12ahUKEwisvuKHvorvAhVOHysKHctYAfIQMygAegUIARDPAQ..i&docid=HZLLyFhoQjvNCM&w=960&h=540&q=cars&ved=2ahUKEwisvuKHvorvAhVOHysKHctYAfIQMygAegUIARDPAQ\n",
      "https://www.google.com/imgres?imgurl=https%3A%2F%2Fspecials-images.forbesimg.com%2Fimageserve%2F5d3703e2f1176b00089761a6%2F960x0.jpg%3FcropX1%3D836%26cropX2%3D5396%26cropY1%3D799%26cropY2%3D3364&imgrefurl=https%3A%2F%2Fwww.forbes.com%2Fsites%2Fjimgorzelany%2F2019%2F07%2F23%2Fhere-are-the-coolest-new-cars-for-2020%2F&tbnid=2HR6gA81oIwMTM&vet=12ahUKEwisvuKHvorvAhVOHysKHctYAfIQMygAegUIARDPAQ..i&docid=HZLLyFhoQjvNCM&w=960&h=540&q=cars&ved=2ahUKEwisvuKHvorvAhVOHysKHctYAfIQMygAegUIARDPAQ\n",
      "https://www.google.com/imgres?imgurl=https%3A%2F%2Fspecials-images.forbesimg.com%2Fimageserve%2F5d3703e2f1176b00089761a6%2F960x0.jpg%3FcropX1%3D836%26cropX2%3D5396%26cropY1%3D799%26cropY2%3D3364&imgrefurl=https%3A%2F%2Fwww.forbes.com%2Fsites%2Fjimgorzelany%2F2019%2F07%2F23%2Fhere-are-the-coolest-new-cars-for-2020%2F&tbnid=2HR6gA81oIwMTM&vet=12ahUKEwisvuKHvorvAhVOHysKHctYAfIQMygAegUIARDPAQ..i&docid=HZLLyFhoQjvNCM&w=960&h=540&q=cars&ved=2ahUKEwisvuKHvorvAhVOHysKHctYAfIQMygAegUIARDPAQ\n",
      "https://www.google.com/imgres?imgurl=https%3A%2F%2Fspecials-images.forbesimg.com%2Fimageserve%2F5d3703e2f1176b00089761a6%2F960x0.jpg%3FcropX1%3D836%26cropX2%3D5396%26cropY1%3D799%26cropY2%3D3364&imgrefurl=https%3A%2F%2Fwww.forbes.com%2Fsites%2Fjimgorzelany%2F2019%2F07%2F23%2Fhere-are-the-coolest-new-cars-for-2020%2F&tbnid=2HR6gA81oIwMTM&vet=12ahUKEwisvuKHvorvAhVOHysKHctYAfIQMygAegUIARDPAQ..i&docid=HZLLyFhoQjvNCM&w=960&h=540&q=cars&ved=2ahUKEwisvuKHvorvAhVOHysKHctYAfIQMygAegUIARDPAQ\n",
      "https://www.google.com/imgres?imgurl=https%3A%2F%2Fspecials-images.forbesimg.com%2Fimageserve%2F5d3703e2f1176b00089761a6%2F960x0.jpg%3FcropX1%3D836%26cropX2%3D5396%26cropY1%3D799%26cropY2%3D3364&imgrefurl=https%3A%2F%2Fwww.forbes.com%2Fsites%2Fjimgorzelany%2F2019%2F07%2F23%2Fhere-are-the-coolest-new-cars-for-2020%2F&tbnid=2HR6gA81oIwMTM&vet=12ahUKEwisvuKHvorvAhVOHysKHctYAfIQMygAegUIARDPAQ..i&docid=HZLLyFhoQjvNCM&w=960&h=540&q=cars&ved=2ahUKEwisvuKHvorvAhVOHysKHctYAfIQMygAegUIARDPAQ\n",
      "https://www.google.com/imgres?imgurl=https%3A%2F%2Fspecials-images.forbesimg.com%2Fimageserve%2F5d3703e2f1176b00089761a6%2F960x0.jpg%3FcropX1%3D836%26cropX2%3D5396%26cropY1%3D799%26cropY2%3D3364&imgrefurl=https%3A%2F%2Fwww.forbes.com%2Fsites%2Fjimgorzelany%2F2019%2F07%2F23%2Fhere-are-the-coolest-new-cars-for-2020%2F&tbnid=2HR6gA81oIwMTM&vet=12ahUKEwisvuKHvorvAhVOHysKHctYAfIQMygAegUIARDPAQ..i&docid=HZLLyFhoQjvNCM&w=960&h=540&q=cars&ved=2ahUKEwisvuKHvorvAhVOHysKHctYAfIQMygAegUIARDPAQ\n",
      "https://www.google.com/imgres?imgurl=https%3A%2F%2Fspecials-images.forbesimg.com%2Fimageserve%2F5d3703e2f1176b00089761a6%2F960x0.jpg%3FcropX1%3D836%26cropX2%3D5396%26cropY1%3D799%26cropY2%3D3364&imgrefurl=https%3A%2F%2Fwww.forbes.com%2Fsites%2Fjimgorzelany%2F2019%2F07%2F23%2Fhere-are-the-coolest-new-cars-for-2020%2F&tbnid=2HR6gA81oIwMTM&vet=12ahUKEwisvuKHvorvAhVOHysKHctYAfIQMygAegUIARDPAQ..i&docid=HZLLyFhoQjvNCM&w=960&h=540&q=cars&ved=2ahUKEwisvuKHvorvAhVOHysKHctYAfIQMygAegUIARDPAQ\n",
      "https://www.google.com/imgres?imgurl=https%3A%2F%2Fspecials-images.forbesimg.com%2Fimageserve%2F5d3703e2f1176b00089761a6%2F960x0.jpg%3FcropX1%3D836%26cropX2%3D5396%26cropY1%3D799%26cropY2%3D3364&imgrefurl=https%3A%2F%2Fwww.forbes.com%2Fsites%2Fjimgorzelany%2F2019%2F07%2F23%2Fhere-are-the-coolest-new-cars-for-2020%2F&tbnid=2HR6gA81oIwMTM&vet=12ahUKEwisvuKHvorvAhVOHysKHctYAfIQMygAegUIARDPAQ..i&docid=HZLLyFhoQjvNCM&w=960&h=540&q=cars&ved=2ahUKEwisvuKHvorvAhVOHysKHctYAfIQMygAegUIARDPAQ\n",
      "https://www.google.com/imgres?imgurl=https%3A%2F%2Fspecials-images.forbesimg.com%2Fimageserve%2F5d3703e2f1176b00089761a6%2F960x0.jpg%3FcropX1%3D836%26cropX2%3D5396%26cropY1%3D799%26cropY2%3D3364&imgrefurl=https%3A%2F%2Fwww.forbes.com%2Fsites%2Fjimgorzelany%2F2019%2F07%2F23%2Fhere-are-the-coolest-new-cars-for-2020%2F&tbnid=2HR6gA81oIwMTM&vet=12ahUKEwisvuKHvorvAhVOHysKHctYAfIQMygAegUIARDPAQ..i&docid=HZLLyFhoQjvNCM&w=960&h=540&q=cars&ved=2ahUKEwisvuKHvorvAhVOHysKHctYAfIQMygAegUIARDPAQ\n",
      "https://www.google.com/imgres?imgurl=https%3A%2F%2Fspecials-images.forbesimg.com%2Fimageserve%2F5d3703e2f1176b00089761a6%2F960x0.jpg%3FcropX1%3D836%26cropX2%3D5396%26cropY1%3D799%26cropY2%3D3364&imgrefurl=https%3A%2F%2Fwww.forbes.com%2Fsites%2Fjimgorzelany%2F2019%2F07%2F23%2Fhere-are-the-coolest-new-cars-for-2020%2F&tbnid=2HR6gA81oIwMTM&vet=12ahUKEwisvuKHvorvAhVOHysKHctYAfIQMygAegUIARDPAQ..i&docid=HZLLyFhoQjvNCM&w=960&h=540&q=cars&ved=2ahUKEwisvuKHvorvAhVOHysKHctYAfIQMygAegUIARDPAQ\n",
      "https://www.google.com/imgres?imgurl=https%3A%2F%2Fspecials-images.forbesimg.com%2Fimageserve%2F5d3703e2f1176b00089761a6%2F960x0.jpg%3FcropX1%3D836%26cropX2%3D5396%26cropY1%3D799%26cropY2%3D3364&imgrefurl=https%3A%2F%2Fwww.forbes.com%2Fsites%2Fjimgorzelany%2F2019%2F07%2F23%2Fhere-are-the-coolest-new-cars-for-2020%2F&tbnid=2HR6gA81oIwMTM&vet=12ahUKEwisvuKHvorvAhVOHysKHctYAfIQMygAegUIARDPAQ..i&docid=HZLLyFhoQjvNCM&w=960&h=540&q=cars&ved=2ahUKEwisvuKHvorvAhVOHysKHctYAfIQMygAegUIARDPAQ\n",
      "https://www.google.com/imgres?imgurl=https%3A%2F%2Fspecials-images.forbesimg.com%2Fimageserve%2F5d3703e2f1176b00089761a6%2F960x0.jpg%3FcropX1%3D836%26cropX2%3D5396%26cropY1%3D799%26cropY2%3D3364&imgrefurl=https%3A%2F%2Fwww.forbes.com%2Fsites%2Fjimgorzelany%2F2019%2F07%2F23%2Fhere-are-the-coolest-new-cars-for-2020%2F&tbnid=2HR6gA81oIwMTM&vet=12ahUKEwisvuKHvorvAhVOHysKHctYAfIQMygAegUIARDPAQ..i&docid=HZLLyFhoQjvNCM&w=960&h=540&q=cars&ved=2ahUKEwisvuKHvorvAhVOHysKHctYAfIQMygAegUIARDPAQ\n",
      "https://www.google.com/imgres?imgurl=https%3A%2F%2Fspecials-images.forbesimg.com%2Fimageserve%2F5d3703e2f1176b00089761a6%2F960x0.jpg%3FcropX1%3D836%26cropX2%3D5396%26cropY1%3D799%26cropY2%3D3364&imgrefurl=https%3A%2F%2Fwww.forbes.com%2Fsites%2Fjimgorzelany%2F2019%2F07%2F23%2Fhere-are-the-coolest-new-cars-for-2020%2F&tbnid=2HR6gA81oIwMTM&vet=12ahUKEwisvuKHvorvAhVOHysKHctYAfIQMygAegUIARDPAQ..i&docid=HZLLyFhoQjvNCM&w=960&h=540&q=cars&ved=2ahUKEwisvuKHvorvAhVOHysKHctYAfIQMygAegUIARDPAQ\n",
      "https://www.google.com/imgres?imgurl=https%3A%2F%2Fspecials-images.forbesimg.com%2Fimageserve%2F5d3703e2f1176b00089761a6%2F960x0.jpg%3FcropX1%3D836%26cropX2%3D5396%26cropY1%3D799%26cropY2%3D3364&imgrefurl=https%3A%2F%2Fwww.forbes.com%2Fsites%2Fjimgorzelany%2F2019%2F07%2F23%2Fhere-are-the-coolest-new-cars-for-2020%2F&tbnid=2HR6gA81oIwMTM&vet=12ahUKEwisvuKHvorvAhVOHysKHctYAfIQMygAegUIARDPAQ..i&docid=HZLLyFhoQjvNCM&w=960&h=540&q=cars&ved=2ahUKEwisvuKHvorvAhVOHysKHctYAfIQMygAegUIARDPAQ\n",
      "https://www.google.com/imgres?imgurl=https%3A%2F%2Fspecials-images.forbesimg.com%2Fimageserve%2F5d3703e2f1176b00089761a6%2F960x0.jpg%3FcropX1%3D836%26cropX2%3D5396%26cropY1%3D799%26cropY2%3D3364&imgrefurl=https%3A%2F%2Fwww.forbes.com%2Fsites%2Fjimgorzelany%2F2019%2F07%2F23%2Fhere-are-the-coolest-new-cars-for-2020%2F&tbnid=2HR6gA81oIwMTM&vet=12ahUKEwisvuKHvorvAhVOHysKHctYAfIQMygAegUIARDPAQ..i&docid=HZLLyFhoQjvNCM&w=960&h=540&q=cars&ved=2ahUKEwisvuKHvorvAhVOHysKHctYAfIQMygAegUIARDPAQ\n",
      "https://www.google.com/imgres?imgurl=https%3A%2F%2Fspecials-images.forbesimg.com%2Fimageserve%2F5d3703e2f1176b00089761a6%2F960x0.jpg%3FcropX1%3D836%26cropX2%3D5396%26cropY1%3D799%26cropY2%3D3364&imgrefurl=https%3A%2F%2Fwww.forbes.com%2Fsites%2Fjimgorzelany%2F2019%2F07%2F23%2Fhere-are-the-coolest-new-cars-for-2020%2F&tbnid=2HR6gA81oIwMTM&vet=12ahUKEwisvuKHvorvAhVOHysKHctYAfIQMygAegUIARDPAQ..i&docid=HZLLyFhoQjvNCM&w=960&h=540&q=cars&ved=2ahUKEwisvuKHvorvAhVOHysKHctYAfIQMygAegUIARDPAQ\n",
      "https://www.google.com/imgres?imgurl=https%3A%2F%2Fspecials-images.forbesimg.com%2Fimageserve%2F5d3703e2f1176b00089761a6%2F960x0.jpg%3FcropX1%3D836%26cropX2%3D5396%26cropY1%3D799%26cropY2%3D3364&imgrefurl=https%3A%2F%2Fwww.forbes.com%2Fsites%2Fjimgorzelany%2F2019%2F07%2F23%2Fhere-are-the-coolest-new-cars-for-2020%2F&tbnid=2HR6gA81oIwMTM&vet=12ahUKEwisvuKHvorvAhVOHysKHctYAfIQMygAegUIARDPAQ..i&docid=HZLLyFhoQjvNCM&w=960&h=540&q=cars&ved=2ahUKEwisvuKHvorvAhVOHysKHctYAfIQMygAegUIARDPAQ\n",
      "https://www.google.com/imgres?imgurl=https%3A%2F%2Fspecials-images.forbesimg.com%2Fimageserve%2F5d3703e2f1176b00089761a6%2F960x0.jpg%3FcropX1%3D836%26cropX2%3D5396%26cropY1%3D799%26cropY2%3D3364&imgrefurl=https%3A%2F%2Fwww.forbes.com%2Fsites%2Fjimgorzelany%2F2019%2F07%2F23%2Fhere-are-the-coolest-new-cars-for-2020%2F&tbnid=2HR6gA81oIwMTM&vet=12ahUKEwisvuKHvorvAhVOHysKHctYAfIQMygAegUIARDPAQ..i&docid=HZLLyFhoQjvNCM&w=960&h=540&q=cars&ved=2ahUKEwisvuKHvorvAhVOHysKHctYAfIQMygAegUIARDPAQ\n",
      "https://www.google.com/imgres?imgurl=https%3A%2F%2Fspecials-images.forbesimg.com%2Fimageserve%2F5d3703e2f1176b00089761a6%2F960x0.jpg%3FcropX1%3D836%26cropX2%3D5396%26cropY1%3D799%26cropY2%3D3364&imgrefurl=https%3A%2F%2Fwww.forbes.com%2Fsites%2Fjimgorzelany%2F2019%2F07%2F23%2Fhere-are-the-coolest-new-cars-for-2020%2F&tbnid=2HR6gA81oIwMTM&vet=12ahUKEwisvuKHvorvAhVOHysKHctYAfIQMygAegUIARDPAQ..i&docid=HZLLyFhoQjvNCM&w=960&h=540&q=cars&ved=2ahUKEwisvuKHvorvAhVOHysKHctYAfIQMygAegUIARDPAQ\n",
      "https://www.google.com/imgres?imgurl=https%3A%2F%2Fspecials-images.forbesimg.com%2Fimageserve%2F5d3703e2f1176b00089761a6%2F960x0.jpg%3FcropX1%3D836%26cropX2%3D5396%26cropY1%3D799%26cropY2%3D3364&imgrefurl=https%3A%2F%2Fwww.forbes.com%2Fsites%2Fjimgorzelany%2F2019%2F07%2F23%2Fhere-are-the-coolest-new-cars-for-2020%2F&tbnid=2HR6gA81oIwMTM&vet=12ahUKEwisvuKHvorvAhVOHysKHctYAfIQMygAegUIARDPAQ..i&docid=HZLLyFhoQjvNCM&w=960&h=540&q=cars&ved=2ahUKEwisvuKHvorvAhVOHysKHctYAfIQMygAegUIARDPAQ\n",
      "https://www.google.com/imgres?imgurl=https%3A%2F%2Fspecials-images.forbesimg.com%2Fimageserve%2F5d3703e2f1176b00089761a6%2F960x0.jpg%3FcropX1%3D836%26cropX2%3D5396%26cropY1%3D799%26cropY2%3D3364&imgrefurl=https%3A%2F%2Fwww.forbes.com%2Fsites%2Fjimgorzelany%2F2019%2F07%2F23%2Fhere-are-the-coolest-new-cars-for-2020%2F&tbnid=2HR6gA81oIwMTM&vet=12ahUKEwisvuKHvorvAhVOHysKHctYAfIQMygAegUIARDPAQ..i&docid=HZLLyFhoQjvNCM&w=960&h=540&q=cars&ved=2ahUKEwisvuKHvorvAhVOHysKHctYAfIQMygAegUIARDPAQ\n",
      "https://www.google.com/imgres?imgurl=https%3A%2F%2Fspecials-images.forbesimg.com%2Fimageserve%2F5d3703e2f1176b00089761a6%2F960x0.jpg%3FcropX1%3D836%26cropX2%3D5396%26cropY1%3D799%26cropY2%3D3364&imgrefurl=https%3A%2F%2Fwww.forbes.com%2Fsites%2Fjimgorzelany%2F2019%2F07%2F23%2Fhere-are-the-coolest-new-cars-for-2020%2F&tbnid=2HR6gA81oIwMTM&vet=12ahUKEwisvuKHvorvAhVOHysKHctYAfIQMygAegUIARDPAQ..i&docid=HZLLyFhoQjvNCM&w=960&h=540&q=cars&ved=2ahUKEwisvuKHvorvAhVOHysKHctYAfIQMygAegUIARDPAQ\n",
      "https://www.google.com/imgres?imgurl=https%3A%2F%2Fspecials-images.forbesimg.com%2Fimageserve%2F5d3703e2f1176b00089761a6%2F960x0.jpg%3FcropX1%3D836%26cropX2%3D5396%26cropY1%3D799%26cropY2%3D3364&imgrefurl=https%3A%2F%2Fwww.forbes.com%2Fsites%2Fjimgorzelany%2F2019%2F07%2F23%2Fhere-are-the-coolest-new-cars-for-2020%2F&tbnid=2HR6gA81oIwMTM&vet=12ahUKEwisvuKHvorvAhVOHysKHctYAfIQMygAegUIARDPAQ..i&docid=HZLLyFhoQjvNCM&w=960&h=540&q=cars&ved=2ahUKEwisvuKHvorvAhVOHysKHctYAfIQMygAegUIARDPAQ\n",
      "https://www.google.com/imgres?imgurl=https%3A%2F%2Fspecials-images.forbesimg.com%2Fimageserve%2F5d3703e2f1176b00089761a6%2F960x0.jpg%3FcropX1%3D836%26cropX2%3D5396%26cropY1%3D799%26cropY2%3D3364&imgrefurl=https%3A%2F%2Fwww.forbes.com%2Fsites%2Fjimgorzelany%2F2019%2F07%2F23%2Fhere-are-the-coolest-new-cars-for-2020%2F&tbnid=2HR6gA81oIwMTM&vet=12ahUKEwisvuKHvorvAhVOHysKHctYAfIQMygAegUIARDPAQ..i&docid=HZLLyFhoQjvNCM&w=960&h=540&q=cars&ved=2ahUKEwisvuKHvorvAhVOHysKHctYAfIQMygAegUIARDPAQ\n",
      "https://www.google.com/imgres?imgurl=https%3A%2F%2Fspecials-images.forbesimg.com%2Fimageserve%2F5d3703e2f1176b00089761a6%2F960x0.jpg%3FcropX1%3D836%26cropX2%3D5396%26cropY1%3D799%26cropY2%3D3364&imgrefurl=https%3A%2F%2Fwww.forbes.com%2Fsites%2Fjimgorzelany%2F2019%2F07%2F23%2Fhere-are-the-coolest-new-cars-for-2020%2F&tbnid=2HR6gA81oIwMTM&vet=12ahUKEwisvuKHvorvAhVOHysKHctYAfIQMygAegUIARDPAQ..i&docid=HZLLyFhoQjvNCM&w=960&h=540&q=cars&ved=2ahUKEwisvuKHvorvAhVOHysKHctYAfIQMygAegUIARDPAQ\n",
      "https://www.google.com/imgres?imgurl=https%3A%2F%2Fspecials-images.forbesimg.com%2Fimageserve%2F5d3703e2f1176b00089761a6%2F960x0.jpg%3FcropX1%3D836%26cropX2%3D5396%26cropY1%3D799%26cropY2%3D3364&imgrefurl=https%3A%2F%2Fwww.forbes.com%2Fsites%2Fjimgorzelany%2F2019%2F07%2F23%2Fhere-are-the-coolest-new-cars-for-2020%2F&tbnid=2HR6gA81oIwMTM&vet=12ahUKEwisvuKHvorvAhVOHysKHctYAfIQMygAegUIARDPAQ..i&docid=HZLLyFhoQjvNCM&w=960&h=540&q=cars&ved=2ahUKEwisvuKHvorvAhVOHysKHctYAfIQMygAegUIARDPAQ\n",
      "https://www.google.com/imgres?imgurl=https%3A%2F%2Fspecials-images.forbesimg.com%2Fimageserve%2F5d3703e2f1176b00089761a6%2F960x0.jpg%3FcropX1%3D836%26cropX2%3D5396%26cropY1%3D799%26cropY2%3D3364&imgrefurl=https%3A%2F%2Fwww.forbes.com%2Fsites%2Fjimgorzelany%2F2019%2F07%2F23%2Fhere-are-the-coolest-new-cars-for-2020%2F&tbnid=2HR6gA81oIwMTM&vet=12ahUKEwisvuKHvorvAhVOHysKHctYAfIQMygAegUIARDPAQ..i&docid=HZLLyFhoQjvNCM&w=960&h=540&q=cars&ved=2ahUKEwisvuKHvorvAhVOHysKHctYAfIQMygAegUIARDPAQ\n",
      "https://www.google.com/imgres?imgurl=https%3A%2F%2Fspecials-images.forbesimg.com%2Fimageserve%2F5d3703e2f1176b00089761a6%2F960x0.jpg%3FcropX1%3D836%26cropX2%3D5396%26cropY1%3D799%26cropY2%3D3364&imgrefurl=https%3A%2F%2Fwww.forbes.com%2Fsites%2Fjimgorzelany%2F2019%2F07%2F23%2Fhere-are-the-coolest-new-cars-for-2020%2F&tbnid=2HR6gA81oIwMTM&vet=12ahUKEwisvuKHvorvAhVOHysKHctYAfIQMygAegUIARDPAQ..i&docid=HZLLyFhoQjvNCM&w=960&h=540&q=cars&ved=2ahUKEwisvuKHvorvAhVOHysKHctYAfIQMygAegUIARDPAQ\n",
      "https://www.google.com/imgres?imgurl=https%3A%2F%2Fspecials-images.forbesimg.com%2Fimageserve%2F5d3703e2f1176b00089761a6%2F960x0.jpg%3FcropX1%3D836%26cropX2%3D5396%26cropY1%3D799%26cropY2%3D3364&imgrefurl=https%3A%2F%2Fwww.forbes.com%2Fsites%2Fjimgorzelany%2F2019%2F07%2F23%2Fhere-are-the-coolest-new-cars-for-2020%2F&tbnid=2HR6gA81oIwMTM&vet=12ahUKEwisvuKHvorvAhVOHysKHctYAfIQMygAegUIARDPAQ..i&docid=HZLLyFhoQjvNCM&w=960&h=540&q=cars&ved=2ahUKEwisvuKHvorvAhVOHysKHctYAfIQMygAegUIARDPAQ\n"
     ]
    }
   ],
   "source": [
    "for i in range(0,99):\n",
    "    print(driver.find_element_by_xpath(\"//a[@class='wXeWr islib nfEiy mM5pbd']\").get_attribute('href'))"
   ]
  },
  {
   "cell_type": "code",
   "execution_count": 23,
   "metadata": {},
   "outputs": [],
   "source": [
    "driver.close()"
   ]
  },
  {
   "cell_type": "code",
   "execution_count": 42,
   "metadata": {},
   "outputs": [],
   "source": [
    "driver=webdriver.Chrome(\"Desktop/chromedriver.exe\")"
   ]
  },
  {
   "cell_type": "code",
   "execution_count": 43,
   "metadata": {},
   "outputs": [],
   "source": [
    "driver.get(\"https://images.google.com/\")"
   ]
  },
  {
   "cell_type": "code",
   "execution_count": 44,
   "metadata": {},
   "outputs": [],
   "source": [
    "url=\"https://images.google.com/\""
   ]
  },
  {
   "cell_type": "code",
   "execution_count": 45,
   "metadata": {},
   "outputs": [],
   "source": [
    "driver.get(url)"
   ]
  },
  {
   "cell_type": "code",
   "execution_count": 46,
   "metadata": {},
   "outputs": [],
   "source": [
    "search_machine_learning=driver.find_element_by_xpath(\"//*[@id='sbtc']/div/div[2]/input\")\n",
    "search_machine_learning.send_keys(\"machine_learning\")"
   ]
  },
  {
   "cell_type": "code",
   "execution_count": 47,
   "metadata": {},
   "outputs": [],
   "source": [
    "search_btn=driver.find_element_by_xpath(\"//span[@class='z1asCe MZy1Rb']\")\n",
    "search_btn.click()"
   ]
  },
  {
   "cell_type": "code",
   "execution_count": 51,
   "metadata": {},
   "outputs": [
    {
     "name": "stdout",
     "output_type": "stream",
     "text": [
      "https://www.google.com/imgres?imgurl=https%3A%2F%2Fwww.spec-india.com%2Fwp-content%2Fuploads%2F2020%2F04%2Fmachine_learning.png&imgrefurl=https%3A%2F%2Fwww.spec-india.com%2Ftech-in-200-words%2Fwhat-is-machine-learning&tbnid=O7I__0d8vQb_NM&vet=12ahUKEwjjkv_qzYrvAhU2jEsFHSKYAl8QMygAegUIARCdAQ..i&docid=UrdN5NrinEtY-M&w=800&h=440&q=machine_learning&ved=2ahUKEwjjkv_qzYrvAhU2jEsFHSKYAl8QMygAegUIARCdAQ\n",
      "https://www.google.com/imgres?imgurl=https%3A%2F%2Fwww.spec-india.com%2Fwp-content%2Fuploads%2F2020%2F04%2Fmachine_learning.png&imgrefurl=https%3A%2F%2Fwww.spec-india.com%2Ftech-in-200-words%2Fwhat-is-machine-learning&tbnid=O7I__0d8vQb_NM&vet=12ahUKEwjjkv_qzYrvAhU2jEsFHSKYAl8QMygAegUIARCdAQ..i&docid=UrdN5NrinEtY-M&w=800&h=440&q=machine_learning&ved=2ahUKEwjjkv_qzYrvAhU2jEsFHSKYAl8QMygAegUIARCdAQ\n",
      "https://www.google.com/imgres?imgurl=https%3A%2F%2Fwww.spec-india.com%2Fwp-content%2Fuploads%2F2020%2F04%2Fmachine_learning.png&imgrefurl=https%3A%2F%2Fwww.spec-india.com%2Ftech-in-200-words%2Fwhat-is-machine-learning&tbnid=O7I__0d8vQb_NM&vet=12ahUKEwjjkv_qzYrvAhU2jEsFHSKYAl8QMygAegUIARCdAQ..i&docid=UrdN5NrinEtY-M&w=800&h=440&q=machine_learning&ved=2ahUKEwjjkv_qzYrvAhU2jEsFHSKYAl8QMygAegUIARCdAQ\n",
      "https://www.google.com/imgres?imgurl=https%3A%2F%2Fwww.spec-india.com%2Fwp-content%2Fuploads%2F2020%2F04%2Fmachine_learning.png&imgrefurl=https%3A%2F%2Fwww.spec-india.com%2Ftech-in-200-words%2Fwhat-is-machine-learning&tbnid=O7I__0d8vQb_NM&vet=12ahUKEwjjkv_qzYrvAhU2jEsFHSKYAl8QMygAegUIARCdAQ..i&docid=UrdN5NrinEtY-M&w=800&h=440&q=machine_learning&ved=2ahUKEwjjkv_qzYrvAhU2jEsFHSKYAl8QMygAegUIARCdAQ\n",
      "https://www.google.com/imgres?imgurl=https%3A%2F%2Fwww.spec-india.com%2Fwp-content%2Fuploads%2F2020%2F04%2Fmachine_learning.png&imgrefurl=https%3A%2F%2Fwww.spec-india.com%2Ftech-in-200-words%2Fwhat-is-machine-learning&tbnid=O7I__0d8vQb_NM&vet=12ahUKEwjjkv_qzYrvAhU2jEsFHSKYAl8QMygAegUIARCdAQ..i&docid=UrdN5NrinEtY-M&w=800&h=440&q=machine_learning&ved=2ahUKEwjjkv_qzYrvAhU2jEsFHSKYAl8QMygAegUIARCdAQ\n",
      "https://www.google.com/imgres?imgurl=https%3A%2F%2Fwww.spec-india.com%2Fwp-content%2Fuploads%2F2020%2F04%2Fmachine_learning.png&imgrefurl=https%3A%2F%2Fwww.spec-india.com%2Ftech-in-200-words%2Fwhat-is-machine-learning&tbnid=O7I__0d8vQb_NM&vet=12ahUKEwjjkv_qzYrvAhU2jEsFHSKYAl8QMygAegUIARCdAQ..i&docid=UrdN5NrinEtY-M&w=800&h=440&q=machine_learning&ved=2ahUKEwjjkv_qzYrvAhU2jEsFHSKYAl8QMygAegUIARCdAQ\n",
      "https://www.google.com/imgres?imgurl=https%3A%2F%2Fwww.spec-india.com%2Fwp-content%2Fuploads%2F2020%2F04%2Fmachine_learning.png&imgrefurl=https%3A%2F%2Fwww.spec-india.com%2Ftech-in-200-words%2Fwhat-is-machine-learning&tbnid=O7I__0d8vQb_NM&vet=12ahUKEwjjkv_qzYrvAhU2jEsFHSKYAl8QMygAegUIARCdAQ..i&docid=UrdN5NrinEtY-M&w=800&h=440&q=machine_learning&ved=2ahUKEwjjkv_qzYrvAhU2jEsFHSKYAl8QMygAegUIARCdAQ\n",
      "https://www.google.com/imgres?imgurl=https%3A%2F%2Fwww.spec-india.com%2Fwp-content%2Fuploads%2F2020%2F04%2Fmachine_learning.png&imgrefurl=https%3A%2F%2Fwww.spec-india.com%2Ftech-in-200-words%2Fwhat-is-machine-learning&tbnid=O7I__0d8vQb_NM&vet=12ahUKEwjjkv_qzYrvAhU2jEsFHSKYAl8QMygAegUIARCdAQ..i&docid=UrdN5NrinEtY-M&w=800&h=440&q=machine_learning&ved=2ahUKEwjjkv_qzYrvAhU2jEsFHSKYAl8QMygAegUIARCdAQ\n",
      "https://www.google.com/imgres?imgurl=https%3A%2F%2Fwww.spec-india.com%2Fwp-content%2Fuploads%2F2020%2F04%2Fmachine_learning.png&imgrefurl=https%3A%2F%2Fwww.spec-india.com%2Ftech-in-200-words%2Fwhat-is-machine-learning&tbnid=O7I__0d8vQb_NM&vet=12ahUKEwjjkv_qzYrvAhU2jEsFHSKYAl8QMygAegUIARCdAQ..i&docid=UrdN5NrinEtY-M&w=800&h=440&q=machine_learning&ved=2ahUKEwjjkv_qzYrvAhU2jEsFHSKYAl8QMygAegUIARCdAQ\n",
      "https://www.google.com/imgres?imgurl=https%3A%2F%2Fwww.spec-india.com%2Fwp-content%2Fuploads%2F2020%2F04%2Fmachine_learning.png&imgrefurl=https%3A%2F%2Fwww.spec-india.com%2Ftech-in-200-words%2Fwhat-is-machine-learning&tbnid=O7I__0d8vQb_NM&vet=12ahUKEwjjkv_qzYrvAhU2jEsFHSKYAl8QMygAegUIARCdAQ..i&docid=UrdN5NrinEtY-M&w=800&h=440&q=machine_learning&ved=2ahUKEwjjkv_qzYrvAhU2jEsFHSKYAl8QMygAegUIARCdAQ\n",
      "https://www.google.com/imgres?imgurl=https%3A%2F%2Fwww.spec-india.com%2Fwp-content%2Fuploads%2F2020%2F04%2Fmachine_learning.png&imgrefurl=https%3A%2F%2Fwww.spec-india.com%2Ftech-in-200-words%2Fwhat-is-machine-learning&tbnid=O7I__0d8vQb_NM&vet=12ahUKEwjjkv_qzYrvAhU2jEsFHSKYAl8QMygAegUIARCdAQ..i&docid=UrdN5NrinEtY-M&w=800&h=440&q=machine_learning&ved=2ahUKEwjjkv_qzYrvAhU2jEsFHSKYAl8QMygAegUIARCdAQ\n",
      "https://www.google.com/imgres?imgurl=https%3A%2F%2Fwww.spec-india.com%2Fwp-content%2Fuploads%2F2020%2F04%2Fmachine_learning.png&imgrefurl=https%3A%2F%2Fwww.spec-india.com%2Ftech-in-200-words%2Fwhat-is-machine-learning&tbnid=O7I__0d8vQb_NM&vet=12ahUKEwjjkv_qzYrvAhU2jEsFHSKYAl8QMygAegUIARCdAQ..i&docid=UrdN5NrinEtY-M&w=800&h=440&q=machine_learning&ved=2ahUKEwjjkv_qzYrvAhU2jEsFHSKYAl8QMygAegUIARCdAQ\n",
      "https://www.google.com/imgres?imgurl=https%3A%2F%2Fwww.spec-india.com%2Fwp-content%2Fuploads%2F2020%2F04%2Fmachine_learning.png&imgrefurl=https%3A%2F%2Fwww.spec-india.com%2Ftech-in-200-words%2Fwhat-is-machine-learning&tbnid=O7I__0d8vQb_NM&vet=12ahUKEwjjkv_qzYrvAhU2jEsFHSKYAl8QMygAegUIARCdAQ..i&docid=UrdN5NrinEtY-M&w=800&h=440&q=machine_learning&ved=2ahUKEwjjkv_qzYrvAhU2jEsFHSKYAl8QMygAegUIARCdAQ\n",
      "https://www.google.com/imgres?imgurl=https%3A%2F%2Fwww.spec-india.com%2Fwp-content%2Fuploads%2F2020%2F04%2Fmachine_learning.png&imgrefurl=https%3A%2F%2Fwww.spec-india.com%2Ftech-in-200-words%2Fwhat-is-machine-learning&tbnid=O7I__0d8vQb_NM&vet=12ahUKEwjjkv_qzYrvAhU2jEsFHSKYAl8QMygAegUIARCdAQ..i&docid=UrdN5NrinEtY-M&w=800&h=440&q=machine_learning&ved=2ahUKEwjjkv_qzYrvAhU2jEsFHSKYAl8QMygAegUIARCdAQ\n",
      "https://www.google.com/imgres?imgurl=https%3A%2F%2Fwww.spec-india.com%2Fwp-content%2Fuploads%2F2020%2F04%2Fmachine_learning.png&imgrefurl=https%3A%2F%2Fwww.spec-india.com%2Ftech-in-200-words%2Fwhat-is-machine-learning&tbnid=O7I__0d8vQb_NM&vet=12ahUKEwjjkv_qzYrvAhU2jEsFHSKYAl8QMygAegUIARCdAQ..i&docid=UrdN5NrinEtY-M&w=800&h=440&q=machine_learning&ved=2ahUKEwjjkv_qzYrvAhU2jEsFHSKYAl8QMygAegUIARCdAQ\n",
      "https://www.google.com/imgres?imgurl=https%3A%2F%2Fwww.spec-india.com%2Fwp-content%2Fuploads%2F2020%2F04%2Fmachine_learning.png&imgrefurl=https%3A%2F%2Fwww.spec-india.com%2Ftech-in-200-words%2Fwhat-is-machine-learning&tbnid=O7I__0d8vQb_NM&vet=12ahUKEwjjkv_qzYrvAhU2jEsFHSKYAl8QMygAegUIARCdAQ..i&docid=UrdN5NrinEtY-M&w=800&h=440&q=machine_learning&ved=2ahUKEwjjkv_qzYrvAhU2jEsFHSKYAl8QMygAegUIARCdAQ\n",
      "https://www.google.com/imgres?imgurl=https%3A%2F%2Fwww.spec-india.com%2Fwp-content%2Fuploads%2F2020%2F04%2Fmachine_learning.png&imgrefurl=https%3A%2F%2Fwww.spec-india.com%2Ftech-in-200-words%2Fwhat-is-machine-learning&tbnid=O7I__0d8vQb_NM&vet=12ahUKEwjjkv_qzYrvAhU2jEsFHSKYAl8QMygAegUIARCdAQ..i&docid=UrdN5NrinEtY-M&w=800&h=440&q=machine_learning&ved=2ahUKEwjjkv_qzYrvAhU2jEsFHSKYAl8QMygAegUIARCdAQ\n",
      "https://www.google.com/imgres?imgurl=https%3A%2F%2Fwww.spec-india.com%2Fwp-content%2Fuploads%2F2020%2F04%2Fmachine_learning.png&imgrefurl=https%3A%2F%2Fwww.spec-india.com%2Ftech-in-200-words%2Fwhat-is-machine-learning&tbnid=O7I__0d8vQb_NM&vet=12ahUKEwjjkv_qzYrvAhU2jEsFHSKYAl8QMygAegUIARCdAQ..i&docid=UrdN5NrinEtY-M&w=800&h=440&q=machine_learning&ved=2ahUKEwjjkv_qzYrvAhU2jEsFHSKYAl8QMygAegUIARCdAQ\n",
      "https://www.google.com/imgres?imgurl=https%3A%2F%2Fwww.spec-india.com%2Fwp-content%2Fuploads%2F2020%2F04%2Fmachine_learning.png&imgrefurl=https%3A%2F%2Fwww.spec-india.com%2Ftech-in-200-words%2Fwhat-is-machine-learning&tbnid=O7I__0d8vQb_NM&vet=12ahUKEwjjkv_qzYrvAhU2jEsFHSKYAl8QMygAegUIARCdAQ..i&docid=UrdN5NrinEtY-M&w=800&h=440&q=machine_learning&ved=2ahUKEwjjkv_qzYrvAhU2jEsFHSKYAl8QMygAegUIARCdAQ\n",
      "https://www.google.com/imgres?imgurl=https%3A%2F%2Fwww.spec-india.com%2Fwp-content%2Fuploads%2F2020%2F04%2Fmachine_learning.png&imgrefurl=https%3A%2F%2Fwww.spec-india.com%2Ftech-in-200-words%2Fwhat-is-machine-learning&tbnid=O7I__0d8vQb_NM&vet=12ahUKEwjjkv_qzYrvAhU2jEsFHSKYAl8QMygAegUIARCdAQ..i&docid=UrdN5NrinEtY-M&w=800&h=440&q=machine_learning&ved=2ahUKEwjjkv_qzYrvAhU2jEsFHSKYAl8QMygAegUIARCdAQ\n",
      "https://www.google.com/imgres?imgurl=https%3A%2F%2Fwww.spec-india.com%2Fwp-content%2Fuploads%2F2020%2F04%2Fmachine_learning.png&imgrefurl=https%3A%2F%2Fwww.spec-india.com%2Ftech-in-200-words%2Fwhat-is-machine-learning&tbnid=O7I__0d8vQb_NM&vet=12ahUKEwjjkv_qzYrvAhU2jEsFHSKYAl8QMygAegUIARCdAQ..i&docid=UrdN5NrinEtY-M&w=800&h=440&q=machine_learning&ved=2ahUKEwjjkv_qzYrvAhU2jEsFHSKYAl8QMygAegUIARCdAQ\n",
      "https://www.google.com/imgres?imgurl=https%3A%2F%2Fwww.spec-india.com%2Fwp-content%2Fuploads%2F2020%2F04%2Fmachine_learning.png&imgrefurl=https%3A%2F%2Fwww.spec-india.com%2Ftech-in-200-words%2Fwhat-is-machine-learning&tbnid=O7I__0d8vQb_NM&vet=12ahUKEwjjkv_qzYrvAhU2jEsFHSKYAl8QMygAegUIARCdAQ..i&docid=UrdN5NrinEtY-M&w=800&h=440&q=machine_learning&ved=2ahUKEwjjkv_qzYrvAhU2jEsFHSKYAl8QMygAegUIARCdAQ\n",
      "https://www.google.com/imgres?imgurl=https%3A%2F%2Fwww.spec-india.com%2Fwp-content%2Fuploads%2F2020%2F04%2Fmachine_learning.png&imgrefurl=https%3A%2F%2Fwww.spec-india.com%2Ftech-in-200-words%2Fwhat-is-machine-learning&tbnid=O7I__0d8vQb_NM&vet=12ahUKEwjjkv_qzYrvAhU2jEsFHSKYAl8QMygAegUIARCdAQ..i&docid=UrdN5NrinEtY-M&w=800&h=440&q=machine_learning&ved=2ahUKEwjjkv_qzYrvAhU2jEsFHSKYAl8QMygAegUIARCdAQ\n",
      "https://www.google.com/imgres?imgurl=https%3A%2F%2Fwww.spec-india.com%2Fwp-content%2Fuploads%2F2020%2F04%2Fmachine_learning.png&imgrefurl=https%3A%2F%2Fwww.spec-india.com%2Ftech-in-200-words%2Fwhat-is-machine-learning&tbnid=O7I__0d8vQb_NM&vet=12ahUKEwjjkv_qzYrvAhU2jEsFHSKYAl8QMygAegUIARCdAQ..i&docid=UrdN5NrinEtY-M&w=800&h=440&q=machine_learning&ved=2ahUKEwjjkv_qzYrvAhU2jEsFHSKYAl8QMygAegUIARCdAQ\n",
      "https://www.google.com/imgres?imgurl=https%3A%2F%2Fwww.spec-india.com%2Fwp-content%2Fuploads%2F2020%2F04%2Fmachine_learning.png&imgrefurl=https%3A%2F%2Fwww.spec-india.com%2Ftech-in-200-words%2Fwhat-is-machine-learning&tbnid=O7I__0d8vQb_NM&vet=12ahUKEwjjkv_qzYrvAhU2jEsFHSKYAl8QMygAegUIARCdAQ..i&docid=UrdN5NrinEtY-M&w=800&h=440&q=machine_learning&ved=2ahUKEwjjkv_qzYrvAhU2jEsFHSKYAl8QMygAegUIARCdAQ\n",
      "https://www.google.com/imgres?imgurl=https%3A%2F%2Fwww.spec-india.com%2Fwp-content%2Fuploads%2F2020%2F04%2Fmachine_learning.png&imgrefurl=https%3A%2F%2Fwww.spec-india.com%2Ftech-in-200-words%2Fwhat-is-machine-learning&tbnid=O7I__0d8vQb_NM&vet=12ahUKEwjjkv_qzYrvAhU2jEsFHSKYAl8QMygAegUIARCdAQ..i&docid=UrdN5NrinEtY-M&w=800&h=440&q=machine_learning&ved=2ahUKEwjjkv_qzYrvAhU2jEsFHSKYAl8QMygAegUIARCdAQ\n",
      "https://www.google.com/imgres?imgurl=https%3A%2F%2Fwww.spec-india.com%2Fwp-content%2Fuploads%2F2020%2F04%2Fmachine_learning.png&imgrefurl=https%3A%2F%2Fwww.spec-india.com%2Ftech-in-200-words%2Fwhat-is-machine-learning&tbnid=O7I__0d8vQb_NM&vet=12ahUKEwjjkv_qzYrvAhU2jEsFHSKYAl8QMygAegUIARCdAQ..i&docid=UrdN5NrinEtY-M&w=800&h=440&q=machine_learning&ved=2ahUKEwjjkv_qzYrvAhU2jEsFHSKYAl8QMygAegUIARCdAQ\n",
      "https://www.google.com/imgres?imgurl=https%3A%2F%2Fwww.spec-india.com%2Fwp-content%2Fuploads%2F2020%2F04%2Fmachine_learning.png&imgrefurl=https%3A%2F%2Fwww.spec-india.com%2Ftech-in-200-words%2Fwhat-is-machine-learning&tbnid=O7I__0d8vQb_NM&vet=12ahUKEwjjkv_qzYrvAhU2jEsFHSKYAl8QMygAegUIARCdAQ..i&docid=UrdN5NrinEtY-M&w=800&h=440&q=machine_learning&ved=2ahUKEwjjkv_qzYrvAhU2jEsFHSKYAl8QMygAegUIARCdAQ\n",
      "https://www.google.com/imgres?imgurl=https%3A%2F%2Fwww.spec-india.com%2Fwp-content%2Fuploads%2F2020%2F04%2Fmachine_learning.png&imgrefurl=https%3A%2F%2Fwww.spec-india.com%2Ftech-in-200-words%2Fwhat-is-machine-learning&tbnid=O7I__0d8vQb_NM&vet=12ahUKEwjjkv_qzYrvAhU2jEsFHSKYAl8QMygAegUIARCdAQ..i&docid=UrdN5NrinEtY-M&w=800&h=440&q=machine_learning&ved=2ahUKEwjjkv_qzYrvAhU2jEsFHSKYAl8QMygAegUIARCdAQ\n",
      "https://www.google.com/imgres?imgurl=https%3A%2F%2Fwww.spec-india.com%2Fwp-content%2Fuploads%2F2020%2F04%2Fmachine_learning.png&imgrefurl=https%3A%2F%2Fwww.spec-india.com%2Ftech-in-200-words%2Fwhat-is-machine-learning&tbnid=O7I__0d8vQb_NM&vet=12ahUKEwjjkv_qzYrvAhU2jEsFHSKYAl8QMygAegUIARCdAQ..i&docid=UrdN5NrinEtY-M&w=800&h=440&q=machine_learning&ved=2ahUKEwjjkv_qzYrvAhU2jEsFHSKYAl8QMygAegUIARCdAQ\n",
      "https://www.google.com/imgres?imgurl=https%3A%2F%2Fwww.spec-india.com%2Fwp-content%2Fuploads%2F2020%2F04%2Fmachine_learning.png&imgrefurl=https%3A%2F%2Fwww.spec-india.com%2Ftech-in-200-words%2Fwhat-is-machine-learning&tbnid=O7I__0d8vQb_NM&vet=12ahUKEwjjkv_qzYrvAhU2jEsFHSKYAl8QMygAegUIARCdAQ..i&docid=UrdN5NrinEtY-M&w=800&h=440&q=machine_learning&ved=2ahUKEwjjkv_qzYrvAhU2jEsFHSKYAl8QMygAegUIARCdAQ\n",
      "https://www.google.com/imgres?imgurl=https%3A%2F%2Fwww.spec-india.com%2Fwp-content%2Fuploads%2F2020%2F04%2Fmachine_learning.png&imgrefurl=https%3A%2F%2Fwww.spec-india.com%2Ftech-in-200-words%2Fwhat-is-machine-learning&tbnid=O7I__0d8vQb_NM&vet=12ahUKEwjjkv_qzYrvAhU2jEsFHSKYAl8QMygAegUIARCdAQ..i&docid=UrdN5NrinEtY-M&w=800&h=440&q=machine_learning&ved=2ahUKEwjjkv_qzYrvAhU2jEsFHSKYAl8QMygAegUIARCdAQ\n",
      "https://www.google.com/imgres?imgurl=https%3A%2F%2Fwww.spec-india.com%2Fwp-content%2Fuploads%2F2020%2F04%2Fmachine_learning.png&imgrefurl=https%3A%2F%2Fwww.spec-india.com%2Ftech-in-200-words%2Fwhat-is-machine-learning&tbnid=O7I__0d8vQb_NM&vet=12ahUKEwjjkv_qzYrvAhU2jEsFHSKYAl8QMygAegUIARCdAQ..i&docid=UrdN5NrinEtY-M&w=800&h=440&q=machine_learning&ved=2ahUKEwjjkv_qzYrvAhU2jEsFHSKYAl8QMygAegUIARCdAQ\n",
      "https://www.google.com/imgres?imgurl=https%3A%2F%2Fwww.spec-india.com%2Fwp-content%2Fuploads%2F2020%2F04%2Fmachine_learning.png&imgrefurl=https%3A%2F%2Fwww.spec-india.com%2Ftech-in-200-words%2Fwhat-is-machine-learning&tbnid=O7I__0d8vQb_NM&vet=12ahUKEwjjkv_qzYrvAhU2jEsFHSKYAl8QMygAegUIARCdAQ..i&docid=UrdN5NrinEtY-M&w=800&h=440&q=machine_learning&ved=2ahUKEwjjkv_qzYrvAhU2jEsFHSKYAl8QMygAegUIARCdAQ\n",
      "https://www.google.com/imgres?imgurl=https%3A%2F%2Fwww.spec-india.com%2Fwp-content%2Fuploads%2F2020%2F04%2Fmachine_learning.png&imgrefurl=https%3A%2F%2Fwww.spec-india.com%2Ftech-in-200-words%2Fwhat-is-machine-learning&tbnid=O7I__0d8vQb_NM&vet=12ahUKEwjjkv_qzYrvAhU2jEsFHSKYAl8QMygAegUIARCdAQ..i&docid=UrdN5NrinEtY-M&w=800&h=440&q=machine_learning&ved=2ahUKEwjjkv_qzYrvAhU2jEsFHSKYAl8QMygAegUIARCdAQ\n",
      "https://www.google.com/imgres?imgurl=https%3A%2F%2Fwww.spec-india.com%2Fwp-content%2Fuploads%2F2020%2F04%2Fmachine_learning.png&imgrefurl=https%3A%2F%2Fwww.spec-india.com%2Ftech-in-200-words%2Fwhat-is-machine-learning&tbnid=O7I__0d8vQb_NM&vet=12ahUKEwjjkv_qzYrvAhU2jEsFHSKYAl8QMygAegUIARCdAQ..i&docid=UrdN5NrinEtY-M&w=800&h=440&q=machine_learning&ved=2ahUKEwjjkv_qzYrvAhU2jEsFHSKYAl8QMygAegUIARCdAQ\n",
      "https://www.google.com/imgres?imgurl=https%3A%2F%2Fwww.spec-india.com%2Fwp-content%2Fuploads%2F2020%2F04%2Fmachine_learning.png&imgrefurl=https%3A%2F%2Fwww.spec-india.com%2Ftech-in-200-words%2Fwhat-is-machine-learning&tbnid=O7I__0d8vQb_NM&vet=12ahUKEwjjkv_qzYrvAhU2jEsFHSKYAl8QMygAegUIARCdAQ..i&docid=UrdN5NrinEtY-M&w=800&h=440&q=machine_learning&ved=2ahUKEwjjkv_qzYrvAhU2jEsFHSKYAl8QMygAegUIARCdAQ\n",
      "https://www.google.com/imgres?imgurl=https%3A%2F%2Fwww.spec-india.com%2Fwp-content%2Fuploads%2F2020%2F04%2Fmachine_learning.png&imgrefurl=https%3A%2F%2Fwww.spec-india.com%2Ftech-in-200-words%2Fwhat-is-machine-learning&tbnid=O7I__0d8vQb_NM&vet=12ahUKEwjjkv_qzYrvAhU2jEsFHSKYAl8QMygAegUIARCdAQ..i&docid=UrdN5NrinEtY-M&w=800&h=440&q=machine_learning&ved=2ahUKEwjjkv_qzYrvAhU2jEsFHSKYAl8QMygAegUIARCdAQ\n",
      "https://www.google.com/imgres?imgurl=https%3A%2F%2Fwww.spec-india.com%2Fwp-content%2Fuploads%2F2020%2F04%2Fmachine_learning.png&imgrefurl=https%3A%2F%2Fwww.spec-india.com%2Ftech-in-200-words%2Fwhat-is-machine-learning&tbnid=O7I__0d8vQb_NM&vet=12ahUKEwjjkv_qzYrvAhU2jEsFHSKYAl8QMygAegUIARCdAQ..i&docid=UrdN5NrinEtY-M&w=800&h=440&q=machine_learning&ved=2ahUKEwjjkv_qzYrvAhU2jEsFHSKYAl8QMygAegUIARCdAQ\n",
      "https://www.google.com/imgres?imgurl=https%3A%2F%2Fwww.spec-india.com%2Fwp-content%2Fuploads%2F2020%2F04%2Fmachine_learning.png&imgrefurl=https%3A%2F%2Fwww.spec-india.com%2Ftech-in-200-words%2Fwhat-is-machine-learning&tbnid=O7I__0d8vQb_NM&vet=12ahUKEwjjkv_qzYrvAhU2jEsFHSKYAl8QMygAegUIARCdAQ..i&docid=UrdN5NrinEtY-M&w=800&h=440&q=machine_learning&ved=2ahUKEwjjkv_qzYrvAhU2jEsFHSKYAl8QMygAegUIARCdAQ\n",
      "https://www.google.com/imgres?imgurl=https%3A%2F%2Fwww.spec-india.com%2Fwp-content%2Fuploads%2F2020%2F04%2Fmachine_learning.png&imgrefurl=https%3A%2F%2Fwww.spec-india.com%2Ftech-in-200-words%2Fwhat-is-machine-learning&tbnid=O7I__0d8vQb_NM&vet=12ahUKEwjjkv_qzYrvAhU2jEsFHSKYAl8QMygAegUIARCdAQ..i&docid=UrdN5NrinEtY-M&w=800&h=440&q=machine_learning&ved=2ahUKEwjjkv_qzYrvAhU2jEsFHSKYAl8QMygAegUIARCdAQ\n",
      "https://www.google.com/imgres?imgurl=https%3A%2F%2Fwww.spec-india.com%2Fwp-content%2Fuploads%2F2020%2F04%2Fmachine_learning.png&imgrefurl=https%3A%2F%2Fwww.spec-india.com%2Ftech-in-200-words%2Fwhat-is-machine-learning&tbnid=O7I__0d8vQb_NM&vet=12ahUKEwjjkv_qzYrvAhU2jEsFHSKYAl8QMygAegUIARCdAQ..i&docid=UrdN5NrinEtY-M&w=800&h=440&q=machine_learning&ved=2ahUKEwjjkv_qzYrvAhU2jEsFHSKYAl8QMygAegUIARCdAQ\n",
      "https://www.google.com/imgres?imgurl=https%3A%2F%2Fwww.spec-india.com%2Fwp-content%2Fuploads%2F2020%2F04%2Fmachine_learning.png&imgrefurl=https%3A%2F%2Fwww.spec-india.com%2Ftech-in-200-words%2Fwhat-is-machine-learning&tbnid=O7I__0d8vQb_NM&vet=12ahUKEwjjkv_qzYrvAhU2jEsFHSKYAl8QMygAegUIARCdAQ..i&docid=UrdN5NrinEtY-M&w=800&h=440&q=machine_learning&ved=2ahUKEwjjkv_qzYrvAhU2jEsFHSKYAl8QMygAegUIARCdAQ\n",
      "https://www.google.com/imgres?imgurl=https%3A%2F%2Fwww.spec-india.com%2Fwp-content%2Fuploads%2F2020%2F04%2Fmachine_learning.png&imgrefurl=https%3A%2F%2Fwww.spec-india.com%2Ftech-in-200-words%2Fwhat-is-machine-learning&tbnid=O7I__0d8vQb_NM&vet=12ahUKEwjjkv_qzYrvAhU2jEsFHSKYAl8QMygAegUIARCdAQ..i&docid=UrdN5NrinEtY-M&w=800&h=440&q=machine_learning&ved=2ahUKEwjjkv_qzYrvAhU2jEsFHSKYAl8QMygAegUIARCdAQ\n",
      "https://www.google.com/imgres?imgurl=https%3A%2F%2Fwww.spec-india.com%2Fwp-content%2Fuploads%2F2020%2F04%2Fmachine_learning.png&imgrefurl=https%3A%2F%2Fwww.spec-india.com%2Ftech-in-200-words%2Fwhat-is-machine-learning&tbnid=O7I__0d8vQb_NM&vet=12ahUKEwjjkv_qzYrvAhU2jEsFHSKYAl8QMygAegUIARCdAQ..i&docid=UrdN5NrinEtY-M&w=800&h=440&q=machine_learning&ved=2ahUKEwjjkv_qzYrvAhU2jEsFHSKYAl8QMygAegUIARCdAQ\n",
      "https://www.google.com/imgres?imgurl=https%3A%2F%2Fwww.spec-india.com%2Fwp-content%2Fuploads%2F2020%2F04%2Fmachine_learning.png&imgrefurl=https%3A%2F%2Fwww.spec-india.com%2Ftech-in-200-words%2Fwhat-is-machine-learning&tbnid=O7I__0d8vQb_NM&vet=12ahUKEwjjkv_qzYrvAhU2jEsFHSKYAl8QMygAegUIARCdAQ..i&docid=UrdN5NrinEtY-M&w=800&h=440&q=machine_learning&ved=2ahUKEwjjkv_qzYrvAhU2jEsFHSKYAl8QMygAegUIARCdAQ\n",
      "https://www.google.com/imgres?imgurl=https%3A%2F%2Fwww.spec-india.com%2Fwp-content%2Fuploads%2F2020%2F04%2Fmachine_learning.png&imgrefurl=https%3A%2F%2Fwww.spec-india.com%2Ftech-in-200-words%2Fwhat-is-machine-learning&tbnid=O7I__0d8vQb_NM&vet=12ahUKEwjjkv_qzYrvAhU2jEsFHSKYAl8QMygAegUIARCdAQ..i&docid=UrdN5NrinEtY-M&w=800&h=440&q=machine_learning&ved=2ahUKEwjjkv_qzYrvAhU2jEsFHSKYAl8QMygAegUIARCdAQ\n",
      "https://www.google.com/imgres?imgurl=https%3A%2F%2Fwww.spec-india.com%2Fwp-content%2Fuploads%2F2020%2F04%2Fmachine_learning.png&imgrefurl=https%3A%2F%2Fwww.spec-india.com%2Ftech-in-200-words%2Fwhat-is-machine-learning&tbnid=O7I__0d8vQb_NM&vet=12ahUKEwjjkv_qzYrvAhU2jEsFHSKYAl8QMygAegUIARCdAQ..i&docid=UrdN5NrinEtY-M&w=800&h=440&q=machine_learning&ved=2ahUKEwjjkv_qzYrvAhU2jEsFHSKYAl8QMygAegUIARCdAQ\n",
      "https://www.google.com/imgres?imgurl=https%3A%2F%2Fwww.spec-india.com%2Fwp-content%2Fuploads%2F2020%2F04%2Fmachine_learning.png&imgrefurl=https%3A%2F%2Fwww.spec-india.com%2Ftech-in-200-words%2Fwhat-is-machine-learning&tbnid=O7I__0d8vQb_NM&vet=12ahUKEwjjkv_qzYrvAhU2jEsFHSKYAl8QMygAegUIARCdAQ..i&docid=UrdN5NrinEtY-M&w=800&h=440&q=machine_learning&ved=2ahUKEwjjkv_qzYrvAhU2jEsFHSKYAl8QMygAegUIARCdAQ\n",
      "https://www.google.com/imgres?imgurl=https%3A%2F%2Fwww.spec-india.com%2Fwp-content%2Fuploads%2F2020%2F04%2Fmachine_learning.png&imgrefurl=https%3A%2F%2Fwww.spec-india.com%2Ftech-in-200-words%2Fwhat-is-machine-learning&tbnid=O7I__0d8vQb_NM&vet=12ahUKEwjjkv_qzYrvAhU2jEsFHSKYAl8QMygAegUIARCdAQ..i&docid=UrdN5NrinEtY-M&w=800&h=440&q=machine_learning&ved=2ahUKEwjjkv_qzYrvAhU2jEsFHSKYAl8QMygAegUIARCdAQ\n",
      "https://www.google.com/imgres?imgurl=https%3A%2F%2Fwww.spec-india.com%2Fwp-content%2Fuploads%2F2020%2F04%2Fmachine_learning.png&imgrefurl=https%3A%2F%2Fwww.spec-india.com%2Ftech-in-200-words%2Fwhat-is-machine-learning&tbnid=O7I__0d8vQb_NM&vet=12ahUKEwjjkv_qzYrvAhU2jEsFHSKYAl8QMygAegUIARCdAQ..i&docid=UrdN5NrinEtY-M&w=800&h=440&q=machine_learning&ved=2ahUKEwjjkv_qzYrvAhU2jEsFHSKYAl8QMygAegUIARCdAQ\n",
      "https://www.google.com/imgres?imgurl=https%3A%2F%2Fwww.spec-india.com%2Fwp-content%2Fuploads%2F2020%2F04%2Fmachine_learning.png&imgrefurl=https%3A%2F%2Fwww.spec-india.com%2Ftech-in-200-words%2Fwhat-is-machine-learning&tbnid=O7I__0d8vQb_NM&vet=12ahUKEwjjkv_qzYrvAhU2jEsFHSKYAl8QMygAegUIARCdAQ..i&docid=UrdN5NrinEtY-M&w=800&h=440&q=machine_learning&ved=2ahUKEwjjkv_qzYrvAhU2jEsFHSKYAl8QMygAegUIARCdAQ\n",
      "https://www.google.com/imgres?imgurl=https%3A%2F%2Fwww.spec-india.com%2Fwp-content%2Fuploads%2F2020%2F04%2Fmachine_learning.png&imgrefurl=https%3A%2F%2Fwww.spec-india.com%2Ftech-in-200-words%2Fwhat-is-machine-learning&tbnid=O7I__0d8vQb_NM&vet=12ahUKEwjjkv_qzYrvAhU2jEsFHSKYAl8QMygAegUIARCdAQ..i&docid=UrdN5NrinEtY-M&w=800&h=440&q=machine_learning&ved=2ahUKEwjjkv_qzYrvAhU2jEsFHSKYAl8QMygAegUIARCdAQ\n",
      "https://www.google.com/imgres?imgurl=https%3A%2F%2Fwww.spec-india.com%2Fwp-content%2Fuploads%2F2020%2F04%2Fmachine_learning.png&imgrefurl=https%3A%2F%2Fwww.spec-india.com%2Ftech-in-200-words%2Fwhat-is-machine-learning&tbnid=O7I__0d8vQb_NM&vet=12ahUKEwjjkv_qzYrvAhU2jEsFHSKYAl8QMygAegUIARCdAQ..i&docid=UrdN5NrinEtY-M&w=800&h=440&q=machine_learning&ved=2ahUKEwjjkv_qzYrvAhU2jEsFHSKYAl8QMygAegUIARCdAQ\n",
      "https://www.google.com/imgres?imgurl=https%3A%2F%2Fwww.spec-india.com%2Fwp-content%2Fuploads%2F2020%2F04%2Fmachine_learning.png&imgrefurl=https%3A%2F%2Fwww.spec-india.com%2Ftech-in-200-words%2Fwhat-is-machine-learning&tbnid=O7I__0d8vQb_NM&vet=12ahUKEwjjkv_qzYrvAhU2jEsFHSKYAl8QMygAegUIARCdAQ..i&docid=UrdN5NrinEtY-M&w=800&h=440&q=machine_learning&ved=2ahUKEwjjkv_qzYrvAhU2jEsFHSKYAl8QMygAegUIARCdAQ\n",
      "https://www.google.com/imgres?imgurl=https%3A%2F%2Fwww.spec-india.com%2Fwp-content%2Fuploads%2F2020%2F04%2Fmachine_learning.png&imgrefurl=https%3A%2F%2Fwww.spec-india.com%2Ftech-in-200-words%2Fwhat-is-machine-learning&tbnid=O7I__0d8vQb_NM&vet=12ahUKEwjjkv_qzYrvAhU2jEsFHSKYAl8QMygAegUIARCdAQ..i&docid=UrdN5NrinEtY-M&w=800&h=440&q=machine_learning&ved=2ahUKEwjjkv_qzYrvAhU2jEsFHSKYAl8QMygAegUIARCdAQ\n",
      "https://www.google.com/imgres?imgurl=https%3A%2F%2Fwww.spec-india.com%2Fwp-content%2Fuploads%2F2020%2F04%2Fmachine_learning.png&imgrefurl=https%3A%2F%2Fwww.spec-india.com%2Ftech-in-200-words%2Fwhat-is-machine-learning&tbnid=O7I__0d8vQb_NM&vet=12ahUKEwjjkv_qzYrvAhU2jEsFHSKYAl8QMygAegUIARCdAQ..i&docid=UrdN5NrinEtY-M&w=800&h=440&q=machine_learning&ved=2ahUKEwjjkv_qzYrvAhU2jEsFHSKYAl8QMygAegUIARCdAQ\n",
      "https://www.google.com/imgres?imgurl=https%3A%2F%2Fwww.spec-india.com%2Fwp-content%2Fuploads%2F2020%2F04%2Fmachine_learning.png&imgrefurl=https%3A%2F%2Fwww.spec-india.com%2Ftech-in-200-words%2Fwhat-is-machine-learning&tbnid=O7I__0d8vQb_NM&vet=12ahUKEwjjkv_qzYrvAhU2jEsFHSKYAl8QMygAegUIARCdAQ..i&docid=UrdN5NrinEtY-M&w=800&h=440&q=machine_learning&ved=2ahUKEwjjkv_qzYrvAhU2jEsFHSKYAl8QMygAegUIARCdAQ\n",
      "https://www.google.com/imgres?imgurl=https%3A%2F%2Fwww.spec-india.com%2Fwp-content%2Fuploads%2F2020%2F04%2Fmachine_learning.png&imgrefurl=https%3A%2F%2Fwww.spec-india.com%2Ftech-in-200-words%2Fwhat-is-machine-learning&tbnid=O7I__0d8vQb_NM&vet=12ahUKEwjjkv_qzYrvAhU2jEsFHSKYAl8QMygAegUIARCdAQ..i&docid=UrdN5NrinEtY-M&w=800&h=440&q=machine_learning&ved=2ahUKEwjjkv_qzYrvAhU2jEsFHSKYAl8QMygAegUIARCdAQ\n",
      "https://www.google.com/imgres?imgurl=https%3A%2F%2Fwww.spec-india.com%2Fwp-content%2Fuploads%2F2020%2F04%2Fmachine_learning.png&imgrefurl=https%3A%2F%2Fwww.spec-india.com%2Ftech-in-200-words%2Fwhat-is-machine-learning&tbnid=O7I__0d8vQb_NM&vet=12ahUKEwjjkv_qzYrvAhU2jEsFHSKYAl8QMygAegUIARCdAQ..i&docid=UrdN5NrinEtY-M&w=800&h=440&q=machine_learning&ved=2ahUKEwjjkv_qzYrvAhU2jEsFHSKYAl8QMygAegUIARCdAQ\n",
      "https://www.google.com/imgres?imgurl=https%3A%2F%2Fwww.spec-india.com%2Fwp-content%2Fuploads%2F2020%2F04%2Fmachine_learning.png&imgrefurl=https%3A%2F%2Fwww.spec-india.com%2Ftech-in-200-words%2Fwhat-is-machine-learning&tbnid=O7I__0d8vQb_NM&vet=12ahUKEwjjkv_qzYrvAhU2jEsFHSKYAl8QMygAegUIARCdAQ..i&docid=UrdN5NrinEtY-M&w=800&h=440&q=machine_learning&ved=2ahUKEwjjkv_qzYrvAhU2jEsFHSKYAl8QMygAegUIARCdAQ\n",
      "https://www.google.com/imgres?imgurl=https%3A%2F%2Fwww.spec-india.com%2Fwp-content%2Fuploads%2F2020%2F04%2Fmachine_learning.png&imgrefurl=https%3A%2F%2Fwww.spec-india.com%2Ftech-in-200-words%2Fwhat-is-machine-learning&tbnid=O7I__0d8vQb_NM&vet=12ahUKEwjjkv_qzYrvAhU2jEsFHSKYAl8QMygAegUIARCdAQ..i&docid=UrdN5NrinEtY-M&w=800&h=440&q=machine_learning&ved=2ahUKEwjjkv_qzYrvAhU2jEsFHSKYAl8QMygAegUIARCdAQ\n",
      "https://www.google.com/imgres?imgurl=https%3A%2F%2Fwww.spec-india.com%2Fwp-content%2Fuploads%2F2020%2F04%2Fmachine_learning.png&imgrefurl=https%3A%2F%2Fwww.spec-india.com%2Ftech-in-200-words%2Fwhat-is-machine-learning&tbnid=O7I__0d8vQb_NM&vet=12ahUKEwjjkv_qzYrvAhU2jEsFHSKYAl8QMygAegUIARCdAQ..i&docid=UrdN5NrinEtY-M&w=800&h=440&q=machine_learning&ved=2ahUKEwjjkv_qzYrvAhU2jEsFHSKYAl8QMygAegUIARCdAQ\n",
      "https://www.google.com/imgres?imgurl=https%3A%2F%2Fwww.spec-india.com%2Fwp-content%2Fuploads%2F2020%2F04%2Fmachine_learning.png&imgrefurl=https%3A%2F%2Fwww.spec-india.com%2Ftech-in-200-words%2Fwhat-is-machine-learning&tbnid=O7I__0d8vQb_NM&vet=12ahUKEwjjkv_qzYrvAhU2jEsFHSKYAl8QMygAegUIARCdAQ..i&docid=UrdN5NrinEtY-M&w=800&h=440&q=machine_learning&ved=2ahUKEwjjkv_qzYrvAhU2jEsFHSKYAl8QMygAegUIARCdAQ\n",
      "https://www.google.com/imgres?imgurl=https%3A%2F%2Fwww.spec-india.com%2Fwp-content%2Fuploads%2F2020%2F04%2Fmachine_learning.png&imgrefurl=https%3A%2F%2Fwww.spec-india.com%2Ftech-in-200-words%2Fwhat-is-machine-learning&tbnid=O7I__0d8vQb_NM&vet=12ahUKEwjjkv_qzYrvAhU2jEsFHSKYAl8QMygAegUIARCdAQ..i&docid=UrdN5NrinEtY-M&w=800&h=440&q=machine_learning&ved=2ahUKEwjjkv_qzYrvAhU2jEsFHSKYAl8QMygAegUIARCdAQ\n",
      "https://www.google.com/imgres?imgurl=https%3A%2F%2Fwww.spec-india.com%2Fwp-content%2Fuploads%2F2020%2F04%2Fmachine_learning.png&imgrefurl=https%3A%2F%2Fwww.spec-india.com%2Ftech-in-200-words%2Fwhat-is-machine-learning&tbnid=O7I__0d8vQb_NM&vet=12ahUKEwjjkv_qzYrvAhU2jEsFHSKYAl8QMygAegUIARCdAQ..i&docid=UrdN5NrinEtY-M&w=800&h=440&q=machine_learning&ved=2ahUKEwjjkv_qzYrvAhU2jEsFHSKYAl8QMygAegUIARCdAQ\n",
      "https://www.google.com/imgres?imgurl=https%3A%2F%2Fwww.spec-india.com%2Fwp-content%2Fuploads%2F2020%2F04%2Fmachine_learning.png&imgrefurl=https%3A%2F%2Fwww.spec-india.com%2Ftech-in-200-words%2Fwhat-is-machine-learning&tbnid=O7I__0d8vQb_NM&vet=12ahUKEwjjkv_qzYrvAhU2jEsFHSKYAl8QMygAegUIARCdAQ..i&docid=UrdN5NrinEtY-M&w=800&h=440&q=machine_learning&ved=2ahUKEwjjkv_qzYrvAhU2jEsFHSKYAl8QMygAegUIARCdAQ\n",
      "https://www.google.com/imgres?imgurl=https%3A%2F%2Fwww.spec-india.com%2Fwp-content%2Fuploads%2F2020%2F04%2Fmachine_learning.png&imgrefurl=https%3A%2F%2Fwww.spec-india.com%2Ftech-in-200-words%2Fwhat-is-machine-learning&tbnid=O7I__0d8vQb_NM&vet=12ahUKEwjjkv_qzYrvAhU2jEsFHSKYAl8QMygAegUIARCdAQ..i&docid=UrdN5NrinEtY-M&w=800&h=440&q=machine_learning&ved=2ahUKEwjjkv_qzYrvAhU2jEsFHSKYAl8QMygAegUIARCdAQ\n",
      "https://www.google.com/imgres?imgurl=https%3A%2F%2Fwww.spec-india.com%2Fwp-content%2Fuploads%2F2020%2F04%2Fmachine_learning.png&imgrefurl=https%3A%2F%2Fwww.spec-india.com%2Ftech-in-200-words%2Fwhat-is-machine-learning&tbnid=O7I__0d8vQb_NM&vet=12ahUKEwjjkv_qzYrvAhU2jEsFHSKYAl8QMygAegUIARCdAQ..i&docid=UrdN5NrinEtY-M&w=800&h=440&q=machine_learning&ved=2ahUKEwjjkv_qzYrvAhU2jEsFHSKYAl8QMygAegUIARCdAQ\n",
      "https://www.google.com/imgres?imgurl=https%3A%2F%2Fwww.spec-india.com%2Fwp-content%2Fuploads%2F2020%2F04%2Fmachine_learning.png&imgrefurl=https%3A%2F%2Fwww.spec-india.com%2Ftech-in-200-words%2Fwhat-is-machine-learning&tbnid=O7I__0d8vQb_NM&vet=12ahUKEwjjkv_qzYrvAhU2jEsFHSKYAl8QMygAegUIARCdAQ..i&docid=UrdN5NrinEtY-M&w=800&h=440&q=machine_learning&ved=2ahUKEwjjkv_qzYrvAhU2jEsFHSKYAl8QMygAegUIARCdAQ\n",
      "https://www.google.com/imgres?imgurl=https%3A%2F%2Fwww.spec-india.com%2Fwp-content%2Fuploads%2F2020%2F04%2Fmachine_learning.png&imgrefurl=https%3A%2F%2Fwww.spec-india.com%2Ftech-in-200-words%2Fwhat-is-machine-learning&tbnid=O7I__0d8vQb_NM&vet=12ahUKEwjjkv_qzYrvAhU2jEsFHSKYAl8QMygAegUIARCdAQ..i&docid=UrdN5NrinEtY-M&w=800&h=440&q=machine_learning&ved=2ahUKEwjjkv_qzYrvAhU2jEsFHSKYAl8QMygAegUIARCdAQ\n",
      "https://www.google.com/imgres?imgurl=https%3A%2F%2Fwww.spec-india.com%2Fwp-content%2Fuploads%2F2020%2F04%2Fmachine_learning.png&imgrefurl=https%3A%2F%2Fwww.spec-india.com%2Ftech-in-200-words%2Fwhat-is-machine-learning&tbnid=O7I__0d8vQb_NM&vet=12ahUKEwjjkv_qzYrvAhU2jEsFHSKYAl8QMygAegUIARCdAQ..i&docid=UrdN5NrinEtY-M&w=800&h=440&q=machine_learning&ved=2ahUKEwjjkv_qzYrvAhU2jEsFHSKYAl8QMygAegUIARCdAQ\n",
      "https://www.google.com/imgres?imgurl=https%3A%2F%2Fwww.spec-india.com%2Fwp-content%2Fuploads%2F2020%2F04%2Fmachine_learning.png&imgrefurl=https%3A%2F%2Fwww.spec-india.com%2Ftech-in-200-words%2Fwhat-is-machine-learning&tbnid=O7I__0d8vQb_NM&vet=12ahUKEwjjkv_qzYrvAhU2jEsFHSKYAl8QMygAegUIARCdAQ..i&docid=UrdN5NrinEtY-M&w=800&h=440&q=machine_learning&ved=2ahUKEwjjkv_qzYrvAhU2jEsFHSKYAl8QMygAegUIARCdAQ\n",
      "https://www.google.com/imgres?imgurl=https%3A%2F%2Fwww.spec-india.com%2Fwp-content%2Fuploads%2F2020%2F04%2Fmachine_learning.png&imgrefurl=https%3A%2F%2Fwww.spec-india.com%2Ftech-in-200-words%2Fwhat-is-machine-learning&tbnid=O7I__0d8vQb_NM&vet=12ahUKEwjjkv_qzYrvAhU2jEsFHSKYAl8QMygAegUIARCdAQ..i&docid=UrdN5NrinEtY-M&w=800&h=440&q=machine_learning&ved=2ahUKEwjjkv_qzYrvAhU2jEsFHSKYAl8QMygAegUIARCdAQ\n",
      "https://www.google.com/imgres?imgurl=https%3A%2F%2Fwww.spec-india.com%2Fwp-content%2Fuploads%2F2020%2F04%2Fmachine_learning.png&imgrefurl=https%3A%2F%2Fwww.spec-india.com%2Ftech-in-200-words%2Fwhat-is-machine-learning&tbnid=O7I__0d8vQb_NM&vet=12ahUKEwjjkv_qzYrvAhU2jEsFHSKYAl8QMygAegUIARCdAQ..i&docid=UrdN5NrinEtY-M&w=800&h=440&q=machine_learning&ved=2ahUKEwjjkv_qzYrvAhU2jEsFHSKYAl8QMygAegUIARCdAQ\n",
      "https://www.google.com/imgres?imgurl=https%3A%2F%2Fwww.spec-india.com%2Fwp-content%2Fuploads%2F2020%2F04%2Fmachine_learning.png&imgrefurl=https%3A%2F%2Fwww.spec-india.com%2Ftech-in-200-words%2Fwhat-is-machine-learning&tbnid=O7I__0d8vQb_NM&vet=12ahUKEwjjkv_qzYrvAhU2jEsFHSKYAl8QMygAegUIARCdAQ..i&docid=UrdN5NrinEtY-M&w=800&h=440&q=machine_learning&ved=2ahUKEwjjkv_qzYrvAhU2jEsFHSKYAl8QMygAegUIARCdAQ\n",
      "https://www.google.com/imgres?imgurl=https%3A%2F%2Fwww.spec-india.com%2Fwp-content%2Fuploads%2F2020%2F04%2Fmachine_learning.png&imgrefurl=https%3A%2F%2Fwww.spec-india.com%2Ftech-in-200-words%2Fwhat-is-machine-learning&tbnid=O7I__0d8vQb_NM&vet=12ahUKEwjjkv_qzYrvAhU2jEsFHSKYAl8QMygAegUIARCdAQ..i&docid=UrdN5NrinEtY-M&w=800&h=440&q=machine_learning&ved=2ahUKEwjjkv_qzYrvAhU2jEsFHSKYAl8QMygAegUIARCdAQ\n",
      "https://www.google.com/imgres?imgurl=https%3A%2F%2Fwww.spec-india.com%2Fwp-content%2Fuploads%2F2020%2F04%2Fmachine_learning.png&imgrefurl=https%3A%2F%2Fwww.spec-india.com%2Ftech-in-200-words%2Fwhat-is-machine-learning&tbnid=O7I__0d8vQb_NM&vet=12ahUKEwjjkv_qzYrvAhU2jEsFHSKYAl8QMygAegUIARCdAQ..i&docid=UrdN5NrinEtY-M&w=800&h=440&q=machine_learning&ved=2ahUKEwjjkv_qzYrvAhU2jEsFHSKYAl8QMygAegUIARCdAQ\n",
      "https://www.google.com/imgres?imgurl=https%3A%2F%2Fwww.spec-india.com%2Fwp-content%2Fuploads%2F2020%2F04%2Fmachine_learning.png&imgrefurl=https%3A%2F%2Fwww.spec-india.com%2Ftech-in-200-words%2Fwhat-is-machine-learning&tbnid=O7I__0d8vQb_NM&vet=12ahUKEwjjkv_qzYrvAhU2jEsFHSKYAl8QMygAegUIARCdAQ..i&docid=UrdN5NrinEtY-M&w=800&h=440&q=machine_learning&ved=2ahUKEwjjkv_qzYrvAhU2jEsFHSKYAl8QMygAegUIARCdAQ\n",
      "https://www.google.com/imgres?imgurl=https%3A%2F%2Fwww.spec-india.com%2Fwp-content%2Fuploads%2F2020%2F04%2Fmachine_learning.png&imgrefurl=https%3A%2F%2Fwww.spec-india.com%2Ftech-in-200-words%2Fwhat-is-machine-learning&tbnid=O7I__0d8vQb_NM&vet=12ahUKEwjjkv_qzYrvAhU2jEsFHSKYAl8QMygAegUIARCdAQ..i&docid=UrdN5NrinEtY-M&w=800&h=440&q=machine_learning&ved=2ahUKEwjjkv_qzYrvAhU2jEsFHSKYAl8QMygAegUIARCdAQ\n",
      "https://www.google.com/imgres?imgurl=https%3A%2F%2Fwww.spec-india.com%2Fwp-content%2Fuploads%2F2020%2F04%2Fmachine_learning.png&imgrefurl=https%3A%2F%2Fwww.spec-india.com%2Ftech-in-200-words%2Fwhat-is-machine-learning&tbnid=O7I__0d8vQb_NM&vet=12ahUKEwjjkv_qzYrvAhU2jEsFHSKYAl8QMygAegUIARCdAQ..i&docid=UrdN5NrinEtY-M&w=800&h=440&q=machine_learning&ved=2ahUKEwjjkv_qzYrvAhU2jEsFHSKYAl8QMygAegUIARCdAQ\n",
      "https://www.google.com/imgres?imgurl=https%3A%2F%2Fwww.spec-india.com%2Fwp-content%2Fuploads%2F2020%2F04%2Fmachine_learning.png&imgrefurl=https%3A%2F%2Fwww.spec-india.com%2Ftech-in-200-words%2Fwhat-is-machine-learning&tbnid=O7I__0d8vQb_NM&vet=12ahUKEwjjkv_qzYrvAhU2jEsFHSKYAl8QMygAegUIARCdAQ..i&docid=UrdN5NrinEtY-M&w=800&h=440&q=machine_learning&ved=2ahUKEwjjkv_qzYrvAhU2jEsFHSKYAl8QMygAegUIARCdAQ\n",
      "https://www.google.com/imgres?imgurl=https%3A%2F%2Fwww.spec-india.com%2Fwp-content%2Fuploads%2F2020%2F04%2Fmachine_learning.png&imgrefurl=https%3A%2F%2Fwww.spec-india.com%2Ftech-in-200-words%2Fwhat-is-machine-learning&tbnid=O7I__0d8vQb_NM&vet=12ahUKEwjjkv_qzYrvAhU2jEsFHSKYAl8QMygAegUIARCdAQ..i&docid=UrdN5NrinEtY-M&w=800&h=440&q=machine_learning&ved=2ahUKEwjjkv_qzYrvAhU2jEsFHSKYAl8QMygAegUIARCdAQ\n",
      "https://www.google.com/imgres?imgurl=https%3A%2F%2Fwww.spec-india.com%2Fwp-content%2Fuploads%2F2020%2F04%2Fmachine_learning.png&imgrefurl=https%3A%2F%2Fwww.spec-india.com%2Ftech-in-200-words%2Fwhat-is-machine-learning&tbnid=O7I__0d8vQb_NM&vet=12ahUKEwjjkv_qzYrvAhU2jEsFHSKYAl8QMygAegUIARCdAQ..i&docid=UrdN5NrinEtY-M&w=800&h=440&q=machine_learning&ved=2ahUKEwjjkv_qzYrvAhU2jEsFHSKYAl8QMygAegUIARCdAQ\n",
      "https://www.google.com/imgres?imgurl=https%3A%2F%2Fwww.spec-india.com%2Fwp-content%2Fuploads%2F2020%2F04%2Fmachine_learning.png&imgrefurl=https%3A%2F%2Fwww.spec-india.com%2Ftech-in-200-words%2Fwhat-is-machine-learning&tbnid=O7I__0d8vQb_NM&vet=12ahUKEwjjkv_qzYrvAhU2jEsFHSKYAl8QMygAegUIARCdAQ..i&docid=UrdN5NrinEtY-M&w=800&h=440&q=machine_learning&ved=2ahUKEwjjkv_qzYrvAhU2jEsFHSKYAl8QMygAegUIARCdAQ\n",
      "https://www.google.com/imgres?imgurl=https%3A%2F%2Fwww.spec-india.com%2Fwp-content%2Fuploads%2F2020%2F04%2Fmachine_learning.png&imgrefurl=https%3A%2F%2Fwww.spec-india.com%2Ftech-in-200-words%2Fwhat-is-machine-learning&tbnid=O7I__0d8vQb_NM&vet=12ahUKEwjjkv_qzYrvAhU2jEsFHSKYAl8QMygAegUIARCdAQ..i&docid=UrdN5NrinEtY-M&w=800&h=440&q=machine_learning&ved=2ahUKEwjjkv_qzYrvAhU2jEsFHSKYAl8QMygAegUIARCdAQ\n",
      "https://www.google.com/imgres?imgurl=https%3A%2F%2Fwww.spec-india.com%2Fwp-content%2Fuploads%2F2020%2F04%2Fmachine_learning.png&imgrefurl=https%3A%2F%2Fwww.spec-india.com%2Ftech-in-200-words%2Fwhat-is-machine-learning&tbnid=O7I__0d8vQb_NM&vet=12ahUKEwjjkv_qzYrvAhU2jEsFHSKYAl8QMygAegUIARCdAQ..i&docid=UrdN5NrinEtY-M&w=800&h=440&q=machine_learning&ved=2ahUKEwjjkv_qzYrvAhU2jEsFHSKYAl8QMygAegUIARCdAQ\n",
      "https://www.google.com/imgres?imgurl=https%3A%2F%2Fwww.spec-india.com%2Fwp-content%2Fuploads%2F2020%2F04%2Fmachine_learning.png&imgrefurl=https%3A%2F%2Fwww.spec-india.com%2Ftech-in-200-words%2Fwhat-is-machine-learning&tbnid=O7I__0d8vQb_NM&vet=12ahUKEwjjkv_qzYrvAhU2jEsFHSKYAl8QMygAegUIARCdAQ..i&docid=UrdN5NrinEtY-M&w=800&h=440&q=machine_learning&ved=2ahUKEwjjkv_qzYrvAhU2jEsFHSKYAl8QMygAegUIARCdAQ\n",
      "https://www.google.com/imgres?imgurl=https%3A%2F%2Fwww.spec-india.com%2Fwp-content%2Fuploads%2F2020%2F04%2Fmachine_learning.png&imgrefurl=https%3A%2F%2Fwww.spec-india.com%2Ftech-in-200-words%2Fwhat-is-machine-learning&tbnid=O7I__0d8vQb_NM&vet=12ahUKEwjjkv_qzYrvAhU2jEsFHSKYAl8QMygAegUIARCdAQ..i&docid=UrdN5NrinEtY-M&w=800&h=440&q=machine_learning&ved=2ahUKEwjjkv_qzYrvAhU2jEsFHSKYAl8QMygAegUIARCdAQ\n",
      "https://www.google.com/imgres?imgurl=https%3A%2F%2Fwww.spec-india.com%2Fwp-content%2Fuploads%2F2020%2F04%2Fmachine_learning.png&imgrefurl=https%3A%2F%2Fwww.spec-india.com%2Ftech-in-200-words%2Fwhat-is-machine-learning&tbnid=O7I__0d8vQb_NM&vet=12ahUKEwjjkv_qzYrvAhU2jEsFHSKYAl8QMygAegUIARCdAQ..i&docid=UrdN5NrinEtY-M&w=800&h=440&q=machine_learning&ved=2ahUKEwjjkv_qzYrvAhU2jEsFHSKYAl8QMygAegUIARCdAQ\n",
      "https://www.google.com/imgres?imgurl=https%3A%2F%2Fwww.spec-india.com%2Fwp-content%2Fuploads%2F2020%2F04%2Fmachine_learning.png&imgrefurl=https%3A%2F%2Fwww.spec-india.com%2Ftech-in-200-words%2Fwhat-is-machine-learning&tbnid=O7I__0d8vQb_NM&vet=12ahUKEwjjkv_qzYrvAhU2jEsFHSKYAl8QMygAegUIARCdAQ..i&docid=UrdN5NrinEtY-M&w=800&h=440&q=machine_learning&ved=2ahUKEwjjkv_qzYrvAhU2jEsFHSKYAl8QMygAegUIARCdAQ\n",
      "https://www.google.com/imgres?imgurl=https%3A%2F%2Fwww.spec-india.com%2Fwp-content%2Fuploads%2F2020%2F04%2Fmachine_learning.png&imgrefurl=https%3A%2F%2Fwww.spec-india.com%2Ftech-in-200-words%2Fwhat-is-machine-learning&tbnid=O7I__0d8vQb_NM&vet=12ahUKEwjjkv_qzYrvAhU2jEsFHSKYAl8QMygAegUIARCdAQ..i&docid=UrdN5NrinEtY-M&w=800&h=440&q=machine_learning&ved=2ahUKEwjjkv_qzYrvAhU2jEsFHSKYAl8QMygAegUIARCdAQ\n",
      "https://www.google.com/imgres?imgurl=https%3A%2F%2Fwww.spec-india.com%2Fwp-content%2Fuploads%2F2020%2F04%2Fmachine_learning.png&imgrefurl=https%3A%2F%2Fwww.spec-india.com%2Ftech-in-200-words%2Fwhat-is-machine-learning&tbnid=O7I__0d8vQb_NM&vet=12ahUKEwjjkv_qzYrvAhU2jEsFHSKYAl8QMygAegUIARCdAQ..i&docid=UrdN5NrinEtY-M&w=800&h=440&q=machine_learning&ved=2ahUKEwjjkv_qzYrvAhU2jEsFHSKYAl8QMygAegUIARCdAQ\n",
      "https://www.google.com/imgres?imgurl=https%3A%2F%2Fwww.spec-india.com%2Fwp-content%2Fuploads%2F2020%2F04%2Fmachine_learning.png&imgrefurl=https%3A%2F%2Fwww.spec-india.com%2Ftech-in-200-words%2Fwhat-is-machine-learning&tbnid=O7I__0d8vQb_NM&vet=12ahUKEwjjkv_qzYrvAhU2jEsFHSKYAl8QMygAegUIARCdAQ..i&docid=UrdN5NrinEtY-M&w=800&h=440&q=machine_learning&ved=2ahUKEwjjkv_qzYrvAhU2jEsFHSKYAl8QMygAegUIARCdAQ\n",
      "https://www.google.com/imgres?imgurl=https%3A%2F%2Fwww.spec-india.com%2Fwp-content%2Fuploads%2F2020%2F04%2Fmachine_learning.png&imgrefurl=https%3A%2F%2Fwww.spec-india.com%2Ftech-in-200-words%2Fwhat-is-machine-learning&tbnid=O7I__0d8vQb_NM&vet=12ahUKEwjjkv_qzYrvAhU2jEsFHSKYAl8QMygAegUIARCdAQ..i&docid=UrdN5NrinEtY-M&w=800&h=440&q=machine_learning&ved=2ahUKEwjjkv_qzYrvAhU2jEsFHSKYAl8QMygAegUIARCdAQ\n",
      "https://www.google.com/imgres?imgurl=https%3A%2F%2Fwww.spec-india.com%2Fwp-content%2Fuploads%2F2020%2F04%2Fmachine_learning.png&imgrefurl=https%3A%2F%2Fwww.spec-india.com%2Ftech-in-200-words%2Fwhat-is-machine-learning&tbnid=O7I__0d8vQb_NM&vet=12ahUKEwjjkv_qzYrvAhU2jEsFHSKYAl8QMygAegUIARCdAQ..i&docid=UrdN5NrinEtY-M&w=800&h=440&q=machine_learning&ved=2ahUKEwjjkv_qzYrvAhU2jEsFHSKYAl8QMygAegUIARCdAQ\n",
      "https://www.google.com/imgres?imgurl=https%3A%2F%2Fwww.spec-india.com%2Fwp-content%2Fuploads%2F2020%2F04%2Fmachine_learning.png&imgrefurl=https%3A%2F%2Fwww.spec-india.com%2Ftech-in-200-words%2Fwhat-is-machine-learning&tbnid=O7I__0d8vQb_NM&vet=12ahUKEwjjkv_qzYrvAhU2jEsFHSKYAl8QMygAegUIARCdAQ..i&docid=UrdN5NrinEtY-M&w=800&h=440&q=machine_learning&ved=2ahUKEwjjkv_qzYrvAhU2jEsFHSKYAl8QMygAegUIARCdAQ\n",
      "https://www.google.com/imgres?imgurl=https%3A%2F%2Fwww.spec-india.com%2Fwp-content%2Fuploads%2F2020%2F04%2Fmachine_learning.png&imgrefurl=https%3A%2F%2Fwww.spec-india.com%2Ftech-in-200-words%2Fwhat-is-machine-learning&tbnid=O7I__0d8vQb_NM&vet=12ahUKEwjjkv_qzYrvAhU2jEsFHSKYAl8QMygAegUIARCdAQ..i&docid=UrdN5NrinEtY-M&w=800&h=440&q=machine_learning&ved=2ahUKEwjjkv_qzYrvAhU2jEsFHSKYAl8QMygAegUIARCdAQ\n",
      "https://www.google.com/imgres?imgurl=https%3A%2F%2Fwww.spec-india.com%2Fwp-content%2Fuploads%2F2020%2F04%2Fmachine_learning.png&imgrefurl=https%3A%2F%2Fwww.spec-india.com%2Ftech-in-200-words%2Fwhat-is-machine-learning&tbnid=O7I__0d8vQb_NM&vet=12ahUKEwjjkv_qzYrvAhU2jEsFHSKYAl8QMygAegUIARCdAQ..i&docid=UrdN5NrinEtY-M&w=800&h=440&q=machine_learning&ved=2ahUKEwjjkv_qzYrvAhU2jEsFHSKYAl8QMygAegUIARCdAQ\n"
     ]
    }
   ],
   "source": [
    "for i in range(0,99):\n",
    "    print(driver.find_element_by_xpath(\"//a[@class='wXeWr islib nfEiy mM5pbd']\").get_attribute('href'))"
   ]
  },
  {
   "cell_type": "code",
   "execution_count": 52,
   "metadata": {},
   "outputs": [],
   "source": [
    "driver.close()"
   ]
  },
  {
   "cell_type": "markdown",
   "metadata": {},
   "source": [
    "#question 5"
   ]
  },
  {
   "cell_type": "code",
   "execution_count": 1,
   "metadata": {},
   "outputs": [],
   "source": [
    "import pandas as pd\n",
    "from bs4 import BeautifulSoup\n",
    "import requests\n",
    "import selenium\n",
    "from selenium import webdriver\n",
    "import time"
   ]
  },
  {
   "cell_type": "code",
   "execution_count": 2,
   "metadata": {},
   "outputs": [],
   "source": [
    "driver=webdriver.Chrome(\"Desktop/chromedriver.exe\")"
   ]
  },
  {
   "cell_type": "code",
   "execution_count": 3,
   "metadata": {},
   "outputs": [],
   "source": [
    "driver.get(\"https://www.google.co.in/maps/@19.6667543,78.5166615,14z\")"
   ]
  },
  {
   "cell_type": "code",
   "execution_count": 23,
   "metadata": {},
   "outputs": [],
   "source": [
    "search_city=driver.find_element_by_xpath(\"//*[@id='searchboxinput']\")\n",
    "search_city.send_keys(\"Hyderbad\")"
   ]
  },
  {
   "cell_type": "code",
   "execution_count": 24,
   "metadata": {},
   "outputs": [],
   "source": [
    "search_btn=driver.find_element_by_xpath(\"//*[@id='searchbox-searchbutton']\")\n",
    "search_btn.click()"
   ]
  },
  {
   "cell_type": "code",
   "execution_count": 25,
   "metadata": {},
   "outputs": [],
   "source": [
    "lat_lon=[]"
   ]
  },
  {
   "cell_type": "code",
   "execution_count": 27,
   "metadata": {},
   "outputs": [
    {
     "data": {
      "text/plain": [
       "[<selenium.webdriver.remote.webelement.WebElement (session=\"cff96908cc78bec4e678d88b8a15282d\", element=\"a8c2a761-335c-4a6b-815f-85c62705f754\")>]"
      ]
     },
     "execution_count": 27,
     "metadata": {},
     "output_type": "execute_result"
    }
   ],
   "source": [
    "titles_tag=driver.find_elements_by_xpath(\"//button[@class='link-like widget-reveal-card-lat-lng']\")\n",
    "titles_tag[0:9]"
   ]
  },
  {
   "cell_type": "code",
   "execution_count": 28,
   "metadata": {},
   "outputs": [
    {
     "data": {
      "text/plain": [
       "['17.204415, 78.089219']"
      ]
     },
     "execution_count": 28,
     "metadata": {},
     "output_type": "execute_result"
    }
   ],
   "source": [
    "for i in titles_tag:\n",
    "    lat_lon.append(i.text)\n",
    "lat_lon[0:9]"
   ]
  },
  {
   "cell_type": "markdown",
   "metadata": {},
   "source": [
    "#question 6"
   ]
  },
  {
   "cell_type": "code",
   "execution_count": 1,
   "metadata": {},
   "outputs": [],
   "source": [
    "import pandas as pd\n",
    "from bs4 import BeautifulSoup\n",
    "import requests\n",
    "import selenium\n",
    "from selenium import webdriver\n",
    "import time"
   ]
  },
  {
   "cell_type": "code",
   "execution_count": 2,
   "metadata": {},
   "outputs": [],
   "source": [
    "driver=webdriver.Chrome(\"Desktop/chromedriver.exe\")"
   ]
  },
  {
   "cell_type": "code",
   "execution_count": 3,
   "metadata": {},
   "outputs": [],
   "source": [
    "driver.get(\"https://www.trak.in/\")"
   ]
  },
  {
   "cell_type": "code",
   "execution_count": 4,
   "metadata": {},
   "outputs": [],
   "source": [
    "url=\"https://trak.in/india-startup-funding-investment-2015/\""
   ]
  },
  {
   "cell_type": "code",
   "execution_count": 5,
   "metadata": {},
   "outputs": [],
   "source": [
    "driver.get(url)"
   ]
  },
  {
   "cell_type": "code",
   "execution_count": 10,
   "metadata": {},
   "outputs": [],
   "source": [
    "date=[]\n",
    "startup=[]\n",
    "industry=[]\n",
    "sub-vertical=[]\n",
    "city=[]\n",
    "investors_name=[]\n",
    "investment_type=[]\n",
    "amount=[]"
   ]
  },
  {
   "cell_type": "code",
   "execution_count": 14,
   "metadata": {},
   "outputs": [
    {
     "data": {
      "text/plain": [
       "[<selenium.webdriver.remote.webelement.WebElement (session=\"476fdcf54cb595a8c7808c7d7c0ec8a4\", element=\"1ed0d9a9-918c-4af5-944b-ce96c3b7da42\")>]"
      ]
     },
     "execution_count": 14,
     "metadata": {},
     "output_type": "execute_result"
    }
   ],
   "source": [
    "date_tag=driver.find_elements_by_xpath(\"//*[@id='tablepress-48_wrapper']\")\n",
    "date_tag[0:1]\n",
    "date_tag=driver.find_elements_by_xpath(\"//*[@id='tablepress-49_wrapper']\")\n",
    "date_tag[0:1]\n",
    "date_tag=driver.find_elements_by_xpath(\"//*[@id='tablepress-50_wrapper']\")\n",
    "date_tag[0:1]"
   ]
  },
  {
   "cell_type": "code",
   "execution_count": 15,
   "metadata": {
    "scrolled": true
   },
   "outputs": [
    {
     "data": {
      "text/plain": [
       "[\"Show\\n10\\n25\\n50\\n100\\nentries\\nSearch:\\nSr. No. Date (dd/mm/yyyy) Startup Name Industry / Vertical Sub-Vertical City / Location Investors' Name Investment Type Amount (In USD)\\n1 15/07/2020 Flipkart E-commerce E-commerce Bangalore Walmart Inc\\nM&A 1,200,000,000\\n2 16/07/2020 Vedantu EduTech Online Tutoring Bangalore Coatue Management Series D 100,000,000\\n3 16/07/2020 Crio EduTech Learning Platform for Developers Bangalore 021 Capital pre-Series A 934,160\\n4 14/07/2020 goDutch FinTech Group Payments Mumbai Matrix India,Y Combinator, Global Founders Capital, Soma Capital, and VentureSouq. Seed 1,700,000\\n5 13/07/2020 Mystifly\\nAirfare Marketplace Ticketing, Airline Retailing, and Post-Ticketing Services Singapore and Bangalore Recruit Co. Ltd.\\n\\npre-Series B 3,300,000\\n6 09/07/2020 JetSynthesys Gaming and Entertainment Gaming and Entertainment\\n\\nPune Adar Poonawalla and Kris Gopalakrishnan.\\nVenture-Series Unknown 400,000\\n7 10/07/2020 gigIndia\\nMarketplace Crowd Sourcing, Freelance Pune Incubate Fund India and Beyond Next Ventures pre-Series A 974,200\\n8 15/07/2020 PumPumPum Automotive Rental Used Car-leasing platform Gurgaon Early Adapters Syndicate Seed 292,800\\n9 14/07/2020 FLYX OTT Player Streaming Social Network New York and Delhi Raj Mishra, founder of AIT Global Inc pre-Seed 200,000\\n10 13/07/2020 Open Appliances Pvt. Ltd. Information Technology Internet-of-Things Security Solutions Bangalore Unicorn India Ventures Venture-Series Unknown 500,000\\nShowing 1 to 10 of 10 entries\\nPreviousNext\"]"
      ]
     },
     "execution_count": 15,
     "metadata": {},
     "output_type": "execute_result"
    }
   ],
   "source": [
    "for i in date_tag:\n",
    "    date.append(i.text)\n",
    "date[0:1]"
   ]
  },
  {
   "cell_type": "code",
   "execution_count": 16,
   "metadata": {},
   "outputs": [
    {
     "data": {
      "text/plain": [
       "[<selenium.webdriver.remote.webelement.WebElement (session=\"476fdcf54cb595a8c7808c7d7c0ec8a4\", element=\"6628234d-c20d-49cd-b8cb-70e5d8d55843\")>]"
      ]
     },
     "execution_count": 16,
     "metadata": {},
     "output_type": "execute_result"
    }
   ],
   "source": [
    "startup_tag=driver.find_elements_by_xpath(\"//*[@id='tablepress-48_wrapper']\")\n",
    "startup_tag[0:3]\n",
    "//*[@id=\"tablepress-50_wrapper\"]/div[3]/div[1]/div/table/thead/tr/th[3]"
   ]
  },
  {
   "cell_type": "code",
   "execution_count": 11,
   "metadata": {},
   "outputs": [
    {
     "data": {
      "text/plain": [
       "[\"Show\\n10\\n25\\n50\\n100\\nentries\\nSearch:\\nSr. No. Date (dd/mm/yyyy) Startup Name Industry / Vertical Sub-Vertical City / Location Investors' Name Investment Type Amount (In USD)\\n1 15/07/2020 Flipkart E-commerce E-commerce Bangalore Walmart Inc\\nM&A 1,200,000,000\\n2 16/07/2020 Vedantu EduTech Online Tutoring Bangalore Coatue Management Series D 100,000,000\\n3 16/07/2020 Crio EduTech Learning Platform for Developers Bangalore 021 Capital pre-Series A 934,160\\n4 14/07/2020 goDutch FinTech Group Payments Mumbai Matrix India,Y Combinator, Global Founders Capital, Soma Capital, and VentureSouq. Seed 1,700,000\\n5 13/07/2020 Mystifly\\nAirfare Marketplace Ticketing, Airline Retailing, and Post-Ticketing Services Singapore and Bangalore Recruit Co. Ltd.\\n\\npre-Series B 3,300,000\\n6 09/07/2020 JetSynthesys Gaming and Entertainment Gaming and Entertainment\\n\\nPune Adar Poonawalla and Kris Gopalakrishnan.\\nVenture-Series Unknown 400,000\\n7 10/07/2020 gigIndia\\nMarketplace Crowd Sourcing, Freelance Pune Incubate Fund India and Beyond Next Ventures pre-Series A 974,200\\n8 15/07/2020 PumPumPum Automotive Rental Used Car-leasing platform Gurgaon Early Adapters Syndicate Seed 292,800\\n9 14/07/2020 FLYX OTT Player Streaming Social Network New York and Delhi Raj Mishra, founder of AIT Global Inc pre-Seed 200,000\\n10 13/07/2020 Open Appliances Pvt. Ltd. Information Technology Internet-of-Things Security Solutions Bangalore Unicorn India Ventures Venture-Series Unknown 500,000\\nShowing 1 to 10 of 10 entries\\nPreviousNext\"]"
      ]
     },
     "execution_count": 11,
     "metadata": {},
     "output_type": "execute_result"
    }
   ],
   "source": [
    "for i in startup_tag:\n",
    "    startup.append(i.text)\n",
    "startup[0:3]"
   ]
  },
  {
   "cell_type": "markdown",
   "metadata": {},
   "source": [
    "#question 7"
   ]
  },
  {
   "cell_type": "code",
   "execution_count": 25,
   "metadata": {},
   "outputs": [],
   "source": [
    "import pandas as pd\n",
    "from bs4 import BeautifulSoup\n",
    "import requests\n",
    "import selenium\n",
    "from selenium import webdriver\n",
    "import time"
   ]
  },
  {
   "cell_type": "code",
   "execution_count": 26,
   "metadata": {},
   "outputs": [],
   "source": [
    "driver=webdriver.Chrome(\"Desktop/chromedriver.exe\")"
   ]
  },
  {
   "cell_type": "code",
   "execution_count": 27,
   "metadata": {},
   "outputs": [],
   "source": [
    "driver.get(\"https://www.digit.in/\")"
   ]
  },
  {
   "cell_type": "code",
   "execution_count": 28,
   "metadata": {},
   "outputs": [],
   "source": [
    "driver.get(\"https://www.digit.in/search/?keyword=top%2010%20gaming%20laptops\")"
   ]
  },
  {
   "cell_type": "code",
   "execution_count": 103,
   "metadata": {},
   "outputs": [],
   "source": [
    "driver.get(url)"
   ]
  },
  {
   "cell_type": "code",
   "execution_count": 32,
   "metadata": {},
   "outputs": [],
   "source": [
    "lapy1=[]"
   ]
  },
  {
   "cell_type": "code",
   "execution_count": 30,
   "metadata": {},
   "outputs": [
    {
     "data": {
      "text/plain": [
       "[<selenium.webdriver.remote.webelement.WebElement (session=\"9202fa0aa1feb3d186f7beb4961c0954\", element=\"a64f59dc-73e3-4a42-a041-19e03fc5c417\")>,\n",
       " <selenium.webdriver.remote.webelement.WebElement (session=\"9202fa0aa1feb3d186f7beb4961c0954\", element=\"a5f59340-d03a-4cdf-b4f9-33e1b30cf8be\")>,\n",
       " <selenium.webdriver.remote.webelement.WebElement (session=\"9202fa0aa1feb3d186f7beb4961c0954\", element=\"0f0d415c-981e-4262-91a4-f566fbce6efc\")>,\n",
       " <selenium.webdriver.remote.webelement.WebElement (session=\"9202fa0aa1feb3d186f7beb4961c0954\", element=\"a805f58f-dab4-4ce5-b902-1ee1fd0d1275\")>,\n",
       " <selenium.webdriver.remote.webelement.WebElement (session=\"9202fa0aa1feb3d186f7beb4961c0954\", element=\"d62067dd-8868-4341-aa89-76a30be14318\")>,\n",
       " <selenium.webdriver.remote.webelement.WebElement (session=\"9202fa0aa1feb3d186f7beb4961c0954\", element=\"0dbe5f90-83bf-4e0a-b82f-fe7a7c5db07f\")>,\n",
       " <selenium.webdriver.remote.webelement.WebElement (session=\"9202fa0aa1feb3d186f7beb4961c0954\", element=\"0b74603b-f488-45ee-ba0f-87bdbd78d4a2\")>,\n",
       " <selenium.webdriver.remote.webelement.WebElement (session=\"9202fa0aa1feb3d186f7beb4961c0954\", element=\"6496807f-b2c4-4be9-9d6e-81032340d788\")>,\n",
       " <selenium.webdriver.remote.webelement.WebElement (session=\"9202fa0aa1feb3d186f7beb4961c0954\", element=\"d0ad47dc-02a3-468b-abcd-975e9133bad1\")>]"
      ]
     },
     "execution_count": 30,
     "metadata": {},
     "output_type": "execute_result"
    }
   ],
   "source": [
    "lapy1_tag=driver.find_elements_by_xpath(\"//div[@class='searchProduct-desc']\")\n",
    "lapy1_tag[0:9]      "
   ]
  },
  {
   "cell_type": "code",
   "execution_count": 31,
   "metadata": {},
   "outputs": [
    {
     "data": {
      "text/plain": [
       "['Asus G750JX-CV069P',\n",
       " 'HP Envy 15-k006tx',\n",
       " \"ASUS G53J - A 3D gamer's delight but we want more\",\n",
       " 'Lenovo IdeaPad Y570',\n",
       " 'ASUS ROG Cetra',\n",
       " 'HP Pavilion g6 - Multimedia and gaming on a budget',\n",
       " 'Top gaming laptops to target',\n",
       " 'Top high-end gaming laptops',\n",
       " 'Top gaming laptops under Rs 1 lakh']"
      ]
     },
     "execution_count": 31,
     "metadata": {},
     "output_type": "execute_result"
    }
   ],
   "source": [
    "for i in lapy1_tag:\n",
    "    lapy1.append(i.text)\n",
    "lapy1[0:9]"
   ]
  }
 ],
 "metadata": {
  "kernelspec": {
   "display_name": "Python 3",
   "language": "python",
   "name": "python3"
  },
  "language_info": {
   "codemirror_mode": {
    "name": "ipython",
    "version": 3
   },
   "file_extension": ".py",
   "mimetype": "text/x-python",
   "name": "python",
   "nbconvert_exporter": "python",
   "pygments_lexer": "ipython3",
   "version": "3.8.3"
  }
 },
 "nbformat": 4,
 "nbformat_minor": 4
}
